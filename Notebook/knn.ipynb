{
 "cells": [
  {
   "cell_type": "code",
   "execution_count": 1,
   "metadata": {},
   "outputs": [],
   "source": [
    "import pandas as pd\n",
    "import matplotlib.pyplot as plt\n",
    "import numpy as np\n",
    "import seaborn as sns\n",
    "import pickle\n",
    "import scipy.optimize\n",
    "from sklearn.model_selection import train_test_split \n",
    "from sklearn.linear_model import LinearRegression\n",
    "from sklearn.metrics import classification_report, confusion_matrix, accuracy_score\n",
    "from scipy.optimize import curve_fit\n",
    "from sklearn import preprocessing\n",
    "from sklearn.feature_selection import SelectKBest\n",
    "from sklearn.feature_selection import chi2\n",
    "from sklearn.neighbors import KNeighborsClassifier\n",
    "from sklearn.metrics import classification_report\n",
    "from sklearn import metrics\n"
   ]
  },
  {
   "cell_type": "code",
   "execution_count": null,
   "metadata": {},
   "outputs": [],
   "source": [
    "# df2 = pd.read_csv('test_HP.csv')\n",
    "# df2.shape"
   ]
  },
  {
   "cell_type": "code",
   "execution_count": 2,
   "metadata": {},
   "outputs": [
    {
     "data": {
      "text/plain": [
       "(2000, 21)"
      ]
     },
     "execution_count": 2,
     "metadata": {},
     "output_type": "execute_result"
    }
   ],
   "source": [
    "df = pd.read_csv('train_HP.csv', delimiter = ',')\n",
    "df.shape"
   ]
  },
  {
   "cell_type": "code",
   "execution_count": 3,
   "metadata": {},
   "outputs": [],
   "source": [
    "df =df[(df.sc_w > 0)] #lebar tidak mungkin 0\n",
    "df =df[(df.px_height > 0)] #pixel tinggi tidak mungkin 0"
   ]
  },
  {
   "cell_type": "code",
   "execution_count": 4,
   "metadata": {},
   "outputs": [
    {
     "data": {
      "text/plain": [
       "(1819, 21)"
      ]
     },
     "execution_count": 4,
     "metadata": {},
     "output_type": "execute_result"
    }
   ],
   "source": [
    "df.shape"
   ]
  },
  {
   "cell_type": "code",
   "execution_count": 11,
   "metadata": {},
   "outputs": [
    {
     "data": {
      "text/html": [
       "<div>\n",
       "<style scoped>\n",
       "    .dataframe tbody tr th:only-of-type {\n",
       "        vertical-align: middle;\n",
       "    }\n",
       "\n",
       "    .dataframe tbody tr th {\n",
       "        vertical-align: top;\n",
       "    }\n",
       "\n",
       "    .dataframe thead th {\n",
       "        text-align: right;\n",
       "    }\n",
       "</style>\n",
       "<table border=\"1\" class=\"dataframe\">\n",
       "  <thead>\n",
       "    <tr style=\"text-align: right;\">\n",
       "      <th></th>\n",
       "      <th>battery_power</th>\n",
       "      <th>blue</th>\n",
       "      <th>clock_speed</th>\n",
       "      <th>dual_sim</th>\n",
       "      <th>fc</th>\n",
       "      <th>four_g</th>\n",
       "      <th>int_memory</th>\n",
       "      <th>m_dep</th>\n",
       "      <th>mobile_wt</th>\n",
       "      <th>n_cores</th>\n",
       "      <th>...</th>\n",
       "      <th>px_height</th>\n",
       "      <th>px_width</th>\n",
       "      <th>ram</th>\n",
       "      <th>sc_h</th>\n",
       "      <th>sc_w</th>\n",
       "      <th>talk_time</th>\n",
       "      <th>three_g</th>\n",
       "      <th>touch_screen</th>\n",
       "      <th>wifi</th>\n",
       "      <th>price_range</th>\n",
       "    </tr>\n",
       "  </thead>\n",
       "  <tbody>\n",
       "    <tr>\n",
       "      <th>0</th>\n",
       "      <td>842</td>\n",
       "      <td>0</td>\n",
       "      <td>2.2</td>\n",
       "      <td>0</td>\n",
       "      <td>1</td>\n",
       "      <td>0</td>\n",
       "      <td>7</td>\n",
       "      <td>0.6</td>\n",
       "      <td>188</td>\n",
       "      <td>2</td>\n",
       "      <td>...</td>\n",
       "      <td>20</td>\n",
       "      <td>756</td>\n",
       "      <td>2549</td>\n",
       "      <td>9</td>\n",
       "      <td>7</td>\n",
       "      <td>19</td>\n",
       "      <td>0</td>\n",
       "      <td>0</td>\n",
       "      <td>1</td>\n",
       "      <td>1</td>\n",
       "    </tr>\n",
       "    <tr>\n",
       "      <th>1</th>\n",
       "      <td>1021</td>\n",
       "      <td>1</td>\n",
       "      <td>0.5</td>\n",
       "      <td>1</td>\n",
       "      <td>0</td>\n",
       "      <td>1</td>\n",
       "      <td>53</td>\n",
       "      <td>0.7</td>\n",
       "      <td>136</td>\n",
       "      <td>3</td>\n",
       "      <td>...</td>\n",
       "      <td>905</td>\n",
       "      <td>1988</td>\n",
       "      <td>2631</td>\n",
       "      <td>17</td>\n",
       "      <td>3</td>\n",
       "      <td>7</td>\n",
       "      <td>1</td>\n",
       "      <td>1</td>\n",
       "      <td>0</td>\n",
       "      <td>2</td>\n",
       "    </tr>\n",
       "    <tr>\n",
       "      <th>2</th>\n",
       "      <td>563</td>\n",
       "      <td>1</td>\n",
       "      <td>0.5</td>\n",
       "      <td>1</td>\n",
       "      <td>2</td>\n",
       "      <td>1</td>\n",
       "      <td>41</td>\n",
       "      <td>0.9</td>\n",
       "      <td>145</td>\n",
       "      <td>5</td>\n",
       "      <td>...</td>\n",
       "      <td>1263</td>\n",
       "      <td>1716</td>\n",
       "      <td>2603</td>\n",
       "      <td>11</td>\n",
       "      <td>2</td>\n",
       "      <td>9</td>\n",
       "      <td>1</td>\n",
       "      <td>1</td>\n",
       "      <td>0</td>\n",
       "      <td>2</td>\n",
       "    </tr>\n",
       "    <tr>\n",
       "      <th>3</th>\n",
       "      <td>615</td>\n",
       "      <td>1</td>\n",
       "      <td>2.5</td>\n",
       "      <td>0</td>\n",
       "      <td>0</td>\n",
       "      <td>0</td>\n",
       "      <td>10</td>\n",
       "      <td>0.8</td>\n",
       "      <td>131</td>\n",
       "      <td>6</td>\n",
       "      <td>...</td>\n",
       "      <td>1216</td>\n",
       "      <td>1786</td>\n",
       "      <td>2769</td>\n",
       "      <td>16</td>\n",
       "      <td>8</td>\n",
       "      <td>11</td>\n",
       "      <td>1</td>\n",
       "      <td>0</td>\n",
       "      <td>0</td>\n",
       "      <td>2</td>\n",
       "    </tr>\n",
       "    <tr>\n",
       "      <th>4</th>\n",
       "      <td>1821</td>\n",
       "      <td>1</td>\n",
       "      <td>1.2</td>\n",
       "      <td>0</td>\n",
       "      <td>13</td>\n",
       "      <td>1</td>\n",
       "      <td>44</td>\n",
       "      <td>0.6</td>\n",
       "      <td>141</td>\n",
       "      <td>2</td>\n",
       "      <td>...</td>\n",
       "      <td>1208</td>\n",
       "      <td>1212</td>\n",
       "      <td>1411</td>\n",
       "      <td>8</td>\n",
       "      <td>2</td>\n",
       "      <td>15</td>\n",
       "      <td>1</td>\n",
       "      <td>1</td>\n",
       "      <td>0</td>\n",
       "      <td>1</td>\n",
       "    </tr>\n",
       "  </tbody>\n",
       "</table>\n",
       "<p>5 rows × 21 columns</p>\n",
       "</div>"
      ],
      "text/plain": [
       "   battery_power  blue  clock_speed  dual_sim  fc  four_g  int_memory  m_dep  \\\n",
       "0            842     0          2.2         0   1       0           7    0.6   \n",
       "1           1021     1          0.5         1   0       1          53    0.7   \n",
       "2            563     1          0.5         1   2       1          41    0.9   \n",
       "3            615     1          2.5         0   0       0          10    0.8   \n",
       "4           1821     1          1.2         0  13       1          44    0.6   \n",
       "\n",
       "   mobile_wt  n_cores  ...  px_height  px_width   ram  sc_h  sc_w  talk_time  \\\n",
       "0        188        2  ...         20       756  2549     9     7         19   \n",
       "1        136        3  ...        905      1988  2631    17     3          7   \n",
       "2        145        5  ...       1263      1716  2603    11     2          9   \n",
       "3        131        6  ...       1216      1786  2769    16     8         11   \n",
       "4        141        2  ...       1208      1212  1411     8     2         15   \n",
       "\n",
       "   three_g  touch_screen  wifi  price_range  \n",
       "0        0             0     1            1  \n",
       "1        1             1     0            2  \n",
       "2        1             1     0            2  \n",
       "3        1             0     0            2  \n",
       "4        1             1     0            1  \n",
       "\n",
       "[5 rows x 21 columns]"
      ]
     },
     "execution_count": 11,
     "metadata": {},
     "output_type": "execute_result"
    }
   ],
   "source": [
    "df.head()"
   ]
  },
  {
   "cell_type": "code",
   "execution_count": 8,
   "metadata": {},
   "outputs": [
    {
     "name": "stdout",
     "output_type": "stream",
     "text": [
      "<class 'pandas.core.frame.DataFrame'>\n",
      "RangeIndex: 2000 entries, 0 to 1999\n",
      "Data columns (total 21 columns):\n",
      " #   Column         Non-Null Count  Dtype  \n",
      "---  ------         --------------  -----  \n",
      " 0   battery_power  2000 non-null   int64  \n",
      " 1   blue           2000 non-null   int64  \n",
      " 2   clock_speed    2000 non-null   float64\n",
      " 3   dual_sim       2000 non-null   int64  \n",
      " 4   fc             2000 non-null   int64  \n",
      " 5   four_g         2000 non-null   int64  \n",
      " 6   int_memory     2000 non-null   int64  \n",
      " 7   m_dep          2000 non-null   float64\n",
      " 8   mobile_wt      2000 non-null   int64  \n",
      " 9   n_cores        2000 non-null   int64  \n",
      " 10  pc             2000 non-null   int64  \n",
      " 11  px_height      2000 non-null   int64  \n",
      " 12  px_width       2000 non-null   int64  \n",
      " 13  ram            2000 non-null   int64  \n",
      " 14  sc_h           2000 non-null   int64  \n",
      " 15  sc_w           2000 non-null   int64  \n",
      " 16  talk_time      2000 non-null   int64  \n",
      " 17  three_g        2000 non-null   int64  \n",
      " 18  touch_screen   2000 non-null   int64  \n",
      " 19  wifi           2000 non-null   int64  \n",
      " 20  price_range    2000 non-null   int64  \n",
      "dtypes: float64(2), int64(19)\n",
      "memory usage: 328.2 KB\n"
     ]
    }
   ],
   "source": [
    "df.info()"
   ]
  },
  {
   "cell_type": "code",
   "execution_count": 10,
   "metadata": {},
   "outputs": [
    {
     "data": {
      "text/plain": [
       "0       False\n",
       "1       False\n",
       "2       False\n",
       "3       False\n",
       "4       False\n",
       "        ...  \n",
       "1995    False\n",
       "1996    False\n",
       "1997    False\n",
       "1998    False\n",
       "1999    False\n",
       "Length: 2000, dtype: bool"
      ]
     },
     "execution_count": 10,
     "metadata": {},
     "output_type": "execute_result"
    }
   ],
   "source": [
    "df.duplicated()"
   ]
  },
  {
   "cell_type": "code",
   "execution_count": 6,
   "metadata": {},
   "outputs": [
    {
     "data": {
      "text/html": [
       "<div>\n",
       "<style scoped>\n",
       "    .dataframe tbody tr th:only-of-type {\n",
       "        vertical-align: middle;\n",
       "    }\n",
       "\n",
       "    .dataframe tbody tr th {\n",
       "        vertical-align: top;\n",
       "    }\n",
       "\n",
       "    .dataframe thead th {\n",
       "        text-align: right;\n",
       "    }\n",
       "</style>\n",
       "<table border=\"1\" class=\"dataframe\">\n",
       "  <thead>\n",
       "    <tr style=\"text-align: right;\">\n",
       "      <th></th>\n",
       "      <th>battery_power</th>\n",
       "      <th>blue</th>\n",
       "      <th>clock_speed</th>\n",
       "      <th>dual_sim</th>\n",
       "      <th>fc</th>\n",
       "      <th>four_g</th>\n",
       "      <th>int_memory</th>\n",
       "      <th>m_dep</th>\n",
       "      <th>mobile_wt</th>\n",
       "      <th>n_cores</th>\n",
       "      <th>...</th>\n",
       "      <th>px_height</th>\n",
       "      <th>px_width</th>\n",
       "      <th>ram</th>\n",
       "      <th>sc_h</th>\n",
       "      <th>sc_w</th>\n",
       "      <th>talk_time</th>\n",
       "      <th>three_g</th>\n",
       "      <th>touch_screen</th>\n",
       "      <th>wifi</th>\n",
       "      <th>price_range</th>\n",
       "    </tr>\n",
       "  </thead>\n",
       "  <tbody>\n",
       "    <tr>\n",
       "      <th>count</th>\n",
       "      <td>2000.000000</td>\n",
       "      <td>2000.0000</td>\n",
       "      <td>2000.000000</td>\n",
       "      <td>2000.000000</td>\n",
       "      <td>2000.000000</td>\n",
       "      <td>2000.000000</td>\n",
       "      <td>2000.000000</td>\n",
       "      <td>2000.000000</td>\n",
       "      <td>2000.000000</td>\n",
       "      <td>2000.000000</td>\n",
       "      <td>...</td>\n",
       "      <td>2000.000000</td>\n",
       "      <td>2000.000000</td>\n",
       "      <td>2000.000000</td>\n",
       "      <td>2000.000000</td>\n",
       "      <td>2000.000000</td>\n",
       "      <td>2000.000000</td>\n",
       "      <td>2000.000000</td>\n",
       "      <td>2000.000000</td>\n",
       "      <td>2000.000000</td>\n",
       "      <td>2000.000000</td>\n",
       "    </tr>\n",
       "    <tr>\n",
       "      <th>mean</th>\n",
       "      <td>1238.518500</td>\n",
       "      <td>0.4950</td>\n",
       "      <td>1.522250</td>\n",
       "      <td>0.509500</td>\n",
       "      <td>4.309500</td>\n",
       "      <td>0.521500</td>\n",
       "      <td>32.046500</td>\n",
       "      <td>0.501750</td>\n",
       "      <td>140.249000</td>\n",
       "      <td>4.520500</td>\n",
       "      <td>...</td>\n",
       "      <td>645.108000</td>\n",
       "      <td>1251.515500</td>\n",
       "      <td>2124.213000</td>\n",
       "      <td>12.306500</td>\n",
       "      <td>5.767000</td>\n",
       "      <td>11.011000</td>\n",
       "      <td>0.761500</td>\n",
       "      <td>0.503000</td>\n",
       "      <td>0.507000</td>\n",
       "      <td>1.500000</td>\n",
       "    </tr>\n",
       "    <tr>\n",
       "      <th>std</th>\n",
       "      <td>439.418206</td>\n",
       "      <td>0.5001</td>\n",
       "      <td>0.816004</td>\n",
       "      <td>0.500035</td>\n",
       "      <td>4.341444</td>\n",
       "      <td>0.499662</td>\n",
       "      <td>18.145715</td>\n",
       "      <td>0.288416</td>\n",
       "      <td>35.399655</td>\n",
       "      <td>2.287837</td>\n",
       "      <td>...</td>\n",
       "      <td>443.780811</td>\n",
       "      <td>432.199447</td>\n",
       "      <td>1084.732044</td>\n",
       "      <td>4.213245</td>\n",
       "      <td>4.356398</td>\n",
       "      <td>5.463955</td>\n",
       "      <td>0.426273</td>\n",
       "      <td>0.500116</td>\n",
       "      <td>0.500076</td>\n",
       "      <td>1.118314</td>\n",
       "    </tr>\n",
       "    <tr>\n",
       "      <th>min</th>\n",
       "      <td>501.000000</td>\n",
       "      <td>0.0000</td>\n",
       "      <td>0.500000</td>\n",
       "      <td>0.000000</td>\n",
       "      <td>0.000000</td>\n",
       "      <td>0.000000</td>\n",
       "      <td>2.000000</td>\n",
       "      <td>0.100000</td>\n",
       "      <td>80.000000</td>\n",
       "      <td>1.000000</td>\n",
       "      <td>...</td>\n",
       "      <td>0.000000</td>\n",
       "      <td>500.000000</td>\n",
       "      <td>256.000000</td>\n",
       "      <td>5.000000</td>\n",
       "      <td>0.000000</td>\n",
       "      <td>2.000000</td>\n",
       "      <td>0.000000</td>\n",
       "      <td>0.000000</td>\n",
       "      <td>0.000000</td>\n",
       "      <td>0.000000</td>\n",
       "    </tr>\n",
       "    <tr>\n",
       "      <th>25%</th>\n",
       "      <td>851.750000</td>\n",
       "      <td>0.0000</td>\n",
       "      <td>0.700000</td>\n",
       "      <td>0.000000</td>\n",
       "      <td>1.000000</td>\n",
       "      <td>0.000000</td>\n",
       "      <td>16.000000</td>\n",
       "      <td>0.200000</td>\n",
       "      <td>109.000000</td>\n",
       "      <td>3.000000</td>\n",
       "      <td>...</td>\n",
       "      <td>282.750000</td>\n",
       "      <td>874.750000</td>\n",
       "      <td>1207.500000</td>\n",
       "      <td>9.000000</td>\n",
       "      <td>2.000000</td>\n",
       "      <td>6.000000</td>\n",
       "      <td>1.000000</td>\n",
       "      <td>0.000000</td>\n",
       "      <td>0.000000</td>\n",
       "      <td>0.750000</td>\n",
       "    </tr>\n",
       "    <tr>\n",
       "      <th>50%</th>\n",
       "      <td>1226.000000</td>\n",
       "      <td>0.0000</td>\n",
       "      <td>1.500000</td>\n",
       "      <td>1.000000</td>\n",
       "      <td>3.000000</td>\n",
       "      <td>1.000000</td>\n",
       "      <td>32.000000</td>\n",
       "      <td>0.500000</td>\n",
       "      <td>141.000000</td>\n",
       "      <td>4.000000</td>\n",
       "      <td>...</td>\n",
       "      <td>564.000000</td>\n",
       "      <td>1247.000000</td>\n",
       "      <td>2146.500000</td>\n",
       "      <td>12.000000</td>\n",
       "      <td>5.000000</td>\n",
       "      <td>11.000000</td>\n",
       "      <td>1.000000</td>\n",
       "      <td>1.000000</td>\n",
       "      <td>1.000000</td>\n",
       "      <td>1.500000</td>\n",
       "    </tr>\n",
       "    <tr>\n",
       "      <th>75%</th>\n",
       "      <td>1615.250000</td>\n",
       "      <td>1.0000</td>\n",
       "      <td>2.200000</td>\n",
       "      <td>1.000000</td>\n",
       "      <td>7.000000</td>\n",
       "      <td>1.000000</td>\n",
       "      <td>48.000000</td>\n",
       "      <td>0.800000</td>\n",
       "      <td>170.000000</td>\n",
       "      <td>7.000000</td>\n",
       "      <td>...</td>\n",
       "      <td>947.250000</td>\n",
       "      <td>1633.000000</td>\n",
       "      <td>3064.500000</td>\n",
       "      <td>16.000000</td>\n",
       "      <td>9.000000</td>\n",
       "      <td>16.000000</td>\n",
       "      <td>1.000000</td>\n",
       "      <td>1.000000</td>\n",
       "      <td>1.000000</td>\n",
       "      <td>2.250000</td>\n",
       "    </tr>\n",
       "    <tr>\n",
       "      <th>max</th>\n",
       "      <td>1998.000000</td>\n",
       "      <td>1.0000</td>\n",
       "      <td>3.000000</td>\n",
       "      <td>1.000000</td>\n",
       "      <td>19.000000</td>\n",
       "      <td>1.000000</td>\n",
       "      <td>64.000000</td>\n",
       "      <td>1.000000</td>\n",
       "      <td>200.000000</td>\n",
       "      <td>8.000000</td>\n",
       "      <td>...</td>\n",
       "      <td>1960.000000</td>\n",
       "      <td>1998.000000</td>\n",
       "      <td>3998.000000</td>\n",
       "      <td>19.000000</td>\n",
       "      <td>18.000000</td>\n",
       "      <td>20.000000</td>\n",
       "      <td>1.000000</td>\n",
       "      <td>1.000000</td>\n",
       "      <td>1.000000</td>\n",
       "      <td>3.000000</td>\n",
       "    </tr>\n",
       "  </tbody>\n",
       "</table>\n",
       "<p>8 rows × 21 columns</p>\n",
       "</div>"
      ],
      "text/plain": [
       "       battery_power       blue  clock_speed     dual_sim           fc  \\\n",
       "count    2000.000000  2000.0000  2000.000000  2000.000000  2000.000000   \n",
       "mean     1238.518500     0.4950     1.522250     0.509500     4.309500   \n",
       "std       439.418206     0.5001     0.816004     0.500035     4.341444   \n",
       "min       501.000000     0.0000     0.500000     0.000000     0.000000   \n",
       "25%       851.750000     0.0000     0.700000     0.000000     1.000000   \n",
       "50%      1226.000000     0.0000     1.500000     1.000000     3.000000   \n",
       "75%      1615.250000     1.0000     2.200000     1.000000     7.000000   \n",
       "max      1998.000000     1.0000     3.000000     1.000000    19.000000   \n",
       "\n",
       "            four_g   int_memory        m_dep    mobile_wt      n_cores  ...  \\\n",
       "count  2000.000000  2000.000000  2000.000000  2000.000000  2000.000000  ...   \n",
       "mean      0.521500    32.046500     0.501750   140.249000     4.520500  ...   \n",
       "std       0.499662    18.145715     0.288416    35.399655     2.287837  ...   \n",
       "min       0.000000     2.000000     0.100000    80.000000     1.000000  ...   \n",
       "25%       0.000000    16.000000     0.200000   109.000000     3.000000  ...   \n",
       "50%       1.000000    32.000000     0.500000   141.000000     4.000000  ...   \n",
       "75%       1.000000    48.000000     0.800000   170.000000     7.000000  ...   \n",
       "max       1.000000    64.000000     1.000000   200.000000     8.000000  ...   \n",
       "\n",
       "         px_height     px_width          ram         sc_h         sc_w  \\\n",
       "count  2000.000000  2000.000000  2000.000000  2000.000000  2000.000000   \n",
       "mean    645.108000  1251.515500  2124.213000    12.306500     5.767000   \n",
       "std     443.780811   432.199447  1084.732044     4.213245     4.356398   \n",
       "min       0.000000   500.000000   256.000000     5.000000     0.000000   \n",
       "25%     282.750000   874.750000  1207.500000     9.000000     2.000000   \n",
       "50%     564.000000  1247.000000  2146.500000    12.000000     5.000000   \n",
       "75%     947.250000  1633.000000  3064.500000    16.000000     9.000000   \n",
       "max    1960.000000  1998.000000  3998.000000    19.000000    18.000000   \n",
       "\n",
       "         talk_time      three_g  touch_screen         wifi  price_range  \n",
       "count  2000.000000  2000.000000   2000.000000  2000.000000  2000.000000  \n",
       "mean     11.011000     0.761500      0.503000     0.507000     1.500000  \n",
       "std       5.463955     0.426273      0.500116     0.500076     1.118314  \n",
       "min       2.000000     0.000000      0.000000     0.000000     0.000000  \n",
       "25%       6.000000     1.000000      0.000000     0.000000     0.750000  \n",
       "50%      11.000000     1.000000      1.000000     1.000000     1.500000  \n",
       "75%      16.000000     1.000000      1.000000     1.000000     2.250000  \n",
       "max      20.000000     1.000000      1.000000     1.000000     3.000000  \n",
       "\n",
       "[8 rows x 21 columns]"
      ]
     },
     "execution_count": 6,
     "metadata": {},
     "output_type": "execute_result"
    }
   ],
   "source": [
    "df.describe()"
   ]
  },
  {
   "cell_type": "code",
   "execution_count": 16,
   "metadata": {},
   "outputs": [],
   "source": [
    "df=df[df['sc_w'] > 0]"
   ]
  },
  {
   "cell_type": "code",
   "execution_count": 17,
   "metadata": {},
   "outputs": [
    {
     "data": {
      "text/plain": [
       "(1820, 21)"
      ]
     },
     "execution_count": 17,
     "metadata": {},
     "output_type": "execute_result"
    }
   ],
   "source": [
    "df.shape"
   ]
  },
  {
   "cell_type": "code",
   "execution_count": 53,
   "metadata": {},
   "outputs": [
    {
     "data": {
      "text/html": [
       "<div>\n",
       "<style scoped>\n",
       "    .dataframe tbody tr th:only-of-type {\n",
       "        vertical-align: middle;\n",
       "    }\n",
       "\n",
       "    .dataframe tbody tr th {\n",
       "        vertical-align: top;\n",
       "    }\n",
       "\n",
       "    .dataframe thead th {\n",
       "        text-align: right;\n",
       "    }\n",
       "</style>\n",
       "<table border=\"1\" class=\"dataframe\">\n",
       "  <thead>\n",
       "    <tr style=\"text-align: right;\">\n",
       "      <th></th>\n",
       "      <th>battery_power</th>\n",
       "      <th>blue</th>\n",
       "      <th>clock_speed</th>\n",
       "      <th>dual_sim</th>\n",
       "      <th>fc</th>\n",
       "      <th>four_g</th>\n",
       "      <th>int_memory</th>\n",
       "      <th>m_dep</th>\n",
       "      <th>mobile_wt</th>\n",
       "      <th>n_cores</th>\n",
       "      <th>...</th>\n",
       "      <th>px_height</th>\n",
       "      <th>px_width</th>\n",
       "      <th>ram</th>\n",
       "      <th>sc_h</th>\n",
       "      <th>sc_w</th>\n",
       "      <th>talk_time</th>\n",
       "      <th>three_g</th>\n",
       "      <th>touch_screen</th>\n",
       "      <th>wifi</th>\n",
       "      <th>price_range</th>\n",
       "    </tr>\n",
       "  </thead>\n",
       "  <tbody>\n",
       "    <tr>\n",
       "      <th>count</th>\n",
       "      <td>1820.000000</td>\n",
       "      <td>1820.000000</td>\n",
       "      <td>1820.000000</td>\n",
       "      <td>1820.000000</td>\n",
       "      <td>1820.000000</td>\n",
       "      <td>1820.000000</td>\n",
       "      <td>1820.000000</td>\n",
       "      <td>1820.000000</td>\n",
       "      <td>1820.000000</td>\n",
       "      <td>1820.000000</td>\n",
       "      <td>...</td>\n",
       "      <td>1820.000000</td>\n",
       "      <td>1820.000000</td>\n",
       "      <td>1820.000000</td>\n",
       "      <td>1820.000000</td>\n",
       "      <td>1820.000000</td>\n",
       "      <td>1820.000000</td>\n",
       "      <td>1820.000000</td>\n",
       "      <td>1820.000000</td>\n",
       "      <td>1820.000000</td>\n",
       "      <td>1820.000000</td>\n",
       "    </tr>\n",
       "    <tr>\n",
       "      <th>mean</th>\n",
       "      <td>1237.843956</td>\n",
       "      <td>0.503846</td>\n",
       "      <td>1.519670</td>\n",
       "      <td>0.504396</td>\n",
       "      <td>4.319231</td>\n",
       "      <td>0.524725</td>\n",
       "      <td>32.139560</td>\n",
       "      <td>0.499890</td>\n",
       "      <td>140.585714</td>\n",
       "      <td>4.532967</td>\n",
       "      <td>...</td>\n",
       "      <td>646.731319</td>\n",
       "      <td>1252.686264</td>\n",
       "      <td>2133.372527</td>\n",
       "      <td>12.485714</td>\n",
       "      <td>6.337363</td>\n",
       "      <td>11.007143</td>\n",
       "      <td>0.760989</td>\n",
       "      <td>0.507692</td>\n",
       "      <td>0.513187</td>\n",
       "      <td>1.509341</td>\n",
       "    </tr>\n",
       "    <tr>\n",
       "      <th>std</th>\n",
       "      <td>439.940961</td>\n",
       "      <td>0.500123</td>\n",
       "      <td>0.813829</td>\n",
       "      <td>0.500118</td>\n",
       "      <td>4.354894</td>\n",
       "      <td>0.499526</td>\n",
       "      <td>18.114542</td>\n",
       "      <td>0.288805</td>\n",
       "      <td>35.428886</td>\n",
       "      <td>2.289520</td>\n",
       "      <td>...</td>\n",
       "      <td>444.877537</td>\n",
       "      <td>432.342583</td>\n",
       "      <td>1087.197536</td>\n",
       "      <td>4.166849</td>\n",
       "      <td>4.152062</td>\n",
       "      <td>5.455951</td>\n",
       "      <td>0.426597</td>\n",
       "      <td>0.500078</td>\n",
       "      <td>0.499963</td>\n",
       "      <td>1.119285</td>\n",
       "    </tr>\n",
       "    <tr>\n",
       "      <th>min</th>\n",
       "      <td>501.000000</td>\n",
       "      <td>0.000000</td>\n",
       "      <td>0.500000</td>\n",
       "      <td>0.000000</td>\n",
       "      <td>0.000000</td>\n",
       "      <td>0.000000</td>\n",
       "      <td>2.000000</td>\n",
       "      <td>0.100000</td>\n",
       "      <td>80.000000</td>\n",
       "      <td>1.000000</td>\n",
       "      <td>...</td>\n",
       "      <td>0.000000</td>\n",
       "      <td>500.000000</td>\n",
       "      <td>256.000000</td>\n",
       "      <td>5.000000</td>\n",
       "      <td>1.000000</td>\n",
       "      <td>2.000000</td>\n",
       "      <td>0.000000</td>\n",
       "      <td>0.000000</td>\n",
       "      <td>0.000000</td>\n",
       "      <td>0.000000</td>\n",
       "    </tr>\n",
       "    <tr>\n",
       "      <th>25%</th>\n",
       "      <td>845.500000</td>\n",
       "      <td>0.000000</td>\n",
       "      <td>0.700000</td>\n",
       "      <td>0.000000</td>\n",
       "      <td>1.000000</td>\n",
       "      <td>0.000000</td>\n",
       "      <td>16.000000</td>\n",
       "      <td>0.200000</td>\n",
       "      <td>109.000000</td>\n",
       "      <td>3.000000</td>\n",
       "      <td>...</td>\n",
       "      <td>283.750000</td>\n",
       "      <td>877.000000</td>\n",
       "      <td>1203.750000</td>\n",
       "      <td>9.000000</td>\n",
       "      <td>3.000000</td>\n",
       "      <td>6.000000</td>\n",
       "      <td>1.000000</td>\n",
       "      <td>0.000000</td>\n",
       "      <td>0.000000</td>\n",
       "      <td>1.000000</td>\n",
       "    </tr>\n",
       "    <tr>\n",
       "      <th>50%</th>\n",
       "      <td>1230.500000</td>\n",
       "      <td>1.000000</td>\n",
       "      <td>1.500000</td>\n",
       "      <td>1.000000</td>\n",
       "      <td>3.000000</td>\n",
       "      <td>1.000000</td>\n",
       "      <td>32.000000</td>\n",
       "      <td>0.500000</td>\n",
       "      <td>141.500000</td>\n",
       "      <td>5.000000</td>\n",
       "      <td>...</td>\n",
       "      <td>561.500000</td>\n",
       "      <td>1250.000000</td>\n",
       "      <td>2174.000000</td>\n",
       "      <td>13.000000</td>\n",
       "      <td>6.000000</td>\n",
       "      <td>11.000000</td>\n",
       "      <td>1.000000</td>\n",
       "      <td>1.000000</td>\n",
       "      <td>1.000000</td>\n",
       "      <td>2.000000</td>\n",
       "    </tr>\n",
       "    <tr>\n",
       "      <th>75%</th>\n",
       "      <td>1611.000000</td>\n",
       "      <td>1.000000</td>\n",
       "      <td>2.200000</td>\n",
       "      <td>1.000000</td>\n",
       "      <td>7.000000</td>\n",
       "      <td>1.000000</td>\n",
       "      <td>48.000000</td>\n",
       "      <td>0.800000</td>\n",
       "      <td>170.250000</td>\n",
       "      <td>7.000000</td>\n",
       "      <td>...</td>\n",
       "      <td>952.000000</td>\n",
       "      <td>1633.000000</td>\n",
       "      <td>3072.250000</td>\n",
       "      <td>16.000000</td>\n",
       "      <td>9.000000</td>\n",
       "      <td>16.000000</td>\n",
       "      <td>1.000000</td>\n",
       "      <td>1.000000</td>\n",
       "      <td>1.000000</td>\n",
       "      <td>3.000000</td>\n",
       "    </tr>\n",
       "    <tr>\n",
       "      <th>max</th>\n",
       "      <td>1998.000000</td>\n",
       "      <td>1.000000</td>\n",
       "      <td>3.000000</td>\n",
       "      <td>1.000000</td>\n",
       "      <td>19.000000</td>\n",
       "      <td>1.000000</td>\n",
       "      <td>64.000000</td>\n",
       "      <td>1.000000</td>\n",
       "      <td>200.000000</td>\n",
       "      <td>8.000000</td>\n",
       "      <td>...</td>\n",
       "      <td>1960.000000</td>\n",
       "      <td>1998.000000</td>\n",
       "      <td>3998.000000</td>\n",
       "      <td>19.000000</td>\n",
       "      <td>18.000000</td>\n",
       "      <td>20.000000</td>\n",
       "      <td>1.000000</td>\n",
       "      <td>1.000000</td>\n",
       "      <td>1.000000</td>\n",
       "      <td>3.000000</td>\n",
       "    </tr>\n",
       "  </tbody>\n",
       "</table>\n",
       "<p>8 rows × 21 columns</p>\n",
       "</div>"
      ],
      "text/plain": [
       "       battery_power         blue  clock_speed     dual_sim           fc  \\\n",
       "count    1820.000000  1820.000000  1820.000000  1820.000000  1820.000000   \n",
       "mean     1237.843956     0.503846     1.519670     0.504396     4.319231   \n",
       "std       439.940961     0.500123     0.813829     0.500118     4.354894   \n",
       "min       501.000000     0.000000     0.500000     0.000000     0.000000   \n",
       "25%       845.500000     0.000000     0.700000     0.000000     1.000000   \n",
       "50%      1230.500000     1.000000     1.500000     1.000000     3.000000   \n",
       "75%      1611.000000     1.000000     2.200000     1.000000     7.000000   \n",
       "max      1998.000000     1.000000     3.000000     1.000000    19.000000   \n",
       "\n",
       "            four_g   int_memory        m_dep    mobile_wt      n_cores  ...  \\\n",
       "count  1820.000000  1820.000000  1820.000000  1820.000000  1820.000000  ...   \n",
       "mean      0.524725    32.139560     0.499890   140.585714     4.532967  ...   \n",
       "std       0.499526    18.114542     0.288805    35.428886     2.289520  ...   \n",
       "min       0.000000     2.000000     0.100000    80.000000     1.000000  ...   \n",
       "25%       0.000000    16.000000     0.200000   109.000000     3.000000  ...   \n",
       "50%       1.000000    32.000000     0.500000   141.500000     5.000000  ...   \n",
       "75%       1.000000    48.000000     0.800000   170.250000     7.000000  ...   \n",
       "max       1.000000    64.000000     1.000000   200.000000     8.000000  ...   \n",
       "\n",
       "         px_height     px_width          ram         sc_h         sc_w  \\\n",
       "count  1820.000000  1820.000000  1820.000000  1820.000000  1820.000000   \n",
       "mean    646.731319  1252.686264  2133.372527    12.485714     6.337363   \n",
       "std     444.877537   432.342583  1087.197536     4.166849     4.152062   \n",
       "min       0.000000   500.000000   256.000000     5.000000     1.000000   \n",
       "25%     283.750000   877.000000  1203.750000     9.000000     3.000000   \n",
       "50%     561.500000  1250.000000  2174.000000    13.000000     6.000000   \n",
       "75%     952.000000  1633.000000  3072.250000    16.000000     9.000000   \n",
       "max    1960.000000  1998.000000  3998.000000    19.000000    18.000000   \n",
       "\n",
       "         talk_time      three_g  touch_screen         wifi  price_range  \n",
       "count  1820.000000  1820.000000   1820.000000  1820.000000  1820.000000  \n",
       "mean     11.007143     0.760989      0.507692     0.513187     1.509341  \n",
       "std       5.455951     0.426597      0.500078     0.499963     1.119285  \n",
       "min       2.000000     0.000000      0.000000     0.000000     0.000000  \n",
       "25%       6.000000     1.000000      0.000000     0.000000     1.000000  \n",
       "50%      11.000000     1.000000      1.000000     1.000000     2.000000  \n",
       "75%      16.000000     1.000000      1.000000     1.000000     3.000000  \n",
       "max      20.000000     1.000000      1.000000     1.000000     3.000000  \n",
       "\n",
       "[8 rows x 21 columns]"
      ]
     },
     "execution_count": 53,
     "metadata": {},
     "output_type": "execute_result"
    }
   ],
   "source": [
    "df.describe()"
   ]
  },
  {
   "cell_type": "code",
   "execution_count": 35,
   "metadata": {},
   "outputs": [
    {
     "data": {
      "image/png": "[encoded data removed]",
      "text/plain": [
       "<Figure size 648x504 with 2 Axes>"
      ]
     },
     "metadata": {},
     "output_type": "display_data"
    }
   ],
   "source": [
    "korelasi = df.corr()\n",
    "sns.heatmap(data=korelasi, cmap=\"YlGnBu\", linecolor=\"black\", linewidths=0.5)\n",
    "sns.set(rc={'figure.figsize':(9, 7)})"
   ]
  },
  {
   "cell_type": "code",
   "execution_count": 38,
   "metadata": {},
   "outputs": [
    {
     "data": {
      "text/plain": [
       "touch_screen    -0.030411\n",
       "mobile_wt       -0.030302\n",
       "clock_speed     -0.006606\n",
       "m_dep            0.000853\n",
       "n_cores          0.004399\n",
       "four_g           0.014772\n",
       "dual_sim         0.017444\n",
       "wifi             0.018785\n",
       "blue             0.020573\n",
       "talk_time        0.021859\n",
       "fc               0.021998\n",
       "sc_h             0.022986\n",
       "three_g          0.023611\n",
       "pc               0.033599\n",
       "sc_w             0.038711\n",
       "int_memory       0.044435\n",
       "px_height        0.148858\n",
       "px_width         0.165818\n",
       "battery_power    0.200723\n",
       "ram              0.917046\n",
       "price_range      1.000000\n",
       "Name: price_range, dtype: float64"
      ]
     },
     "execution_count": 38,
     "metadata": {},
     "output_type": "execute_result"
    }
   ],
   "source": [
    "df.corr()['price_range'].sort_values()"
   ]
  },
  {
   "cell_type": "code",
   "execution_count": 48,
   "metadata": {},
   "outputs": [
    {
     "data": {
      "image/png": "[encoded data removed]",
      "text/plain": [
       "<Figure size 504x360 with 1 Axes>"
      ]
     },
     "metadata": {},
     "output_type": "display_data"
    }
   ],
   "source": [
    "sns.boxplot(x=\"price_range\", y=\"battery_power\", data=df)\n",
    "sns.set(rc={'figure.figsize':(7, 5)})"
   ]
  },
  {
   "cell_type": "code",
   "execution_count": 21,
   "metadata": {},
   "outputs": [
    {
     "data": {
      "image/png": "[encoded data removed]",
      "text/plain": [
       "<Figure size 504x360 with 1 Axes>"
      ]
     },
     "metadata": {},
     "output_type": "display_data"
    }
   ],
   "source": [
    "sns.boxplot(x=\"price_range\", y=\"ram\", data=df)\n",
    "sns.set(rc={'figure.figsize':(7, 5)})"
   ]
  },
  {
   "cell_type": "code",
   "execution_count": 19,
   "metadata": {},
   "outputs": [
    {
     "data": {
      "image/png": "[encoded data removed]",
      "text/plain": [
       "<Figure size 504x360 with 1 Axes>"
      ]
     },
     "metadata": {},
     "output_type": "display_data"
    }
   ],
   "source": [
    "sns.boxplot(x=\"price_range\", y=\"px_height\", data=df)\n",
    "sns.set(rc={'figure.figsize':(7, 5)})"
   ]
  },
  {
   "cell_type": "code",
   "execution_count": 20,
   "metadata": {},
   "outputs": [
    {
     "data": {
      "image/png": "[encoded data removed]",
      "text/plain": [
       "<Figure size 504x360 with 1 Axes>"
      ]
     },
     "metadata": {},
     "output_type": "display_data"
    }
   ],
   "source": [
    "sns.boxplot(x=\"price_range\", y=\"px_width\", data=df)\n",
    "sns.set(rc={'figure.figsize':(7, 5)})"
   ]
  },
  {
   "cell_type": "code",
   "execution_count": 22,
   "metadata": {},
   "outputs": [
    {
     "data": {
      "image/png": "[encoded data removed]",
      "text/plain": [
       "<Figure size 504x360 with 1 Axes>"
      ]
     },
     "metadata": {},
     "output_type": "display_data"
    }
   ],
   "source": [
    "sns.boxplot(x=\"price_range\", y=\"int_memory\", data=df)\n",
    "sns.set(rc={'figure.figsize':(7, 5)})"
   ]
  },
  {
   "cell_type": "code",
   "execution_count": 42,
   "metadata": {},
   "outputs": [
    {
     "data": {
      "image/png": "[encoded data removed]",
      "text/plain": [
       "<Figure size 504x360 with 1 Axes>"
      ]
     },
     "metadata": {},
     "output_type": "display_data"
    }
   ],
   "source": [
    "sns.boxplot(x=\"price_range\", y=\"pc\", data=df)\n",
    "sns.set(rc={'figure.figsize':(7, 5)})"
   ]
  },
  {
   "cell_type": "code",
   "execution_count": 40,
   "metadata": {},
   "outputs": [
    {
     "name": "stderr",
     "output_type": "stream",
     "text": [
      "c:\\Users\\anton\\AppData\\Local\\Programs\\Python\\Python310\\lib\\site-packages\\seaborn\\_decorators.py:36: FutureWarning: Pass the following variables as keyword args: x, y. From version 0.12, the only valid positional argument will be `data`, and passing other arguments without an explicit keyword will result in an error or misinterpretation.\n",
      "  warnings.warn(\n"
     ]
    },
    {
     "data": {
      "text/plain": [
       "Text(0.5, 1.0, 'Regression Plot')"
      ]
     },
     "execution_count": 40,
     "metadata": {},
     "output_type": "execute_result"
    },
    {
     "data": {
      "image/png": "[encoded data removed]",
      "text/plain": [
       "<Figure size 504x360 with 1 Axes>"
      ]
     },
     "metadata": {},
     "output_type": "display_data"
    }
   ],
   "source": [
    "sns.regplot(df['mobile_wt'], df['price_range'], line_kws={\"color\": \"red\"})\n",
    "sns.set(rc={'figure.figsize':(5, 5)})\n",
    "plt.title(\"Regression Plot\")"
   ]
  },
  {
   "cell_type": "code",
   "execution_count": 156,
   "metadata": {},
   "outputs": [
    {
     "name": "stderr",
     "output_type": "stream",
     "text": [
      "c:\\Users\\anton\\AppData\\Local\\Programs\\Python\\Python310\\lib\\site-packages\\seaborn\\_decorators.py:36: FutureWarning: Pass the following variables as keyword args: x, y. From version 0.12, the only valid positional argument will be `data`, and passing other arguments without an explicit keyword will result in an error or misinterpretation.\n",
      "  warnings.warn(\n"
     ]
    },
    {
     "data": {
      "text/plain": [
       "Text(0.5, 1.0, 'Regression Plot')"
      ]
     },
     "execution_count": 156,
     "metadata": {},
     "output_type": "execute_result"
    },
    {
     "data": {
      "image/png": "[encoded data removed]",
      "text/plain": [
       "<Figure size 504x360 with 1 Axes>"
      ]
     },
     "metadata": {},
     "output_type": "display_data"
    }
   ],
   "source": [
    "sns.regplot(df['battery_power'], df['price_range'], line_kws={\"color\": \"red\"})\n",
    "sns.set(rc={'figure.figsize':(5, 5)})\n",
    "plt.title(\"Regression Plot\")"
   ]
  },
  {
   "cell_type": "code",
   "execution_count": 49,
   "metadata": {},
   "outputs": [
    {
     "data": {
      "image/png": "[encoded data removed]",
      "text/plain": [
       "<Figure size 504x360 with 1 Axes>"
      ]
     },
     "metadata": {},
     "output_type": "display_data"
    }
   ],
   "source": [
    "sns.boxplot(x=\"price_range\", y=\"four_g\", data=df)\n",
    "sns.set(rc={'figure.figsize':(7, 5)})"
   ]
  },
  {
   "cell_type": "code",
   "execution_count": null,
   "metadata": {},
   "outputs": [],
   "source": [
    "sns.boxplot(x=\"price_range\", y=\"ram\", data=df)\n",
    "sns.set(rc={'figure.figsize':(7, 5)})"
   ]
  },
  {
   "cell_type": "code",
   "execution_count": 5,
   "metadata": {},
   "outputs": [],
   "source": [
    "dt_20kol = df[['battery_power', 'blue', 'clock_speed', 'dual_sim', 'fc', 'four_g', 'int_memory', 'm_dep', 'mobile_wt', 'n_cores',\t\n",
    "'px_height', 'px_width', 'ram', 'sc_h', 'sc_w', 'talk_time', 'three_g', 'touch_screen', 'wifi']]"
   ]
  },
  {
   "cell_type": "code",
   "execution_count": 6,
   "metadata": {},
   "outputs": [],
   "source": [
    "array_20kol = np.array(dt_20kol.values)"
   ]
  },
  {
   "cell_type": "code",
   "execution_count": 7,
   "metadata": {},
   "outputs": [],
   "source": [
    "phone_labels = df[['price_range']]"
   ]
  },
  {
   "cell_type": "code",
   "execution_count": 8,
   "metadata": {},
   "outputs": [],
   "source": [
    "label_np = np.array(phone_labels.values)"
   ]
  },
  {
   "cell_type": "code",
   "execution_count": 9,
   "metadata": {},
   "outputs": [],
   "source": [
    "label_np = label_np.ravel()"
   ]
  },
  {
   "cell_type": "code",
   "execution_count": 10,
   "metadata": {},
   "outputs": [],
   "source": [
    "le = preprocessing.LabelEncoder()"
   ]
  },
  {
   "cell_type": "code",
   "execution_count": 11,
   "metadata": {},
   "outputs": [],
   "source": [
    "iris_labels_en = le.fit_transform(label_np)"
   ]
  },
  {
   "cell_type": "code",
   "execution_count": 12,
   "metadata": {},
   "outputs": [],
   "source": [
    "X = array_20kol\n",
    "Y = iris_labels_en\n"
   ]
  },
  {
   "cell_type": "code",
   "execution_count": 13,
   "metadata": {},
   "outputs": [
    {
     "data": {
      "text/html": [
       "<style>#sk-container-id-1 {color: black;background-color: white;}#sk-container-id-1 pre{padding: 0;}#sk-container-id-1 div.sk-toggleable {background-color: white;}#sk-container-id-1 label.sk-toggleable__label {cursor: pointer;display: block;width: 100%;margin-bottom: 0;padding: 0.3em;box-sizing: border-box;text-align: center;}#sk-container-id-1 label.sk-toggleable__label-arrow:before {content: \"▸\";float: left;margin-right: 0.25em;color: #696969;}#sk-container-id-1 label.sk-toggleable__label-arrow:hover:before {color: black;}#sk-container-id-1 div.sk-estimator:hover label.sk-toggleable__label-arrow:before {color: black;}#sk-container-id-1 div.sk-toggleable__content {max-height: 0;max-width: 0;overflow: hidden;text-align: left;background-color: #f0f8ff;}#sk-container-id-1 div.sk-toggleable__content pre {margin: 0.2em;color: black;border-radius: 0.25em;background-color: #f0f8ff;}#sk-container-id-1 input.sk-toggleable__control:checked~div.sk-toggleable__content {max-height: 200px;max-width: 100%;overflow: auto;}#sk-container-id-1 input.sk-toggleable__control:checked~label.sk-toggleable__label-arrow:before {content: \"▾\";}#sk-container-id-1 div.sk-estimator input.sk-toggleable__control:checked~label.sk-toggleable__label {background-color: #d4ebff;}#sk-container-id-1 div.sk-label input.sk-toggleable__control:checked~label.sk-toggleable__label {background-color: #d4ebff;}#sk-container-id-1 input.sk-hidden--visually {border: 0;clip: rect(1px 1px 1px 1px);clip: rect(1px, 1px, 1px, 1px);height: 1px;margin: -1px;overflow: hidden;padding: 0;position: absolute;width: 1px;}#sk-container-id-1 div.sk-estimator {font-family: monospace;background-color: #f0f8ff;border: 1px dotted black;border-radius: 0.25em;box-sizing: border-box;margin-bottom: 0.5em;}#sk-container-id-1 div.sk-estimator:hover {background-color: #d4ebff;}#sk-container-id-1 div.sk-parallel-item::after {content: \"\";width: 100%;border-bottom: 1px solid gray;flex-grow: 1;}#sk-container-id-1 div.sk-label:hover label.sk-toggleable__label {background-color: #d4ebff;}#sk-container-id-1 div.sk-serial::before {content: \"\";position: absolute;border-left: 1px solid gray;box-sizing: border-box;top: 0;bottom: 0;left: 50%;z-index: 0;}#sk-container-id-1 div.sk-serial {display: flex;flex-direction: column;align-items: center;background-color: white;padding-right: 0.2em;padding-left: 0.2em;position: relative;}#sk-container-id-1 div.sk-item {position: relative;z-index: 1;}#sk-container-id-1 div.sk-parallel {display: flex;align-items: stretch;justify-content: center;background-color: white;position: relative;}#sk-container-id-1 div.sk-item::before, #sk-container-id-1 div.sk-parallel-item::before {content: \"\";position: absolute;border-left: 1px solid gray;box-sizing: border-box;top: 0;bottom: 0;left: 50%;z-index: -1;}#sk-container-id-1 div.sk-parallel-item {display: flex;flex-direction: column;z-index: 1;position: relative;background-color: white;}#sk-container-id-1 div.sk-parallel-item:first-child::after {align-self: flex-end;width: 50%;}#sk-container-id-1 div.sk-parallel-item:last-child::after {align-self: flex-start;width: 50%;}#sk-container-id-1 div.sk-parallel-item:only-child::after {width: 0;}#sk-container-id-1 div.sk-dashed-wrapped {border: 1px dashed gray;margin: 0 0.4em 0.5em 0.4em;box-sizing: border-box;padding-bottom: 0.4em;background-color: white;}#sk-container-id-1 div.sk-label label {font-family: monospace;font-weight: bold;display: inline-block;line-height: 1.2em;}#sk-container-id-1 div.sk-label-container {text-align: center;}#sk-container-id-1 div.sk-container {/* jupyter's `normalize.less` sets `[hidden] { display: none; }` but bootstrap.min.css set `[hidden] { display: none !important; }` so we also need the `!important` here to be able to override the default hidden behavior on the sphinx rendered scikit-learn.org. See: https://github.com/scikit-learn/scikit-learn/issues/21755 */display: inline-block !important;position: relative;}#sk-container-id-1 div.sk-text-repr-fallback {display: none;}</style><div id=\"sk-container-id-1\" class=\"sk-top-container\"><div class=\"sk-text-repr-fallback\"><pre>SelectKBest(k=7, score_func=&lt;function chi2 at 0x0000020759384790&gt;)</pre><b>In a Jupyter environment, please rerun this cell to show the HTML representation or trust the notebook. <br />On GitHub, the HTML representation is unable to render, please try loading this page with nbviewer.org.</b></div><div class=\"sk-container\" hidden><div class=\"sk-item\"><div class=\"sk-estimator sk-toggleable\"><input class=\"sk-toggleable__control sk-hidden--visually\" id=\"sk-estimator-id-1\" type=\"checkbox\" checked><label for=\"sk-estimator-id-1\" class=\"sk-toggleable__label sk-toggleable__label-arrow\">SelectKBest</label><div class=\"sk-toggleable__content\"><pre>SelectKBest(k=7, score_func=&lt;function chi2 at 0x0000020759384790&gt;)</pre></div></div></div></div></div>"
      ],
      "text/plain": [
       "SelectKBest(k=7, score_func=<function chi2 at 0x0000020759384790>)"
      ]
     },
     "execution_count": 13,
     "metadata": {},
     "output_type": "execute_result"
    }
   ],
   "source": [
    "selector  = SelectKBest(score_func=chi2, k=7)\n",
    "selector.fit(X, Y)"
   ]
  },
  {
   "cell_type": "code",
   "execution_count": 14,
   "metadata": {},
   "outputs": [
    {
     "data": {
      "text/html": [
       "<div>\n",
       "<style scoped>\n",
       "    .dataframe tbody tr th:only-of-type {\n",
       "        vertical-align: middle;\n",
       "    }\n",
       "\n",
       "    .dataframe tbody tr th {\n",
       "        vertical-align: top;\n",
       "    }\n",
       "\n",
       "    .dataframe thead th {\n",
       "        text-align: right;\n",
       "    }\n",
       "</style>\n",
       "<table border=\"1\" class=\"dataframe\">\n",
       "  <thead>\n",
       "    <tr style=\"text-align: right;\">\n",
       "      <th></th>\n",
       "      <th>battery_power</th>\n",
       "      <th>int_memory</th>\n",
       "      <th>mobile_wt</th>\n",
       "      <th>px_height</th>\n",
       "      <th>px_width</th>\n",
       "      <th>ram</th>\n",
       "      <th>sc_w</th>\n",
       "    </tr>\n",
       "  </thead>\n",
       "  <tbody>\n",
       "    <tr>\n",
       "      <th>0</th>\n",
       "      <td>842</td>\n",
       "      <td>7</td>\n",
       "      <td>188</td>\n",
       "      <td>20</td>\n",
       "      <td>756</td>\n",
       "      <td>2549</td>\n",
       "      <td>7</td>\n",
       "    </tr>\n",
       "    <tr>\n",
       "      <th>1</th>\n",
       "      <td>1021</td>\n",
       "      <td>53</td>\n",
       "      <td>136</td>\n",
       "      <td>905</td>\n",
       "      <td>1988</td>\n",
       "      <td>2631</td>\n",
       "      <td>3</td>\n",
       "    </tr>\n",
       "    <tr>\n",
       "      <th>2</th>\n",
       "      <td>563</td>\n",
       "      <td>41</td>\n",
       "      <td>145</td>\n",
       "      <td>1263</td>\n",
       "      <td>1716</td>\n",
       "      <td>2603</td>\n",
       "      <td>2</td>\n",
       "    </tr>\n",
       "    <tr>\n",
       "      <th>3</th>\n",
       "      <td>615</td>\n",
       "      <td>10</td>\n",
       "      <td>131</td>\n",
       "      <td>1216</td>\n",
       "      <td>1786</td>\n",
       "      <td>2769</td>\n",
       "      <td>8</td>\n",
       "    </tr>\n",
       "    <tr>\n",
       "      <th>4</th>\n",
       "      <td>1821</td>\n",
       "      <td>44</td>\n",
       "      <td>141</td>\n",
       "      <td>1208</td>\n",
       "      <td>1212</td>\n",
       "      <td>1411</td>\n",
       "      <td>2</td>\n",
       "    </tr>\n",
       "  </tbody>\n",
       "</table>\n",
       "</div>"
      ],
      "text/plain": [
       "   battery_power  int_memory  mobile_wt  px_height  px_width   ram  sc_w\n",
       "0            842           7        188         20       756  2549     7\n",
       "1           1021          53        136        905      1988  2631     3\n",
       "2            563          41        145       1263      1716  2603     2\n",
       "3            615          10        131       1216      1786  2769     8\n",
       "4           1821          44        141       1208      1212  1411     2"
      ]
     },
     "execution_count": 14,
     "metadata": {},
     "output_type": "execute_result"
    }
   ],
   "source": [
    "cols = selector.get_support(indices=True)\n",
    "\n",
    "df_features = dt_20kol.iloc[:,cols]\n",
    "\n",
    "df_features.head()"
   ]
  },
  {
   "cell_type": "markdown",
   "metadata": {},
   "source": [
    "-----"
   ]
  },
  {
   "cell_type": "code",
   "execution_count": 15,
   "metadata": {},
   "outputs": [
    {
     "data": {
      "text/html": [
       "<style>#sk-container-id-2 {color: black;background-color: white;}#sk-container-id-2 pre{padding: 0;}#sk-container-id-2 div.sk-toggleable {background-color: white;}#sk-container-id-2 label.sk-toggleable__label {cursor: pointer;display: block;width: 100%;margin-bottom: 0;padding: 0.3em;box-sizing: border-box;text-align: center;}#sk-container-id-2 label.sk-toggleable__label-arrow:before {content: \"▸\";float: left;margin-right: 0.25em;color: #696969;}#sk-container-id-2 label.sk-toggleable__label-arrow:hover:before {color: black;}#sk-container-id-2 div.sk-estimator:hover label.sk-toggleable__label-arrow:before {color: black;}#sk-container-id-2 div.sk-toggleable__content {max-height: 0;max-width: 0;overflow: hidden;text-align: left;background-color: #f0f8ff;}#sk-container-id-2 div.sk-toggleable__content pre {margin: 0.2em;color: black;border-radius: 0.25em;background-color: #f0f8ff;}#sk-container-id-2 input.sk-toggleable__control:checked~div.sk-toggleable__content {max-height: 200px;max-width: 100%;overflow: auto;}#sk-container-id-2 input.sk-toggleable__control:checked~label.sk-toggleable__label-arrow:before {content: \"▾\";}#sk-container-id-2 div.sk-estimator input.sk-toggleable__control:checked~label.sk-toggleable__label {background-color: #d4ebff;}#sk-container-id-2 div.sk-label input.sk-toggleable__control:checked~label.sk-toggleable__label {background-color: #d4ebff;}#sk-container-id-2 input.sk-hidden--visually {border: 0;clip: rect(1px 1px 1px 1px);clip: rect(1px, 1px, 1px, 1px);height: 1px;margin: -1px;overflow: hidden;padding: 0;position: absolute;width: 1px;}#sk-container-id-2 div.sk-estimator {font-family: monospace;background-color: #f0f8ff;border: 1px dotted black;border-radius: 0.25em;box-sizing: border-box;margin-bottom: 0.5em;}#sk-container-id-2 div.sk-estimator:hover {background-color: #d4ebff;}#sk-container-id-2 div.sk-parallel-item::after {content: \"\";width: 100%;border-bottom: 1px solid gray;flex-grow: 1;}#sk-container-id-2 div.sk-label:hover label.sk-toggleable__label {background-color: #d4ebff;}#sk-container-id-2 div.sk-serial::before {content: \"\";position: absolute;border-left: 1px solid gray;box-sizing: border-box;top: 0;bottom: 0;left: 50%;z-index: 0;}#sk-container-id-2 div.sk-serial {display: flex;flex-direction: column;align-items: center;background-color: white;padding-right: 0.2em;padding-left: 0.2em;position: relative;}#sk-container-id-2 div.sk-item {position: relative;z-index: 1;}#sk-container-id-2 div.sk-parallel {display: flex;align-items: stretch;justify-content: center;background-color: white;position: relative;}#sk-container-id-2 div.sk-item::before, #sk-container-id-2 div.sk-parallel-item::before {content: \"\";position: absolute;border-left: 1px solid gray;box-sizing: border-box;top: 0;bottom: 0;left: 50%;z-index: -1;}#sk-container-id-2 div.sk-parallel-item {display: flex;flex-direction: column;z-index: 1;position: relative;background-color: white;}#sk-container-id-2 div.sk-parallel-item:first-child::after {align-self: flex-end;width: 50%;}#sk-container-id-2 div.sk-parallel-item:last-child::after {align-self: flex-start;width: 50%;}#sk-container-id-2 div.sk-parallel-item:only-child::after {width: 0;}#sk-container-id-2 div.sk-dashed-wrapped {border: 1px dashed gray;margin: 0 0.4em 0.5em 0.4em;box-sizing: border-box;padding-bottom: 0.4em;background-color: white;}#sk-container-id-2 div.sk-label label {font-family: monospace;font-weight: bold;display: inline-block;line-height: 1.2em;}#sk-container-id-2 div.sk-label-container {text-align: center;}#sk-container-id-2 div.sk-container {/* jupyter's `normalize.less` sets `[hidden] { display: none; }` but bootstrap.min.css set `[hidden] { display: none !important; }` so we also need the `!important` here to be able to override the default hidden behavior on the sphinx rendered scikit-learn.org. See: https://github.com/scikit-learn/scikit-learn/issues/21755 */display: inline-block !important;position: relative;}#sk-container-id-2 div.sk-text-repr-fallback {display: none;}</style><div id=\"sk-container-id-2\" class=\"sk-top-container\"><div class=\"sk-text-repr-fallback\"><pre>KNeighborsClassifier(n_neighbors=4)</pre><b>In a Jupyter environment, please rerun this cell to show the HTML representation or trust the notebook. <br />On GitHub, the HTML representation is unable to render, please try loading this page with nbviewer.org.</b></div><div class=\"sk-container\" hidden><div class=\"sk-item\"><div class=\"sk-estimator sk-toggleable\"><input class=\"sk-toggleable__control sk-hidden--visually\" id=\"sk-estimator-id-2\" type=\"checkbox\" checked><label for=\"sk-estimator-id-2\" class=\"sk-toggleable__label sk-toggleable__label-arrow\">KNeighborsClassifier</label><div class=\"sk-toggleable__content\"><pre>KNeighborsClassifier(n_neighbors=4)</pre></div></div></div></div></div>"
      ],
      "text/plain": [
       "KNeighborsClassifier(n_neighbors=4)"
      ]
     },
     "execution_count": 15,
     "metadata": {},
     "output_type": "execute_result"
    }
   ],
   "source": [
    "array_fitur = np.array(df_features.values)\n",
    "\n",
    "X_train, X_test, Y_train, Y_test = train_test_split(array_fitur, iris_labels_en) \n",
    "\n",
    "kNN_model_iris = KNeighborsClassifier(n_neighbors=4)\n",
    "\n",
    "kNN_model_iris.fit(X_train, Y_train)"
   ]
  },
  {
   "cell_type": "code",
   "execution_count": 16,
   "metadata": {},
   "outputs": [
    {
     "name": "stdout",
     "output_type": "stream",
     "text": [
      "[1 2 3 0]\n"
     ]
    }
   ],
   "source": [
    "Y_pred = kNN_model_iris.predict(X_test)\n",
    "\n",
    "iris_classes = phone_labels.price_range.unique()\n",
    "print(iris_classes)\n",
    "\n"
   ]
  },
  {
   "cell_type": "code",
   "execution_count": 17,
   "metadata": {},
   "outputs": [
    {
     "ename": "TypeError",
     "evalue": "object of type 'numpy.int64' has no len()",
     "output_type": "error",
     "traceback": [
      "\u001b[1;31m---------------------------------------------------------------------------\u001b[0m",
      "\u001b[1;31mTypeError\u001b[0m                                 Traceback (most recent call last)",
      "\u001b[1;32mc:\\Users\\anton\\OneDrive\\Documents\\Semester 5\\Pengantar Penambangan\\tugasknn.ipynb Cell 38\u001b[0m in \u001b[0;36m<module>\u001b[1;34m\u001b[0m\n\u001b[1;32m----> <a href='vscode-notebook-cell:/c%3A/Users/anton/OneDrive/Documents/Semester%205/Pengantar%20Penambangan/tugasknn.ipynb#X52sZmlsZQ%3D%3D?line=0'>1</a>\u001b[0m \u001b[39mprint\u001b[39m(classification_report(Y_test, Y_pred, target_names \u001b[39m=\u001b[39;49m iris_classes))\n",
      "File \u001b[1;32mc:\\Users\\anton\\AppData\\Local\\Programs\\Python\\Python310\\lib\\site-packages\\sklearn\\metrics\\_classification.py:2178\u001b[0m, in \u001b[0;36mclassification_report\u001b[1;34m(y_true, y_pred, labels, target_names, sample_weight, digits, output_dict, zero_division)\u001b[0m\n\u001b[0;32m   2176\u001b[0m \u001b[39melse\u001b[39;00m:\n\u001b[0;32m   2177\u001b[0m     longest_last_line_heading \u001b[39m=\u001b[39m \u001b[39m\"\u001b[39m\u001b[39mweighted avg\u001b[39m\u001b[39m\"\u001b[39m\n\u001b[1;32m-> 2178\u001b[0m     name_width \u001b[39m=\u001b[39m \u001b[39mmax\u001b[39;49m(\u001b[39mlen\u001b[39;49m(cn) \u001b[39mfor\u001b[39;49;00m cn \u001b[39min\u001b[39;49;00m target_names)\n\u001b[0;32m   2179\u001b[0m     width \u001b[39m=\u001b[39m \u001b[39mmax\u001b[39m(name_width, \u001b[39mlen\u001b[39m(longest_last_line_heading), digits)\n\u001b[0;32m   2180\u001b[0m     head_fmt \u001b[39m=\u001b[39m \u001b[39m\"\u001b[39m\u001b[39m{\u001b[39m\u001b[39m:>\u001b[39m\u001b[39m{width}\u001b[39;00m\u001b[39ms} \u001b[39m\u001b[39m\"\u001b[39m \u001b[39m+\u001b[39m \u001b[39m\"\u001b[39m\u001b[39m \u001b[39m\u001b[39m{:>9}\u001b[39;00m\u001b[39m\"\u001b[39m \u001b[39m*\u001b[39m \u001b[39mlen\u001b[39m(headers)\n",
      "File \u001b[1;32mc:\\Users\\anton\\AppData\\Local\\Programs\\Python\\Python310\\lib\\site-packages\\sklearn\\metrics\\_classification.py:2178\u001b[0m, in \u001b[0;36m<genexpr>\u001b[1;34m(.0)\u001b[0m\n\u001b[0;32m   2176\u001b[0m \u001b[39melse\u001b[39;00m:\n\u001b[0;32m   2177\u001b[0m     longest_last_line_heading \u001b[39m=\u001b[39m \u001b[39m\"\u001b[39m\u001b[39mweighted avg\u001b[39m\u001b[39m\"\u001b[39m\n\u001b[1;32m-> 2178\u001b[0m     name_width \u001b[39m=\u001b[39m \u001b[39mmax\u001b[39m(\u001b[39mlen\u001b[39;49m(cn) \u001b[39mfor\u001b[39;00m cn \u001b[39min\u001b[39;00m target_names)\n\u001b[0;32m   2179\u001b[0m     width \u001b[39m=\u001b[39m \u001b[39mmax\u001b[39m(name_width, \u001b[39mlen\u001b[39m(longest_last_line_heading), digits)\n\u001b[0;32m   2180\u001b[0m     head_fmt \u001b[39m=\u001b[39m \u001b[39m\"\u001b[39m\u001b[39m{\u001b[39m\u001b[39m:>\u001b[39m\u001b[39m{width}\u001b[39;00m\u001b[39ms} \u001b[39m\u001b[39m\"\u001b[39m \u001b[39m+\u001b[39m \u001b[39m\"\u001b[39m\u001b[39m \u001b[39m\u001b[39m{:>9}\u001b[39;00m\u001b[39m\"\u001b[39m \u001b[39m*\u001b[39m \u001b[39mlen\u001b[39m(headers)\n",
      "\u001b[1;31mTypeError\u001b[0m: object of type 'numpy.int64' has no len()"
     ]
    }
   ],
   "source": [
    "print(classification_report(Y_test, Y_pred, target_names = iris_classes))\n"
   ]
  },
  {
   "cell_type": "markdown",
   "metadata": {},
   "source": [
    "----"
   ]
  },
  {
   "cell_type": "markdown",
   "metadata": {},
   "source": [
    "## Histrogram"
   ]
  },
  {
   "cell_type": "code",
   "execution_count": 54,
   "metadata": {},
   "outputs": [
    {
     "data": {
      "image/png": "[encoded data removed]",
      "text/plain": [
       "<Figure size 360x360 with 1 Axes>"
      ]
     },
     "metadata": {},
     "output_type": "display_data"
    }
   ],
   "source": [
    "count, bin_edges = np.histogram(df['ram'])\n",
    "df['ram'].plot(kind = 'hist', xticks = bin_edges, color = \"skyblue\")\n",
    "plt.title('Histogram untuk ram')\n",
    "plt.ylabel('Frekuensi')\n",
    "plt.xlabel('ram')\n",
    "plt.show()"
   ]
  },
  {
   "cell_type": "code",
   "execution_count": 55,
   "metadata": {},
   "outputs": [
    {
     "data": {
      "image/png": "[encoded data removed]",
      "text/plain": [
       "<Figure size 360x360 with 1 Axes>"
      ]
     },
     "metadata": {},
     "output_type": "display_data"
    }
   ],
   "source": [
    "count, bin_edges = np.histogram(df['battery_power'])\n",
    "df['battery_power'].plot(kind = 'hist', xticks = bin_edges, color = \"skyblue\")\n",
    "plt.title('Histogram untuk battery_power')\n",
    "plt.ylabel('Frekuensi')\n",
    "plt.xlabel('battery_power')\n",
    "plt.show()"
   ]
  },
  {
   "cell_type": "code",
   "execution_count": 56,
   "metadata": {},
   "outputs": [
    {
     "data": {
      "image/png": "[encoded data removed]",
      "text/plain": [
       "<Figure size 360x360 with 1 Axes>"
      ]
     },
     "metadata": {},
     "output_type": "display_data"
    }
   ],
   "source": [
    "count, bin_edges = np.histogram(df['four_g'])\n",
    "df['four_g'].plot(kind = 'hist', xticks = bin_edges, color = \"skyblue\")\n",
    "plt.title('Histogram untuk four_g')\n",
    "plt.ylabel('Frekuensi')\n",
    "plt.xlabel('four_g')\n",
    "plt.show()"
   ]
  },
  {
   "cell_type": "code",
   "execution_count": 57,
   "metadata": {},
   "outputs": [
    {
     "data": {
      "image/png": "[encoded data removed]",
      "text/plain": [
       "<Figure size 360x360 with 1 Axes>"
      ]
     },
     "metadata": {},
     "output_type": "display_data"
    }
   ],
   "source": [
    "count, bin_edges = np.histogram(df['three_g'])\n",
    "df['three_g'].plot(kind = 'hist', xticks = bin_edges, color = \"skyblue\")\n",
    "plt.title('Histogram untuk three_g')\n",
    "plt.ylabel('Frekuensi')\n",
    "plt.xlabel('three_g')\n",
    "plt.show()"
   ]
  },
  {
   "cell_type": "code",
   "execution_count": 58,
   "metadata": {},
   "outputs": [
    {
     "data": {
      "image/png": "[encoded data removed]",
      "text/plain": [
       "<Figure size 360x360 with 1 Axes>"
      ]
     },
     "metadata": {},
     "output_type": "display_data"
    }
   ],
   "source": [
    "count, bin_edges = np.histogram(df['pc'])\n",
    "df['pc'].plot(kind = 'hist', xticks = bin_edges, color = \"skyblue\")\n",
    "plt.title('Histogram untuk pc')\n",
    "plt.ylabel('Frekuensi')\n",
    "plt.xlabel('pc')\n",
    "plt.show()"
   ]
  },
  {
   "cell_type": "markdown",
   "metadata": {},
   "source": [
    "----"
   ]
  },
  {
   "cell_type": "code",
   "execution_count": 43,
   "metadata": {},
   "outputs": [],
   "source": [
    "x_train, x_valid, y_train, y_valid = train_test_split(X, Y, test_size = 0.2, random_state = 101, stratify = Y)"
   ]
  },
  {
   "cell_type": "code",
   "execution_count": 45,
   "metadata": {},
   "outputs": [
    {
     "data": {
      "text/html": [
       "<style>#sk-container-id-4 {color: black;background-color: white;}#sk-container-id-4 pre{padding: 0;}#sk-container-id-4 div.sk-toggleable {background-color: white;}#sk-container-id-4 label.sk-toggleable__label {cursor: pointer;display: block;width: 100%;margin-bottom: 0;padding: 0.3em;box-sizing: border-box;text-align: center;}#sk-container-id-4 label.sk-toggleable__label-arrow:before {content: \"▸\";float: left;margin-right: 0.25em;color: #696969;}#sk-container-id-4 label.sk-toggleable__label-arrow:hover:before {color: black;}#sk-container-id-4 div.sk-estimator:hover label.sk-toggleable__label-arrow:before {color: black;}#sk-container-id-4 div.sk-toggleable__content {max-height: 0;max-width: 0;overflow: hidden;text-align: left;background-color: #f0f8ff;}#sk-container-id-4 div.sk-toggleable__content pre {margin: 0.2em;color: black;border-radius: 0.25em;background-color: #f0f8ff;}#sk-container-id-4 input.sk-toggleable__control:checked~div.sk-toggleable__content {max-height: 200px;max-width: 100%;overflow: auto;}#sk-container-id-4 input.sk-toggleable__control:checked~label.sk-toggleable__label-arrow:before {content: \"▾\";}#sk-container-id-4 div.sk-estimator input.sk-toggleable__control:checked~label.sk-toggleable__label {background-color: #d4ebff;}#sk-container-id-4 div.sk-label input.sk-toggleable__control:checked~label.sk-toggleable__label {background-color: #d4ebff;}#sk-container-id-4 input.sk-hidden--visually {border: 0;clip: rect(1px 1px 1px 1px);clip: rect(1px, 1px, 1px, 1px);height: 1px;margin: -1px;overflow: hidden;padding: 0;position: absolute;width: 1px;}#sk-container-id-4 div.sk-estimator {font-family: monospace;background-color: #f0f8ff;border: 1px dotted black;border-radius: 0.25em;box-sizing: border-box;margin-bottom: 0.5em;}#sk-container-id-4 div.sk-estimator:hover {background-color: #d4ebff;}#sk-container-id-4 div.sk-parallel-item::after {content: \"\";width: 100%;border-bottom: 1px solid gray;flex-grow: 1;}#sk-container-id-4 div.sk-label:hover label.sk-toggleable__label {background-color: #d4ebff;}#sk-container-id-4 div.sk-serial::before {content: \"\";position: absolute;border-left: 1px solid gray;box-sizing: border-box;top: 0;bottom: 0;left: 50%;z-index: 0;}#sk-container-id-4 div.sk-serial {display: flex;flex-direction: column;align-items: center;background-color: white;padding-right: 0.2em;padding-left: 0.2em;position: relative;}#sk-container-id-4 div.sk-item {position: relative;z-index: 1;}#sk-container-id-4 div.sk-parallel {display: flex;align-items: stretch;justify-content: center;background-color: white;position: relative;}#sk-container-id-4 div.sk-item::before, #sk-container-id-4 div.sk-parallel-item::before {content: \"\";position: absolute;border-left: 1px solid gray;box-sizing: border-box;top: 0;bottom: 0;left: 50%;z-index: -1;}#sk-container-id-4 div.sk-parallel-item {display: flex;flex-direction: column;z-index: 1;position: relative;background-color: white;}#sk-container-id-4 div.sk-parallel-item:first-child::after {align-self: flex-end;width: 50%;}#sk-container-id-4 div.sk-parallel-item:last-child::after {align-self: flex-start;width: 50%;}#sk-container-id-4 div.sk-parallel-item:only-child::after {width: 0;}#sk-container-id-4 div.sk-dashed-wrapped {border: 1px dashed gray;margin: 0 0.4em 0.5em 0.4em;box-sizing: border-box;padding-bottom: 0.4em;background-color: white;}#sk-container-id-4 div.sk-label label {font-family: monospace;font-weight: bold;display: inline-block;line-height: 1.2em;}#sk-container-id-4 div.sk-label-container {text-align: center;}#sk-container-id-4 div.sk-container {/* jupyter's `normalize.less` sets `[hidden] { display: none; }` but bootstrap.min.css set `[hidden] { display: none !important; }` so we also need the `!important` here to be able to override the default hidden behavior on the sphinx rendered scikit-learn.org. See: https://github.com/scikit-learn/scikit-learn/issues/21755 */display: inline-block !important;position: relative;}#sk-container-id-4 div.sk-text-repr-fallback {display: none;}</style><div id=\"sk-container-id-4\" class=\"sk-top-container\"><div class=\"sk-text-repr-fallback\"><pre>KNeighborsClassifier(n_neighbors=3)</pre><b>In a Jupyter environment, please rerun this cell to show the HTML representation or trust the notebook. <br />On GitHub, the HTML representation is unable to render, please try loading this page with nbviewer.org.</b></div><div class=\"sk-container\" hidden><div class=\"sk-item\"><div class=\"sk-estimator sk-toggleable\"><input class=\"sk-toggleable__control sk-hidden--visually\" id=\"sk-estimator-id-4\" type=\"checkbox\" checked><label for=\"sk-estimator-id-4\" class=\"sk-toggleable__label sk-toggleable__label-arrow\">KNeighborsClassifier</label><div class=\"sk-toggleable__content\"><pre>KNeighborsClassifier(n_neighbors=3)</pre></div></div></div></div></div>"
      ],
      "text/plain": [
       "KNeighborsClassifier(n_neighbors=3)"
      ]
     },
     "execution_count": 45,
     "metadata": {},
     "output_type": "execute_result"
    }
   ],
   "source": [
    "model_knn = KNeighborsClassifier(n_neighbors=3)  \n",
    "model_knn.fit(x_train, y_train)"
   ]
  },
  {
   "cell_type": "code",
   "execution_count": 46,
   "metadata": {},
   "outputs": [],
   "source": [
    "y_pred_knn = model_knn.predict(x_valid) "
   ]
  },
  {
   "cell_type": "code",
   "execution_count": 47,
   "metadata": {},
   "outputs": [
    {
     "name": "stdout",
     "output_type": "stream",
     "text": [
      "[[87  3  0  0]\n",
      " [ 5 84  2  0]\n",
      " [ 0  9 75  7]\n",
      " [ 0  0  5 87]]\n"
     ]
    }
   ],
   "source": [
    "print(metrics.confusion_matrix(y_valid, y_pred_knn)) "
   ]
  },
  {
   "cell_type": "code",
   "execution_count": 48,
   "metadata": {},
   "outputs": [
    {
     "data": {
      "text/plain": [
       "{'n_neighbors': 9}"
      ]
     },
     "execution_count": 48,
     "metadata": {},
     "output_type": "execute_result"
    }
   ],
   "source": [
    "from sklearn.model_selection import GridSearchCV\n",
    "parameters = {'n_neighbors':np.arange(1,30)}\n",
    "knn = KNeighborsClassifier()\n",
    "\n",
    "model = GridSearchCV(knn, parameters, cv=5)\n",
    "model.fit(x_train, y_train)\n",
    "model.best_params_"
   ]
  },
  {
   "cell_type": "code",
   "execution_count": 49,
   "metadata": {},
   "outputs": [
    {
     "data": {
      "text/html": [
       "<style>#sk-container-id-5 {color: black;background-color: white;}#sk-container-id-5 pre{padding: 0;}#sk-container-id-5 div.sk-toggleable {background-color: white;}#sk-container-id-5 label.sk-toggleable__label {cursor: pointer;display: block;width: 100%;margin-bottom: 0;padding: 0.3em;box-sizing: border-box;text-align: center;}#sk-container-id-5 label.sk-toggleable__label-arrow:before {content: \"▸\";float: left;margin-right: 0.25em;color: #696969;}#sk-container-id-5 label.sk-toggleable__label-arrow:hover:before {color: black;}#sk-container-id-5 div.sk-estimator:hover label.sk-toggleable__label-arrow:before {color: black;}#sk-container-id-5 div.sk-toggleable__content {max-height: 0;max-width: 0;overflow: hidden;text-align: left;background-color: #f0f8ff;}#sk-container-id-5 div.sk-toggleable__content pre {margin: 0.2em;color: black;border-radius: 0.25em;background-color: #f0f8ff;}#sk-container-id-5 input.sk-toggleable__control:checked~div.sk-toggleable__content {max-height: 200px;max-width: 100%;overflow: auto;}#sk-container-id-5 input.sk-toggleable__control:checked~label.sk-toggleable__label-arrow:before {content: \"▾\";}#sk-container-id-5 div.sk-estimator input.sk-toggleable__control:checked~label.sk-toggleable__label {background-color: #d4ebff;}#sk-container-id-5 div.sk-label input.sk-toggleable__control:checked~label.sk-toggleable__label {background-color: #d4ebff;}#sk-container-id-5 input.sk-hidden--visually {border: 0;clip: rect(1px 1px 1px 1px);clip: rect(1px, 1px, 1px, 1px);height: 1px;margin: -1px;overflow: hidden;padding: 0;position: absolute;width: 1px;}#sk-container-id-5 div.sk-estimator {font-family: monospace;background-color: #f0f8ff;border: 1px dotted black;border-radius: 0.25em;box-sizing: border-box;margin-bottom: 0.5em;}#sk-container-id-5 div.sk-estimator:hover {background-color: #d4ebff;}#sk-container-id-5 div.sk-parallel-item::after {content: \"\";width: 100%;border-bottom: 1px solid gray;flex-grow: 1;}#sk-container-id-5 div.sk-label:hover label.sk-toggleable__label {background-color: #d4ebff;}#sk-container-id-5 div.sk-serial::before {content: \"\";position: absolute;border-left: 1px solid gray;box-sizing: border-box;top: 0;bottom: 0;left: 50%;z-index: 0;}#sk-container-id-5 div.sk-serial {display: flex;flex-direction: column;align-items: center;background-color: white;padding-right: 0.2em;padding-left: 0.2em;position: relative;}#sk-container-id-5 div.sk-item {position: relative;z-index: 1;}#sk-container-id-5 div.sk-parallel {display: flex;align-items: stretch;justify-content: center;background-color: white;position: relative;}#sk-container-id-5 div.sk-item::before, #sk-container-id-5 div.sk-parallel-item::before {content: \"\";position: absolute;border-left: 1px solid gray;box-sizing: border-box;top: 0;bottom: 0;left: 50%;z-index: -1;}#sk-container-id-5 div.sk-parallel-item {display: flex;flex-direction: column;z-index: 1;position: relative;background-color: white;}#sk-container-id-5 div.sk-parallel-item:first-child::after {align-self: flex-end;width: 50%;}#sk-container-id-5 div.sk-parallel-item:last-child::after {align-self: flex-start;width: 50%;}#sk-container-id-5 div.sk-parallel-item:only-child::after {width: 0;}#sk-container-id-5 div.sk-dashed-wrapped {border: 1px dashed gray;margin: 0 0.4em 0.5em 0.4em;box-sizing: border-box;padding-bottom: 0.4em;background-color: white;}#sk-container-id-5 div.sk-label label {font-family: monospace;font-weight: bold;display: inline-block;line-height: 1.2em;}#sk-container-id-5 div.sk-label-container {text-align: center;}#sk-container-id-5 div.sk-container {/* jupyter's `normalize.less` sets `[hidden] { display: none; }` but bootstrap.min.css set `[hidden] { display: none !important; }` so we also need the `!important` here to be able to override the default hidden behavior on the sphinx rendered scikit-learn.org. See: https://github.com/scikit-learn/scikit-learn/issues/21755 */display: inline-block !important;position: relative;}#sk-container-id-5 div.sk-text-repr-fallback {display: none;}</style><div id=\"sk-container-id-5\" class=\"sk-top-container\"><div class=\"sk-text-repr-fallback\"><pre>KNeighborsClassifier(n_neighbors=9)</pre><b>In a Jupyter environment, please rerun this cell to show the HTML representation or trust the notebook. <br />On GitHub, the HTML representation is unable to render, please try loading this page with nbviewer.org.</b></div><div class=\"sk-container\" hidden><div class=\"sk-item\"><div class=\"sk-estimator sk-toggleable\"><input class=\"sk-toggleable__control sk-hidden--visually\" id=\"sk-estimator-id-5\" type=\"checkbox\" checked><label for=\"sk-estimator-id-5\" class=\"sk-toggleable__label sk-toggleable__label-arrow\">KNeighborsClassifier</label><div class=\"sk-toggleable__content\"><pre>KNeighborsClassifier(n_neighbors=9)</pre></div></div></div></div></div>"
      ],
      "text/plain": [
       "KNeighborsClassifier(n_neighbors=9)"
      ]
     },
     "execution_count": 49,
     "metadata": {},
     "output_type": "execute_result"
    }
   ],
   "source": [
    "model_knn = KNeighborsClassifier(n_neighbors=9)  \n",
    "model_knn.fit(x_train, y_train)"
   ]
  },
  {
   "cell_type": "code",
   "execution_count": 50,
   "metadata": {},
   "outputs": [],
   "source": [
    "y_pred_knn = model_knn.predict(x_valid) "
   ]
  },
  {
   "cell_type": "code",
   "execution_count": 53,
   "metadata": {},
   "outputs": [
    {
     "data": {
      "text/plain": [
       "0.9230769230769231"
      ]
     },
     "execution_count": 53,
     "metadata": {},
     "output_type": "execute_result"
    }
   ],
   "source": [
    "acc_knn = accuracy_score(y_valid, y_pred_knn)\n",
    "acc_knn"
   ]
  },
  {
   "cell_type": "markdown",
   "metadata": {},
   "source": [
    "----"
   ]
  },
  {
   "cell_type": "markdown",
   "metadata": {},
   "source": [
    "----"
   ]
  },
  {
   "cell_type": "markdown",
   "metadata": {},
   "source": [
    "----"
   ]
  },
  {
   "cell_type": "code",
   "execution_count": 4,
   "metadata": {},
   "outputs": [],
   "source": [
    "df = pd.read_csv('train_HP.csv')\n",
    "\n"
   ]
  },
  {
   "cell_type": "code",
   "execution_count": 5,
   "metadata": {},
   "outputs": [],
   "source": [
    "df=df[df['sc_w'] > 0]"
   ]
  },
  {
   "cell_type": "code",
   "execution_count": 19,
   "metadata": {},
   "outputs": [],
   "source": [
    "#Buat features dari 4 kolom pertama\n",
    "dt_20kol = df[['battery_power', 'blue', 'clock_speed', 'dual_sim', 'fc', 'four_g', 'int_memory', 'm_dep', 'mobile_wt', 'n_cores',\t\n",
    "'px_height', 'px_width', 'ram', 'sc_h', 'sc_w', 'talk_time', 'three_g', 'touch_screen', 'wifi']]\n",
    "#Buat array Numpy utk features\n",
    "array_20kol = np.array(dt_20kol.values)"
   ]
  },
  {
   "cell_type": "code",
   "execution_count": 21,
   "metadata": {},
   "outputs": [
    {
     "name": "stdout",
     "output_type": "stream",
     "text": [
      "[1 2 2 ... 3 0 3]\n"
     ]
    }
   ],
   "source": [
    "#Buat label kelas dari kolom ke 5\n",
    "labels = df[['price_range']]  # hasil: 1 kolom \n",
    "#Buat array Numpy utk kelas/label\n",
    "label_np = np.array(labels.values) # numpy array \n",
    "\n",
    "#Ubah matriks 1 kolom ke 1 baris (spy dpt jadi parameter le.fit_transform(.))\n",
    "label_np= label_np.ravel()\n",
    "\n",
    "#creating labelEncoder\n",
    "le = preprocessing.LabelEncoder()\n",
    "\n",
    "\n",
    "#Ubah label string ke numerik\n",
    "labels_en = le.fit_transform(label_np)\n",
    "print(labels_en)"
   ]
  },
  {
   "cell_type": "code",
   "execution_count": 22,
   "metadata": {},
   "outputs": [],
   "source": [
    "X = array_20kol\n",
    "Y = labels_en"
   ]
  },
  {
   "cell_type": "code",
   "execution_count": 23,
   "metadata": {},
   "outputs": [
    {
     "data": {
      "text/plain": [
       "<bound method NDFrame.head of       battery_power  int_memory  mobile_wt  px_height  px_width   ram  sc_w\n",
       "0               842           7        188         20       756  2549     7\n",
       "1              1021          53        136        905      1988  2631     3\n",
       "2               563          41        145       1263      1716  2603     2\n",
       "3               615          10        131       1216      1786  2769     8\n",
       "4              1821          44        141       1208      1212  1411     2\n",
       "...             ...         ...        ...        ...       ...   ...   ...\n",
       "1995            794           2        106       1222      1890   668     4\n",
       "1996           1965          39        187        915      1965  2032    10\n",
       "1997           1911          36        108        868      1632  3057     1\n",
       "1998           1512          46        145        336       670   869    10\n",
       "1999            510          45        168        483       754  3919     4\n",
       "\n",
       "[1819 rows x 7 columns]>"
      ]
     },
     "execution_count": 23,
     "metadata": {},
     "output_type": "execute_result"
    }
   ],
   "source": [
    "selector  = SelectKBest(score_func=chi2, k=7)\n",
    "selector.fit(X, Y)\n",
    "\n",
    "# Ambil kolom yg terpilih (dg koefisien chi-square terbaik)\n",
    "cols = selector.get_support(indices=True)\n",
    "# Buat fitur dataframe dgn k kolom paling signifikan\n",
    "df_features = dt_20kol.iloc[:,cols]\n",
    "\n",
    "df_features.head"
   ]
  },
  {
   "cell_type": "code",
   "execution_count": 24,
   "metadata": {},
   "outputs": [],
   "source": [
    "array_fitur = np.array(df_features.values)\n",
    "\n",
    "# Split dataset into training set and test set: 70% training and 30% test\n",
    "\n",
    "X_train, X_test, Y_train, Y_test = train_test_split(array_fitur, labels_en, test_size=0.3) \n",
    "\n",
    "#Klasifikasi setdata bunga Iris dgn algoritma kNN\n",
    "#Buat model dgn jumlah neighbor (k) mulai dari 3 (lakukan eksperimen dengan nilai K yang bervariasi)\n",
    "#Cari nilai k terbaik dgn memilih nilai akurasi tertinggi\n",
    "#Simpan model dgn k terbaik\n",
    "kNN_model = KNeighborsClassifier(n_neighbors=7)\n",
    "\n",
    "#Train the model using the training sets\n",
    "kNN_model.fit(X_train, Y_train)\n",
    "\n",
    "#Predict the response for test dataset\n",
    "Y_pred = kNN_model.predict(X_test)"
   ]
  },
  {
   "cell_type": "code",
   "execution_count": 25,
   "metadata": {},
   "outputs": [],
   "source": [
    "classes = ['0', '1', '2', '3']"
   ]
  },
  {
   "cell_type": "code",
   "execution_count": 150,
   "metadata": {},
   "outputs": [],
   "source": [
    "# selector  = SelectKBest(score_func=chi2, k=5)\n",
    "# selector.fit(X, Y)\n",
    "\n",
    "# cols = selector.get_support(indices=True)\n",
    "# df_features = dt_20kol.iloc[:,cols]\n",
    "# array_fitur = np.array(df_features.values)\n",
    "# X_train, X_test, Y_train, Y_test = train_test_split(array_fitur, labels_en, test_size=0.3) \n",
    "# kNN_model = KNeighborsClassifier(n_neighbors=4)\n",
    "# kNN_model.fit(X_train, Y_train)\n",
    "# Y_pred = kNN_model.predict(X_test)"
   ]
  },
  {
   "cell_type": "code",
   "execution_count": 26,
   "metadata": {},
   "outputs": [
    {
     "name": "stdout",
     "output_type": "stream",
     "text": [
      "              precision    recall  f1-score   support\n",
      "\n",
      "           0       0.95      0.97      0.96       146\n",
      "           1       0.93      0.90      0.92       126\n",
      "           2       0.91      0.95      0.93       145\n",
      "           3       0.97      0.92      0.94       129\n",
      "\n",
      "    accuracy                           0.94       546\n",
      "   macro avg       0.94      0.94      0.94       546\n",
      "weighted avg       0.94      0.94      0.94       546\n",
      "\n"
     ]
    }
   ],
   "source": [
    "from sklearn.metrics import classification_report\n",
    "print(classification_report(Y_test, Y_pred, target_names = classes))"
   ]
  },
  {
   "cell_type": "markdown",
   "metadata": {},
   "source": [
    "----\n"
   ]
  },
  {
   "cell_type": "code",
   "execution_count": 109,
   "metadata": {},
   "outputs": [],
   "source": [
    "df = pd.read_csv('train_HP.csv')\n",
    "df=df[df['sc_w'] > 0]\n",
    "\n",
    "dt_20kol = df[['battery_power', 'blue', 'clock_speed', 'dual_sim', 'fc', 'four_g', 'int_memory', 'm_dep', 'mobile_wt', 'n_cores', 'pc',\t\n",
    "'px_height', 'px_width', 'ram', 'sc_h', 'sc_w', 'talk_time', 'three_g', 'touch_screen', 'wifi']]\n",
    "\n",
    "array_20kol = np.array(dt_20kol.values)\n",
    "labels = df[['price_range']]  \n",
    "\n",
    "label_np = np.array(labels.values)\n",
    "\n",
    "label_np= label_np.ravel()\n",
    "\n",
    "le = preprocessing.LabelEncoder()\n",
    "\n",
    "labels_en = le.fit_transform(label_np)"
   ]
  },
  {
   "cell_type": "code",
   "execution_count": 6,
   "metadata": {},
   "outputs": [],
   "source": [
    "X = array_20kol\n",
    "Y = labels_en"
   ]
  },
  {
   "cell_type": "code",
   "execution_count": 7,
   "metadata": {},
   "outputs": [],
   "source": [
    "classes = ['0', '1', '2', '3']"
   ]
  },
  {
   "cell_type": "code",
   "execution_count": 123,
   "metadata": {},
   "outputs": [
    {
     "name": "stdout",
     "output_type": "stream",
     "text": [
      "k = 2\n",
      "              precision    recall  f1-score   support\n",
      "\n",
      "           0       0.85      0.86      0.86       139\n",
      "           1       0.72      0.65      0.69       147\n",
      "           2       0.61      0.69      0.65       121\n",
      "           3       0.85      0.84      0.85       139\n",
      "\n",
      "    accuracy                           0.76       546\n",
      "   macro avg       0.76      0.76      0.76       546\n",
      "weighted avg       0.76      0.76      0.76       546\n",
      "\n",
      "k = 3\n",
      "              precision    recall  f1-score   support\n",
      "\n",
      "           0       0.89      0.88      0.89       143\n",
      "           1       0.70      0.75      0.73       143\n",
      "           2       0.73      0.64      0.68       149\n",
      "           3       0.79      0.86      0.82       111\n",
      "\n",
      "    accuracy                           0.78       546\n",
      "   macro avg       0.78      0.78      0.78       546\n",
      "weighted avg       0.78      0.78      0.78       546\n",
      "\n",
      "k = 4\n",
      "              precision    recall  f1-score   support\n",
      "\n",
      "           0       0.93      0.92      0.92       149\n",
      "           1       0.76      0.73      0.74       146\n",
      "           2       0.64      0.67      0.65       118\n",
      "           3       0.87      0.88      0.88       133\n",
      "\n",
      "    accuracy                           0.80       546\n",
      "   macro avg       0.80      0.80      0.80       546\n",
      "weighted avg       0.81      0.80      0.80       546\n",
      "\n",
      "k = 5\n",
      "              precision    recall  f1-score   support\n",
      "\n",
      "           0       0.89      0.88      0.88       135\n",
      "           1       0.67      0.74      0.70       133\n",
      "           2       0.71      0.62      0.66       151\n",
      "           3       0.82      0.85      0.83       127\n",
      "\n",
      "    accuracy                           0.77       546\n",
      "   macro avg       0.77      0.77      0.77       546\n",
      "weighted avg       0.77      0.77      0.77       546\n",
      "\n",
      "k = 6\n",
      "              precision    recall  f1-score   support\n",
      "\n",
      "           0       0.88      0.92      0.90       130\n",
      "           1       0.76      0.70      0.73       142\n",
      "           2       0.69      0.73      0.71       131\n",
      "           3       0.90      0.87      0.89       143\n",
      "\n",
      "    accuracy                           0.81       546\n",
      "   macro avg       0.81      0.81      0.81       546\n",
      "weighted avg       0.81      0.81      0.81       546\n",
      "\n",
      "k = 7\n",
      "              precision    recall  f1-score   support\n",
      "\n",
      "           0       0.90      0.88      0.89       136\n",
      "           1       0.72      0.68      0.70       135\n",
      "           2       0.65      0.75      0.69       132\n",
      "           3       0.90      0.83      0.87       143\n",
      "\n",
      "    accuracy                           0.79       546\n",
      "   macro avg       0.79      0.79      0.79       546\n",
      "weighted avg       0.79      0.79      0.79       546\n",
      "\n",
      "k = 8\n",
      "              precision    recall  f1-score   support\n",
      "\n",
      "           0       0.93      0.86      0.89       134\n",
      "           1       0.69      0.73      0.71       143\n",
      "           2       0.67      0.70      0.68       127\n",
      "           3       0.92      0.91      0.91       142\n",
      "\n",
      "    accuracy                           0.80       546\n",
      "   macro avg       0.80      0.80      0.80       546\n",
      "weighted avg       0.81      0.80      0.80       546\n",
      "\n",
      "k = 9\n",
      "              precision    recall  f1-score   support\n",
      "\n",
      "           0       0.90      0.85      0.87       135\n",
      "           1       0.67      0.71      0.69       146\n",
      "           2       0.68      0.67      0.68       135\n",
      "           3       0.90      0.90      0.90       130\n",
      "\n",
      "    accuracy                           0.78       546\n",
      "   macro avg       0.79      0.78      0.78       546\n",
      "weighted avg       0.78      0.78      0.78       546\n",
      "\n",
      "k = 10\n",
      "              precision    recall  f1-score   support\n",
      "\n",
      "           0       0.91      0.86      0.88       145\n",
      "           1       0.66      0.71      0.68       130\n",
      "           2       0.75      0.74      0.74       144\n",
      "           3       0.91      0.91      0.91       127\n",
      "\n",
      "    accuracy                           0.80       546\n",
      "   macro avg       0.80      0.80      0.80       546\n",
      "weighted avg       0.81      0.80      0.80       546\n",
      "\n",
      "k = 11\n",
      "              precision    recall  f1-score   support\n",
      "\n",
      "           0       0.94      0.90      0.92       137\n",
      "           1       0.78      0.73      0.76       139\n",
      "           2       0.71      0.82      0.76       130\n",
      "           3       0.94      0.90      0.92       140\n",
      "\n",
      "    accuracy                           0.84       546\n",
      "   macro avg       0.84      0.84      0.84       546\n",
      "weighted avg       0.84      0.84      0.84       546\n",
      "\n",
      "k = 12\n",
      "              precision    recall  f1-score   support\n",
      "\n",
      "           0       0.88      0.89      0.89       123\n",
      "           1       0.74      0.71      0.72       139\n",
      "           2       0.66      0.74      0.70       131\n",
      "           3       0.92      0.85      0.88       153\n",
      "\n",
      "    accuracy                           0.80       546\n",
      "   macro avg       0.80      0.80      0.80       546\n",
      "weighted avg       0.80      0.80      0.80       546\n",
      "\n",
      "k = 13\n",
      "              precision    recall  f1-score   support\n",
      "\n",
      "           0       0.95      0.92      0.93       121\n",
      "           1       0.79      0.77      0.78       138\n",
      "           2       0.68      0.74      0.71       138\n",
      "           3       0.88      0.86      0.87       149\n",
      "\n",
      "    accuracy                           0.82       546\n",
      "   macro avg       0.83      0.82      0.82       546\n",
      "weighted avg       0.82      0.82      0.82       546\n",
      "\n",
      "k = 14\n",
      "              precision    recall  f1-score   support\n",
      "\n",
      "           0       0.90      0.94      0.92       125\n",
      "           1       0.74      0.60      0.66       146\n",
      "           2       0.63      0.76      0.69       139\n",
      "           3       0.92      0.88      0.90       136\n",
      "\n",
      "    accuracy                           0.79       546\n",
      "   macro avg       0.80      0.79      0.79       546\n",
      "weighted avg       0.79      0.79      0.79       546\n",
      "\n",
      "k = 15\n",
      "              precision    recall  f1-score   support\n",
      "\n",
      "           0       0.93      0.88      0.90       144\n",
      "           1       0.66      0.71      0.69       126\n",
      "           2       0.67      0.71      0.69       136\n",
      "           3       0.90      0.84      0.87       140\n",
      "\n",
      "    accuracy                           0.79       546\n",
      "   macro avg       0.79      0.78      0.78       546\n",
      "weighted avg       0.79      0.79      0.79       546\n",
      "\n",
      "k = 16\n",
      "              precision    recall  f1-score   support\n",
      "\n",
      "           0       0.91      0.93      0.92       127\n",
      "           1       0.77      0.72      0.74       146\n",
      "           2       0.64      0.74      0.69       133\n",
      "           3       0.91      0.82      0.86       140\n",
      "\n",
      "    accuracy                           0.80       546\n",
      "   macro avg       0.81      0.80      0.80       546\n",
      "weighted avg       0.81      0.80      0.80       546\n",
      "\n",
      "k = 17\n",
      "              precision    recall  f1-score   support\n",
      "\n",
      "           0       0.92      0.88      0.90       124\n",
      "           1       0.72      0.72      0.72       145\n",
      "           2       0.66      0.74      0.70       136\n",
      "           3       0.92      0.84      0.88       141\n",
      "\n",
      "    accuracy                           0.79       546\n",
      "   macro avg       0.80      0.80      0.80       546\n",
      "weighted avg       0.80      0.79      0.80       546\n",
      "\n",
      "k = 18\n",
      "              precision    recall  f1-score   support\n",
      "\n",
      "           0       0.93      0.84      0.88       138\n",
      "           1       0.67      0.76      0.71       136\n",
      "           2       0.72      0.70      0.71       143\n",
      "           3       0.89      0.88      0.89       129\n",
      "\n",
      "    accuracy                           0.79       546\n",
      "   macro avg       0.80      0.80      0.80       546\n",
      "weighted avg       0.80      0.79      0.80       546\n",
      "\n",
      "k = 19\n",
      "              precision    recall  f1-score   support\n",
      "\n",
      "           0       0.87      0.85      0.86       138\n",
      "           1       0.75      0.69      0.72       148\n",
      "           2       0.66      0.81      0.73       122\n",
      "           3       0.92      0.85      0.88       138\n",
      "\n",
      "    accuracy                           0.80       546\n",
      "   macro avg       0.80      0.80      0.80       546\n",
      "weighted avg       0.81      0.80      0.80       546\n",
      "\n",
      "k = 20\n",
      "              precision    recall  f1-score   support\n",
      "\n",
      "           0       0.94      0.91      0.92       147\n",
      "           1       0.78      0.73      0.76       138\n",
      "           2       0.68      0.75      0.72       130\n",
      "           3       0.88      0.87      0.87       131\n",
      "\n",
      "    accuracy                           0.82       546\n",
      "   macro avg       0.82      0.82      0.82       546\n",
      "weighted avg       0.82      0.82      0.82       546\n",
      "\n"
     ]
    }
   ],
   "source": [
    "arrAkurasiNB = []\n",
    "for x in range(2, 21):\n",
    "    selector  = SelectKBest(score_func=chi2, k=x)\n",
    "    selector.fit(X, Y)\n",
    "\n",
    "    cols = selector.get_support(indices=True)\n",
    "\n",
    "    df_features = dt_20kol.iloc[:,cols]\n",
    "\n",
    "    array_fitur = np.array(df_features.values)\n",
    "\n",
    "    X_train, X_test, Y_train, Y_test = train_test_split(array_fitur, labels_en, test_size=0.3) \n",
    "\n",
    "    from sklearn.naive_bayes import GaussianNB\n",
    "\n",
    "    NBC_model = GaussianNB()\n",
    "\n",
    "    NBC_model.fit(X_train, Y_train)\n",
    "\n",
    "    Y_pred = NBC_model.predict(X_test)\n",
    "\n",
    "    from sklearn.metrics import classification_report\n",
    "    print('k =', x)\n",
    "    print(classification_report(Y_test, Y_pred, target_names = classes))\n",
    "\n",
    "    akurasi = classification_report(Y_test, Y_pred,target_names = classes, output_dict=True)\n",
    "    dtAkurasi = akurasi['accuracy']\n",
    "    arrAkurasiNB.append(dtAkurasi)\n",
    "    x+=1"
   ]
  },
  {
   "cell_type": "code",
   "execution_count": 124,
   "metadata": {},
   "outputs": [],
   "source": [
    "index = range(2, 21)\n",
    "dfAkurasi = pd.DataFrame(list(zip(arrAkurasiNB)), columns=['accuracy'], index=index)"
   ]
  },
  {
   "cell_type": "code",
   "execution_count": 125,
   "metadata": {},
   "outputs": [
    {
     "data": {
      "text/plain": [
       "(0.0, 20.9)"
      ]
     },
     "execution_count": 125,
     "metadata": {},
     "output_type": "execute_result"
    },
    {
     "data": {
      "image/png": "[encoded data removed]",
      "text/plain": [
       "<Figure size 864x720 with 1 Axes>"
      ]
     },
     "metadata": {},
     "output_type": "display_data"
    }
   ],
   "source": [
    "sns.scatterplot(data = dfAkurasi, s = 300)\n",
    "sns.set(rc={'figure.figsize':(12, 10)})\n",
    "plt.xlim(0, None)"
   ]
  },
  {
   "cell_type": "code",
   "execution_count": 2,
   "metadata": {},
   "outputs": [],
   "source": [
    "df = pd.read_csv('train_HP.csv')\n",
    "df=df[df['sc_w'] > 0]\n",
    "\n",
    "dt_20kol = df[['battery_power', 'blue', 'clock_speed', 'dual_sim', 'fc', 'four_g', 'int_memory', 'm_dep', 'mobile_wt', 'n_cores', 'pc',\t\n",
    "'px_height', 'px_width', 'ram', 'sc_h', 'sc_w', 'talk_time', 'three_g', 'touch_screen', 'wifi']]\n",
    "\n",
    "array_20kol = np.array(dt_20kol.values)\n",
    "labels = df[['price_range']]  \n",
    "\n",
    "label_np = np.array(labels.values)\n",
    "\n",
    "label_np= label_np.ravel()\n",
    "\n",
    "le = preprocessing.LabelEncoder()\n",
    "\n",
    "labels_en = le.fit_transform(label_np)"
   ]
  },
  {
   "cell_type": "code",
   "execution_count": 3,
   "metadata": {},
   "outputs": [],
   "source": [
    "X = array_20kol\n",
    "Y = labels_en"
   ]
  },
  {
   "cell_type": "code",
   "execution_count": 4,
   "metadata": {},
   "outputs": [
    {
     "data": {
      "text/plain": [
       "<bound method NDFrame.head of       battery_power  int_memory  mobile_wt  px_height  px_width   ram  sc_w\n",
       "0               842           7        188         20       756  2549     7\n",
       "1              1021          53        136        905      1988  2631     3\n",
       "2               563          41        145       1263      1716  2603     2\n",
       "3               615          10        131       1216      1786  2769     8\n",
       "4              1821          44        141       1208      1212  1411     2\n",
       "...             ...         ...        ...        ...       ...   ...   ...\n",
       "1995            794           2        106       1222      1890   668     4\n",
       "1996           1965          39        187        915      1965  2032    10\n",
       "1997           1911          36        108        868      1632  3057     1\n",
       "1998           1512          46        145        336       670   869    10\n",
       "1999            510          45        168        483       754  3919     4\n",
       "\n",
       "[1820 rows x 7 columns]>"
      ]
     },
     "execution_count": 4,
     "metadata": {},
     "output_type": "execute_result"
    }
   ],
   "source": [
    "selector  = SelectKBest(score_func=chi2, k=7)\n",
    "selector.fit(X, Y)\n",
    "\n",
    "cols = selector.get_support(indices=True)\n",
    "\n",
    "df_features = dt_20kol.iloc[:,cols]\n",
    "\n",
    "df_features.head"
   ]
  },
  {
   "cell_type": "code",
   "execution_count": null,
   "metadata": {},
   "outputs": [],
   "source": [
    "classes = ['0', '1', '2', '3']"
   ]
  },
  {
   "cell_type": "code",
   "execution_count": 27,
   "metadata": {},
   "outputs": [
    {
     "name": "stdout",
     "output_type": "stream",
     "text": [
      "              precision    recall  f1-score   support\n",
      "\n",
      "           0       0.94      1.00      0.97       123\n",
      "           1       0.99      0.89      0.94       149\n",
      "           2       0.88      0.92      0.89       130\n",
      "           3       0.94      0.94      0.94       144\n",
      "\n",
      "    accuracy                           0.93       546\n",
      "   macro avg       0.93      0.94      0.93       546\n",
      "weighted avg       0.94      0.93      0.93       546\n",
      "\n"
     ]
    }
   ],
   "source": [
    "array_fitur = np.array(df_features.values)\n",
    "X_train, X_test, Y_train, Y_test = train_test_split(array_fitur, labels_en, test_size=0.3) \n",
    "kNN_model = KNeighborsClassifier(n_neighbors=17)\n",
    "kNN_model.fit(X_train, Y_train)\n",
    "Y_pred = kNN_model.predict(X_test)\n",
    "\n",
    "from sklearn.metrics import classification_report\n",
    "\n",
    "print(classification_report(Y_test, Y_pred, target_names = classes))"
   ]
  },
  {
   "cell_type": "code",
   "execution_count": 38,
   "metadata": {},
   "outputs": [
    {
     "name": "stdout",
     "output_type": "stream",
     "text": [
      "neighbour = 3\n",
      "              precision    recall  f1-score   support\n",
      "\n",
      "           0       0.95      0.96      0.95       136\n",
      "           1       0.88      0.88      0.88       144\n",
      "           2       0.88      0.83      0.85       139\n",
      "           3       0.91      0.95      0.93       127\n",
      "\n",
      "    accuracy                           0.90       546\n",
      "   macro avg       0.90      0.90      0.90       546\n",
      "weighted avg       0.90      0.90      0.90       546\n",
      "\n",
      "neighbour = 4\n",
      "              precision    recall  f1-score   support\n",
      "\n",
      "           0       0.93      0.99      0.96       139\n",
      "           1       0.90      0.91      0.91       137\n",
      "           2       0.84      0.85      0.85       132\n",
      "           3       0.94      0.86      0.90       138\n",
      "\n",
      "    accuracy                           0.90       546\n",
      "   macro avg       0.90      0.90      0.90       546\n",
      "weighted avg       0.90      0.90      0.90       546\n",
      "\n",
      "neighbour = 5\n",
      "              precision    recall  f1-score   support\n",
      "\n",
      "           0       0.95      0.97      0.96       144\n",
      "           1       0.92      0.86      0.89       129\n",
      "           2       0.86      0.92      0.89       143\n",
      "           3       0.94      0.92      0.93       130\n",
      "\n",
      "    accuracy                           0.92       546\n",
      "   macro avg       0.92      0.92      0.92       546\n",
      "weighted avg       0.92      0.92      0.92       546\n",
      "\n",
      "neighbour = 6\n",
      "              precision    recall  f1-score   support\n",
      "\n",
      "           0       0.92      0.99      0.96       139\n",
      "           1       0.93      0.88      0.91       147\n",
      "           2       0.85      0.92      0.89       133\n",
      "           3       0.98      0.88      0.93       127\n",
      "\n",
      "    accuracy                           0.92       546\n",
      "   macro avg       0.92      0.92      0.92       546\n",
      "weighted avg       0.92      0.92      0.92       546\n",
      "\n",
      "neighbour = 7\n",
      "              precision    recall  f1-score   support\n",
      "\n",
      "           0       0.96      0.99      0.97       140\n",
      "           1       0.93      0.95      0.94       137\n",
      "           2       0.94      0.88      0.91       137\n",
      "           3       0.94      0.95      0.94       132\n",
      "\n",
      "    accuracy                           0.94       546\n",
      "   macro avg       0.94      0.94      0.94       546\n",
      "weighted avg       0.94      0.94      0.94       546\n",
      "\n",
      "neighbour = 8\n",
      "              precision    recall  f1-score   support\n",
      "\n",
      "           0       0.94      0.99      0.97       126\n",
      "           1       0.89      0.91      0.90       137\n",
      "           2       0.89      0.85      0.87       142\n",
      "           3       0.95      0.92      0.94       141\n",
      "\n",
      "    accuracy                           0.92       546\n",
      "   macro avg       0.92      0.92      0.92       546\n",
      "weighted avg       0.92      0.92      0.92       546\n",
      "\n",
      "neighbour = 9\n",
      "              precision    recall  f1-score   support\n",
      "\n",
      "           0       0.98      0.98      0.98       129\n",
      "           1       0.91      0.95      0.93       133\n",
      "           2       0.94      0.84      0.89       156\n",
      "           3       0.90      0.96      0.93       128\n",
      "\n",
      "    accuracy                           0.93       546\n",
      "   macro avg       0.93      0.94      0.93       546\n",
      "weighted avg       0.93      0.93      0.93       546\n",
      "\n",
      "neighbour = 10\n",
      "              precision    recall  f1-score   support\n",
      "\n",
      "           0       0.94      0.97      0.96       144\n",
      "           1       0.87      0.90      0.89       124\n",
      "           2       0.87      0.88      0.88       140\n",
      "           3       0.97      0.89      0.93       138\n",
      "\n",
      "    accuracy                           0.91       546\n",
      "   macro avg       0.91      0.91      0.91       546\n",
      "weighted avg       0.91      0.91      0.91       546\n",
      "\n",
      "neighbour = 11\n",
      "              precision    recall  f1-score   support\n",
      "\n",
      "           0       0.95      0.99      0.97       142\n",
      "           1       0.90      0.91      0.90       124\n",
      "           2       0.88      0.88      0.88       142\n",
      "           3       0.96      0.91      0.93       138\n",
      "\n",
      "    accuracy                           0.92       546\n",
      "   macro avg       0.92      0.92      0.92       546\n",
      "weighted avg       0.92      0.92      0.92       546\n",
      "\n",
      "neighbour = 12\n",
      "              precision    recall  f1-score   support\n",
      "\n",
      "           0       0.92      0.98      0.95       148\n",
      "           1       0.88      0.86      0.87       134\n",
      "           2       0.91      0.84      0.87       134\n",
      "           3       0.93      0.97      0.95       130\n",
      "\n",
      "    accuracy                           0.91       546\n",
      "   macro avg       0.91      0.91      0.91       546\n",
      "weighted avg       0.91      0.91      0.91       546\n",
      "\n",
      "neighbour = 13\n",
      "              precision    recall  f1-score   support\n",
      "\n",
      "           0       0.93      0.99      0.95       138\n",
      "           1       0.90      0.90      0.90       148\n",
      "           2       0.84      0.84      0.84       122\n",
      "           3       0.95      0.89      0.92       138\n",
      "\n",
      "    accuracy                           0.90       546\n",
      "   macro avg       0.90      0.90      0.90       546\n",
      "weighted avg       0.90      0.90      0.90       546\n",
      "\n",
      "neighbour = 14\n",
      "              precision    recall  f1-score   support\n",
      "\n",
      "           0       0.94      0.98      0.96       116\n",
      "           1       0.95      0.93      0.94       151\n",
      "           2       0.84      0.95      0.89       132\n",
      "           3       0.99      0.87      0.93       147\n",
      "\n",
      "    accuracy                           0.93       546\n",
      "   macro avg       0.93      0.93      0.93       546\n",
      "weighted avg       0.93      0.93      0.93       546\n",
      "\n",
      "neighbour = 15\n",
      "              precision    recall  f1-score   support\n",
      "\n",
      "           0       0.93      0.96      0.94       131\n",
      "           1       0.88      0.88      0.88       138\n",
      "           2       0.92      0.84      0.88       141\n",
      "           3       0.93      0.96      0.95       136\n",
      "\n",
      "    accuracy                           0.91       546\n",
      "   macro avg       0.91      0.91      0.91       546\n",
      "weighted avg       0.91      0.91      0.91       546\n",
      "\n",
      "neighbour = 16\n",
      "              precision    recall  f1-score   support\n",
      "\n",
      "           0       0.96      0.99      0.98       146\n",
      "           1       0.94      0.94      0.94       126\n",
      "           2       0.88      0.92      0.90       131\n",
      "           3       0.97      0.90      0.93       143\n",
      "\n",
      "    accuracy                           0.94       546\n",
      "   macro avg       0.94      0.94      0.94       546\n",
      "weighted avg       0.94      0.94      0.94       546\n",
      "\n",
      "neighbour = 17\n",
      "              precision    recall  f1-score   support\n",
      "\n",
      "           0       0.96      0.98      0.97       133\n",
      "           1       0.92      0.93      0.93       135\n",
      "           2       0.92      0.87      0.90       142\n",
      "           3       0.93      0.95      0.94       136\n",
      "\n",
      "    accuracy                           0.93       546\n",
      "   macro avg       0.93      0.93      0.93       546\n",
      "weighted avg       0.93      0.93      0.93       546\n",
      "\n",
      "neighbour = 18\n",
      "              precision    recall  f1-score   support\n",
      "\n",
      "           0       0.93      0.98      0.95       130\n",
      "           1       0.94      0.89      0.91       147\n",
      "           2       0.87      0.91      0.89       134\n",
      "           3       0.95      0.92      0.94       135\n",
      "\n",
      "    accuracy                           0.92       546\n",
      "   macro avg       0.92      0.92      0.92       546\n",
      "weighted avg       0.92      0.92      0.92       546\n",
      "\n",
      "neighbour = 19\n",
      "              precision    recall  f1-score   support\n",
      "\n",
      "           0       0.94      0.98      0.96       145\n",
      "           1       0.91      0.89      0.90       127\n",
      "           2       0.86      0.89      0.87       125\n",
      "           3       0.96      0.91      0.93       149\n",
      "\n",
      "    accuracy                           0.92       546\n",
      "   macro avg       0.92      0.92      0.92       546\n",
      "weighted avg       0.92      0.92      0.92       546\n",
      "\n",
      "neighbour = 20\n",
      "              precision    recall  f1-score   support\n",
      "\n",
      "           0       0.89      0.98      0.93       128\n",
      "           1       0.90      0.87      0.88       145\n",
      "           2       0.87      0.87      0.87       131\n",
      "           3       0.96      0.91      0.93       142\n",
      "\n",
      "    accuracy                           0.90       546\n",
      "   macro avg       0.90      0.91      0.90       546\n",
      "weighted avg       0.91      0.90      0.90       546\n",
      "\n",
      "neighbour = 21\n",
      "              precision    recall  f1-score   support\n",
      "\n",
      "           0       0.94      0.98      0.96       134\n",
      "           1       0.86      0.92      0.89       132\n",
      "           2       0.93      0.80      0.86       151\n",
      "           3       0.90      0.95      0.93       129\n",
      "\n",
      "    accuracy                           0.91       546\n",
      "   macro avg       0.91      0.91      0.91       546\n",
      "weighted avg       0.91      0.91      0.91       546\n",
      "\n",
      "neighbour = 22\n",
      "              precision    recall  f1-score   support\n",
      "\n",
      "           0       0.92      1.00      0.96       119\n",
      "           1       0.91      0.89      0.90       141\n",
      "           2       0.85      0.87      0.86       134\n",
      "           3       0.96      0.89      0.92       152\n",
      "\n",
      "    accuracy                           0.91       546\n",
      "   macro avg       0.91      0.91      0.91       546\n",
      "weighted avg       0.91      0.91      0.91       546\n",
      "\n",
      "neighbour = 23\n",
      "              precision    recall  f1-score   support\n",
      "\n",
      "           0       0.93      0.98      0.95       118\n",
      "           1       0.88      0.90      0.89       136\n",
      "           2       0.86      0.85      0.86       149\n",
      "           3       0.94      0.89      0.91       143\n",
      "\n",
      "    accuracy                           0.90       546\n",
      "   macro avg       0.90      0.91      0.90       546\n",
      "weighted avg       0.90      0.90      0.90       546\n",
      "\n",
      "neighbour = 24\n",
      "              precision    recall  f1-score   support\n",
      "\n",
      "           0       0.95      0.98      0.97       127\n",
      "           1       0.93      0.91      0.92       139\n",
      "           2       0.87      0.91      0.89       137\n",
      "           3       0.97      0.92      0.94       143\n",
      "\n",
      "    accuracy                           0.93       546\n",
      "   macro avg       0.93      0.93      0.93       546\n",
      "weighted avg       0.93      0.93      0.93       546\n",
      "\n",
      "neighbour = 25\n",
      "              precision    recall  f1-score   support\n",
      "\n",
      "           0       0.96      0.97      0.96       124\n",
      "           1       0.86      0.93      0.89       130\n",
      "           2       0.88      0.82      0.85       147\n",
      "           3       0.93      0.92      0.92       145\n",
      "\n",
      "    accuracy                           0.91       546\n",
      "   macro avg       0.91      0.91      0.91       546\n",
      "weighted avg       0.91      0.91      0.91       546\n",
      "\n",
      "neighbour = 26\n",
      "              precision    recall  f1-score   support\n",
      "\n",
      "           0       0.93      1.00      0.96       129\n",
      "           1       0.92      0.88      0.90       136\n",
      "           2       0.84      0.88      0.86       131\n",
      "           3       0.96      0.89      0.93       150\n",
      "\n",
      "    accuracy                           0.91       546\n",
      "   macro avg       0.91      0.91      0.91       546\n",
      "weighted avg       0.91      0.91      0.91       546\n",
      "\n",
      "neighbour = 27\n",
      "              precision    recall  f1-score   support\n",
      "\n",
      "           0       0.95      0.98      0.97       124\n",
      "           1       0.94      0.90      0.92       145\n",
      "           2       0.85      0.87      0.86       143\n",
      "           3       0.91      0.90      0.91       134\n",
      "\n",
      "    accuracy                           0.91       546\n",
      "   macro avg       0.91      0.91      0.91       546\n",
      "weighted avg       0.91      0.91      0.91       546\n",
      "\n",
      "neighbour = 28\n",
      "              precision    recall  f1-score   support\n",
      "\n",
      "           0       0.92      0.96      0.94       139\n",
      "           1       0.84      0.89      0.86       136\n",
      "           2       0.90      0.85      0.87       125\n",
      "           3       0.99      0.94      0.96       146\n",
      "\n",
      "    accuracy                           0.91       546\n",
      "   macro avg       0.91      0.91      0.91       546\n",
      "weighted avg       0.91      0.91      0.91       546\n",
      "\n",
      "neighbour = 29\n",
      "              precision    recall  f1-score   support\n",
      "\n",
      "           0       0.93      0.99      0.96       139\n",
      "           1       0.95      0.87      0.91       143\n",
      "           2       0.83      0.89      0.86       126\n",
      "           3       0.94      0.90      0.92       138\n",
      "\n",
      "    accuracy                           0.91       546\n",
      "   macro avg       0.91      0.91      0.91       546\n",
      "weighted avg       0.91      0.91      0.91       546\n",
      "\n",
      "neighbour = 30\n",
      "              precision    recall  f1-score   support\n",
      "\n",
      "           0       0.94      0.98      0.96       134\n",
      "           1       0.91      0.90      0.90       139\n",
      "           2       0.85      0.89      0.87       130\n",
      "           3       0.97      0.89      0.93       143\n",
      "\n",
      "    accuracy                           0.91       546\n",
      "   macro avg       0.91      0.91      0.91       546\n",
      "weighted avg       0.92      0.91      0.91       546\n",
      "\n",
      "neighbour = 31\n",
      "              precision    recall  f1-score   support\n",
      "\n",
      "           0       0.91      0.96      0.93       133\n",
      "           1       0.91      0.85      0.88       150\n",
      "           2       0.85      0.88      0.86       125\n",
      "           3       0.95      0.92      0.93       138\n",
      "\n",
      "    accuracy                           0.90       546\n",
      "   macro avg       0.90      0.90      0.90       546\n",
      "weighted avg       0.90      0.90      0.90       546\n",
      "\n",
      "neighbour = 32\n",
      "              precision    recall  f1-score   support\n",
      "\n",
      "           0       0.97      0.97      0.97       139\n",
      "           1       0.93      0.92      0.92       125\n",
      "           2       0.90      0.89      0.89       140\n",
      "           3       0.92      0.94      0.93       142\n",
      "\n",
      "    accuracy                           0.93       546\n",
      "   macro avg       0.93      0.93      0.93       546\n",
      "weighted avg       0.93      0.93      0.93       546\n",
      "\n",
      "neighbour = 33\n",
      "              precision    recall  f1-score   support\n",
      "\n",
      "           0       0.97      0.99      0.98       147\n",
      "           1       0.89      0.93      0.91       124\n",
      "           2       0.88      0.84      0.86       147\n",
      "           3       0.91      0.90      0.91       128\n",
      "\n",
      "    accuracy                           0.91       546\n",
      "   macro avg       0.91      0.91      0.91       546\n",
      "weighted avg       0.91      0.91      0.91       546\n",
      "\n",
      "neighbour = 34\n",
      "              precision    recall  f1-score   support\n",
      "\n",
      "           0       0.94      0.99      0.96       142\n",
      "           1       0.91      0.89      0.90       141\n",
      "           2       0.91      0.89      0.90       139\n",
      "           3       0.96      0.95      0.96       124\n",
      "\n",
      "    accuracy                           0.93       546\n",
      "   macro avg       0.93      0.93      0.93       546\n",
      "weighted avg       0.93      0.93      0.93       546\n",
      "\n",
      "neighbour = 35\n",
      "              precision    recall  f1-score   support\n",
      "\n",
      "           0       0.95      0.98      0.96       150\n",
      "           1       0.90      0.90      0.90       136\n",
      "           2       0.85      0.85      0.85       131\n",
      "           3       0.94      0.90      0.92       129\n",
      "\n",
      "    accuracy                           0.91       546\n",
      "   macro avg       0.91      0.91      0.91       546\n",
      "weighted avg       0.91      0.91      0.91       546\n",
      "\n",
      "neighbour = 36\n",
      "              precision    recall  f1-score   support\n",
      "\n",
      "           0       0.96      0.95      0.96       151\n",
      "           1       0.90      0.94      0.92       125\n",
      "           2       0.94      0.89      0.91       134\n",
      "           3       0.94      0.96      0.95       136\n",
      "\n",
      "    accuracy                           0.93       546\n",
      "   macro avg       0.93      0.93      0.93       546\n",
      "weighted avg       0.93      0.93      0.93       546\n",
      "\n",
      "neighbour = 37\n",
      "              precision    recall  f1-score   support\n",
      "\n",
      "           0       0.94      0.98      0.96       134\n",
      "           1       0.90      0.88      0.89       134\n",
      "           2       0.88      0.83      0.86       144\n",
      "           3       0.90      0.93      0.92       134\n",
      "\n",
      "    accuracy                           0.90       546\n",
      "   macro avg       0.90      0.91      0.90       546\n",
      "weighted avg       0.90      0.90      0.90       546\n",
      "\n",
      "neighbour = 38\n",
      "              precision    recall  f1-score   support\n",
      "\n",
      "           0       0.95      0.99      0.97       138\n",
      "           1       0.90      0.87      0.88       132\n",
      "           2       0.86      0.85      0.85       142\n",
      "           3       0.92      0.93      0.92       134\n",
      "\n",
      "    accuracy                           0.91       546\n",
      "   macro avg       0.91      0.91      0.91       546\n",
      "weighted avg       0.91      0.91      0.91       546\n",
      "\n",
      "neighbour = 39\n",
      "              precision    recall  f1-score   support\n",
      "\n",
      "           0       0.95      0.96      0.96       132\n",
      "           1       0.87      0.93      0.90       128\n",
      "           2       0.92      0.89      0.91       152\n",
      "           3       0.97      0.94      0.95       134\n",
      "\n",
      "    accuracy                           0.93       546\n",
      "   macro avg       0.93      0.93      0.93       546\n",
      "weighted avg       0.93      0.93      0.93       546\n",
      "\n",
      "neighbour = 40\n",
      "              precision    recall  f1-score   support\n",
      "\n",
      "           0       0.96      0.98      0.97       140\n",
      "           1       0.96      0.91      0.94       143\n",
      "           2       0.82      0.90      0.86       119\n",
      "           3       0.93      0.88      0.90       144\n",
      "\n",
      "    accuracy                           0.92       546\n",
      "   macro avg       0.92      0.92      0.92       546\n",
      "weighted avg       0.92      0.92      0.92       546\n",
      "\n",
      "neighbour = 41\n",
      "              precision    recall  f1-score   support\n",
      "\n",
      "           0       0.94      0.98      0.96       125\n",
      "           1       0.92      0.90      0.91       150\n",
      "           2       0.90      0.84      0.87       152\n",
      "           3       0.89      0.93      0.91       119\n",
      "\n",
      "    accuracy                           0.91       546\n",
      "   macro avg       0.91      0.91      0.91       546\n",
      "weighted avg       0.91      0.91      0.91       546\n",
      "\n",
      "neighbour = 42\n",
      "              precision    recall  f1-score   support\n",
      "\n",
      "           0       0.93      1.00      0.97       141\n",
      "           1       0.91      0.89      0.90       124\n",
      "           2       0.91      0.88      0.90       143\n",
      "           3       0.96      0.94      0.95       138\n",
      "\n",
      "    accuracy                           0.93       546\n",
      "   macro avg       0.93      0.93      0.93       546\n",
      "weighted avg       0.93      0.93      0.93       546\n",
      "\n",
      "neighbour = 43\n",
      "              precision    recall  f1-score   support\n",
      "\n",
      "           0       0.97      0.99      0.98       143\n",
      "           1       0.87      0.92      0.90       128\n",
      "           2       0.88      0.84      0.86       129\n",
      "           3       0.97      0.93      0.95       146\n",
      "\n",
      "    accuracy                           0.92       546\n",
      "   macro avg       0.92      0.92      0.92       546\n",
      "weighted avg       0.93      0.92      0.92       546\n",
      "\n",
      "neighbour = 44\n",
      "              precision    recall  f1-score   support\n",
      "\n",
      "           0       0.92      0.98      0.95       126\n",
      "           1       0.91      0.90      0.91       142\n",
      "           2       0.88      0.86      0.87       146\n",
      "           3       0.91      0.89      0.90       132\n",
      "\n",
      "    accuracy                           0.91       546\n",
      "   macro avg       0.91      0.91      0.91       546\n",
      "weighted avg       0.91      0.91      0.91       546\n",
      "\n",
      "neighbour = 45\n",
      "              precision    recall  f1-score   support\n",
      "\n",
      "           0       0.95      0.98      0.96       133\n",
      "           1       0.90      0.91      0.90       141\n",
      "           2       0.92      0.83      0.87       133\n",
      "           3       0.92      0.97      0.94       139\n",
      "\n",
      "    accuracy                           0.92       546\n",
      "   macro avg       0.92      0.92      0.92       546\n",
      "weighted avg       0.92      0.92      0.92       546\n",
      "\n",
      "neighbour = 46\n",
      "              precision    recall  f1-score   support\n",
      "\n",
      "           0       0.95      0.99      0.97       146\n",
      "           1       0.89      0.93      0.91       131\n",
      "           2       0.89      0.90      0.89       134\n",
      "           3       0.99      0.90      0.95       135\n",
      "\n",
      "    accuracy                           0.93       546\n",
      "   macro avg       0.93      0.93      0.93       546\n",
      "weighted avg       0.93      0.93      0.93       546\n",
      "\n",
      "neighbour = 47\n",
      "              precision    recall  f1-score   support\n",
      "\n",
      "           0       0.95      0.97      0.96       135\n",
      "           1       0.88      0.89      0.89       133\n",
      "           2       0.88      0.85      0.86       146\n",
      "           3       0.92      0.92      0.92       132\n",
      "\n",
      "    accuracy                           0.91       546\n",
      "   macro avg       0.91      0.91      0.91       546\n",
      "weighted avg       0.91      0.91      0.91       546\n",
      "\n",
      "neighbour = 48\n",
      "              precision    recall  f1-score   support\n",
      "\n",
      "           0       0.94      0.97      0.95       145\n",
      "           1       0.89      0.91      0.90       140\n",
      "           2       0.86      0.89      0.87       133\n",
      "           3       0.97      0.88      0.92       128\n",
      "\n",
      "    accuracy                           0.91       546\n",
      "   macro avg       0.91      0.91      0.91       546\n",
      "weighted avg       0.91      0.91      0.91       546\n",
      "\n",
      "neighbour = 49\n",
      "              precision    recall  f1-score   support\n",
      "\n",
      "           0       0.96      0.98      0.97       152\n",
      "           1       0.90      0.92      0.91       133\n",
      "           2       0.90      0.84      0.87       134\n",
      "           3       0.91      0.93      0.92       127\n",
      "\n",
      "    accuracy                           0.92       546\n",
      "   macro avg       0.92      0.92      0.92       546\n",
      "weighted avg       0.92      0.92      0.92       546\n",
      "\n",
      "neighbour = 50\n",
      "              precision    recall  f1-score   support\n",
      "\n",
      "           0       0.94      0.98      0.96       133\n",
      "           1       0.92      0.89      0.90       157\n",
      "           2       0.88      0.89      0.89       122\n",
      "           3       0.98      0.96      0.97       134\n",
      "\n",
      "    accuracy                           0.93       546\n",
      "   macro avg       0.93      0.93      0.93       546\n",
      "weighted avg       0.93      0.93      0.93       546\n",
      "\n"
     ]
    }
   ],
   "source": [
    "arrAkurasiKNN = []\n",
    "for x in range(3, 51):\n",
    "\n",
    "    array_fitur = np.array(df_features.values)\n",
    "    X_train, X_test, Y_train, Y_test = train_test_split(array_fitur, labels_en, test_size=0.3) \n",
    "    kNN_model = KNeighborsClassifier(n_neighbors=x)\n",
    "    kNN_model.fit(X_train, Y_train)\n",
    "    Y_pred = kNN_model.predict(X_test)\n",
    "\n",
    "    from sklearn.metrics import classification_report\n",
    "    print('neighbour =', x)\n",
    "    print(classification_report(Y_test, Y_pred, target_names = classes))\n",
    "\n",
    "    akurasiKNN = classification_report(Y_test, Y_pred,target_names = classes, output_dict=True)\n",
    "    dtAkurasiKNN = akurasiKNN['accuracy']\n",
    "    arrAkurasiKNN.append(dtAkurasiKNN)\n",
    "    x+=1"
   ]
  },
  {
   "cell_type": "code",
   "execution_count": 139,
   "metadata": {},
   "outputs": [],
   "source": [
    "index = range(3, 51)\n",
    "dfAkurasiKNN = pd.DataFrame(list(zip(arrAkurasiKNN)), columns=['accuracy'], index=index)"
   ]
  },
  {
   "cell_type": "code",
   "execution_count": 140,
   "metadata": {},
   "outputs": [
    {
     "data": {
      "text/plain": [
       "(0.0, 52.35)"
      ]
     },
     "execution_count": 140,
     "metadata": {},
     "output_type": "execute_result"
    },
    {
     "data": {
      "image/png": "[encoded data removed]",
      "text/plain": [
       "<Figure size 864x720 with 1 Axes>"
      ]
     },
     "metadata": {},
     "output_type": "display_data"
    }
   ],
   "source": [
    "sns.scatterplot(data = dfAkurasiKNN, s = 300)\n",
    "sns.set(rc={'figure.figsize':(12, 10)})\n",
    "plt.xlim(0, None)"
   ]
  },
  {
   "cell_type": "code",
   "execution_count": 95,
   "metadata": {},
   "outputs": [],
   "source": [
    "classes = ['0', '1', '2', '3']"
   ]
  },
  {
   "cell_type": "code",
   "execution_count": 102,
   "metadata": {},
   "outputs": [
    {
     "name": "stdout",
     "output_type": "stream",
     "text": [
      "              precision    recall  f1-score   support\n",
      "\n",
      "           0       0.96      0.96      0.96       136\n",
      "           1       0.91      0.94      0.92       132\n",
      "           2       0.92      0.85      0.89       144\n",
      "           3       0.90      0.95      0.92       134\n",
      "\n",
      "    accuracy                           0.92       546\n",
      "   macro avg       0.92      0.92      0.92       546\n",
      "weighted avg       0.92      0.92      0.92       546\n",
      "\n"
     ]
    }
   ],
   "source": [
    "# from sklearn.metrics import classification_report\n",
    "# print(classification_report(Y_test, Y_pred, target_names = classes))"
   ]
  },
  {
   "cell_type": "markdown",
   "metadata": {},
   "source": [
    "----"
   ]
  },
  {
   "cell_type": "code",
   "execution_count": 6,
   "metadata": {},
   "outputs": [],
   "source": [
    "dt_20kol = df[['battery_power', 'blue', 'clock_speed', 'dual_sim', 'fc', 'four_g', 'int_memory', 'm_dep', 'mobile_wt', 'n_cores',\t\n",
    "'px_height', 'px_width', 'ram', 'sc_h', 'sc_w', 'talk_time', 'three_g', 'touch_screen', 'wifi']]"
   ]
  },
  {
   "cell_type": "code",
   "execution_count": 33,
   "metadata": {},
   "outputs": [
    {
     "data": {
      "text/plain": [
       "(1819, 1)"
      ]
     },
     "execution_count": 33,
     "metadata": {},
     "output_type": "execute_result"
    }
   ],
   "source": [
    "X = df[['battery_power','ram','px_height', 'px_width','int_memory','mobile_wt', 'sc_w']]\n",
    "\n",
    "X.shape\n",
    "y = df[['price_range']]\n",
    "y.shape\n"
   ]
  },
  {
   "cell_type": "code",
   "execution_count": 34,
   "metadata": {},
   "outputs": [
    {
     "name": "stdout",
     "output_type": "stream",
     "text": [
      "[-1.59912904]\n",
      "[[ 0.0004997   0.00095247  0.00028537  0.0002745   0.00156721 -0.00086945\n",
      "   0.00103702]]\n",
      "Mean Absolute Error (MAE): 0.27747868423134076\n",
      "Mean Squared Error (MSE): 0.1089011398725043\n",
      "Root Mean Squared Error (RMSE): 0.3300017270750326\n",
      "R^2:  0.909856275557529\n"
     ]
    }
   ],
   "source": [
    "X_train, X_test, y_train, y_test = train_test_split(X, y, test_size=0.3, random_state=3)\n",
    "\n",
    "\n",
    "model_regres = LinearRegression()  \n",
    "model_regres.fit(X_train, y_train)\n",
    "\n",
    "print(model_regres.intercept_)\n",
    "print(model_regres.coef_)\n",
    "\n",
    "y_pred = model_regres.predict(X_test)\n",
    "\n",
    "print('Mean Absolute Error (MAE):', metrics.mean_absolute_error(y_test, y_pred))  \n",
    "print('Mean Squared Error (MSE):', metrics.mean_squared_error(y_test, y_pred))  \n",
    "print('Root Mean Squared Error (RMSE):', np.sqrt(metrics.mean_squared_error(y_test, y_pred)))\n",
    "\n",
    "from sklearn.metrics import r2_score\n",
    "r_2 = r2_score(y_test, y_pred)\n",
    "print('R^2: ', r_2)\n"
   ]
  },
  {
   "cell_type": "markdown",
   "metadata": {},
   "source": [
    "----"
   ]
  },
  {
   "cell_type": "markdown",
   "metadata": {},
   "source": [
    "### Prediksi"
   ]
  },
  {
   "cell_type": "code",
   "execution_count": 39,
   "metadata": {},
   "outputs": [],
   "source": [
    "pkl_filename = \"newTestHP.pkl\"  \n",
    "with open(pkl_filename, 'wb') as file:  \n",
    "    pickle.dump(kNN_model, file)"
   ]
  },
  {
   "cell_type": "code",
   "execution_count": 40,
   "metadata": {},
   "outputs": [],
   "source": [
    "import pickle \n",
    "pkl_filename = \"newTestHP.pkl\"  \n",
    "with open(pkl_filename, 'rb') as file:  \n",
    "    loaded_model = pickle.load(file)"
   ]
  },
  {
   "cell_type": "code",
   "execution_count": 41,
   "metadata": {},
   "outputs": [
    {
     "name": "stdout",
     "output_type": "stream",
     "text": [
      "[0 0 0 0 0 0 0 0 0 0 0]\n"
     ]
    },
    {
     "name": "stderr",
     "output_type": "stream",
     "text": [
      "c:\\Users\\anton\\AppData\\Local\\Programs\\Python\\Python310\\lib\\site-packages\\sklearn\\base.py:443: UserWarning: X has feature names, but KNeighborsClassifier was fitted without feature names\n",
      "  warnings.warn(\n"
     ]
    }
   ],
   "source": [
    "df_new = pd.read_csv('new_test_HP.csv', delimiter = ',')\n",
    "\n",
    "X_new = df_new[['battery_power','ram','px_height', 'px_width','int_memory','mobile_wt', 'sc_w']]\n",
    "\n",
    "Y_pred_new = loaded_model.predict(X_new)\n",
    "print(Y_pred_new)"
   ]
  }
 ],
 "metadata": {
  "kernelspec": {
   "display_name": "Python 3.10.1 64-bit",
   "language": "python",
   "name": "python3"
  },
  "language_info": {
   "codemirror_mode": {
    "name": "ipython",
    "version": 3
   },
   "file_extension": ".py",
   "mimetype": "text/x-python",
   "name": "python",
   "nbconvert_exporter": "python",
   "pygments_lexer": "ipython3",
   "version": "3.10.1"
  },
  "orig_nbformat": 4,
  "vscode": {
   "interpreter": {
    "hash": "4604fddfbe3ec3d9d385c207fa0ddb9a05dfef66380401ad05b04bbd42d45367"
   }
  }
 },
 "nbformat": 4,
 "nbformat_minor": 2
}
