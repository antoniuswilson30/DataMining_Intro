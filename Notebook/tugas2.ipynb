{
 "cells": [
  {
   "cell_type": "code",
   "execution_count": 58,
   "metadata": {},
   "outputs": [],
   "source": [
    "import pandas as pd\n",
    "import matplotlib.pyplot as plt\n",
    "import numpy as np\n",
    "import seaborn as sns\n",
    "import pickle\n",
    "import scipy.optimize\n",
    "from sklearn.model_selection import train_test_split \n",
    "from sklearn.linear_model import LinearRegression\n",
    "from sklearn import metrics\n",
    "from sklearn.model_selection import cross_val_score\n",
    "from sklearn.model_selection import KFold\n",
    "from scipy.optimize import curve_fit"
   ]
  },
  {
   "cell_type": "code",
   "execution_count": 2,
   "metadata": {},
   "outputs": [
    {
     "data": {
      "text/plain": [
       "(21616, 21)"
      ]
     },
     "execution_count": 2,
     "metadata": {},
     "output_type": "execute_result"
    }
   ],
   "source": [
    "df = pd.read_csv('house_price_data_2.csv')\n",
    "df.shape"
   ]
  },
  {
   "cell_type": "code",
   "execution_count": 3,
   "metadata": {},
   "outputs": [
    {
     "data": {
      "text/html": [
       "<div>\n",
       "<style scoped>\n",
       "    .dataframe tbody tr th:only-of-type {\n",
       "        vertical-align: middle;\n",
       "    }\n",
       "\n",
       "    .dataframe tbody tr th {\n",
       "        vertical-align: top;\n",
       "    }\n",
       "\n",
       "    .dataframe thead th {\n",
       "        text-align: right;\n",
       "    }\n",
       "</style>\n",
       "<table border=\"1\" class=\"dataframe\">\n",
       "  <thead>\n",
       "    <tr style=\"text-align: right;\">\n",
       "      <th></th>\n",
       "      <th>id</th>\n",
       "      <th>date</th>\n",
       "      <th>price</th>\n",
       "      <th>bedrooms</th>\n",
       "      <th>bathrooms</th>\n",
       "      <th>sqft_living</th>\n",
       "      <th>sqft_lot</th>\n",
       "      <th>floors</th>\n",
       "      <th>waterfront</th>\n",
       "      <th>view</th>\n",
       "      <th>...</th>\n",
       "      <th>grade</th>\n",
       "      <th>sqft_above</th>\n",
       "      <th>sqft_basement</th>\n",
       "      <th>yr_built</th>\n",
       "      <th>yr_renovated</th>\n",
       "      <th>zipcode</th>\n",
       "      <th>lat</th>\n",
       "      <th>long</th>\n",
       "      <th>sqft_living15</th>\n",
       "      <th>sqft_lot15</th>\n",
       "    </tr>\n",
       "  </thead>\n",
       "  <tbody>\n",
       "    <tr>\n",
       "      <th>0</th>\n",
       "      <td>7129300520</td>\n",
       "      <td>20141013T000000</td>\n",
       "      <td>221900.0</td>\n",
       "      <td>3</td>\n",
       "      <td>1.00</td>\n",
       "      <td>1180</td>\n",
       "      <td>5650</td>\n",
       "      <td>1.0</td>\n",
       "      <td>0</td>\n",
       "      <td>0</td>\n",
       "      <td>...</td>\n",
       "      <td>7</td>\n",
       "      <td>1180</td>\n",
       "      <td>0</td>\n",
       "      <td>1955</td>\n",
       "      <td>0</td>\n",
       "      <td>98178</td>\n",
       "      <td>47.5112</td>\n",
       "      <td>-122.257</td>\n",
       "      <td>1340</td>\n",
       "      <td>5650</td>\n",
       "    </tr>\n",
       "    <tr>\n",
       "      <th>1</th>\n",
       "      <td>6414100192</td>\n",
       "      <td>20141209T000000</td>\n",
       "      <td>538000.0</td>\n",
       "      <td>3</td>\n",
       "      <td>2.25</td>\n",
       "      <td>2570</td>\n",
       "      <td>7242</td>\n",
       "      <td>2.0</td>\n",
       "      <td>0</td>\n",
       "      <td>0</td>\n",
       "      <td>...</td>\n",
       "      <td>7</td>\n",
       "      <td>2170</td>\n",
       "      <td>400</td>\n",
       "      <td>1951</td>\n",
       "      <td>1991</td>\n",
       "      <td>98125</td>\n",
       "      <td>47.7210</td>\n",
       "      <td>-122.319</td>\n",
       "      <td>1690</td>\n",
       "      <td>7639</td>\n",
       "    </tr>\n",
       "    <tr>\n",
       "      <th>2</th>\n",
       "      <td>5631500400</td>\n",
       "      <td>20150225T000000</td>\n",
       "      <td>180000.0</td>\n",
       "      <td>2</td>\n",
       "      <td>1.00</td>\n",
       "      <td>770</td>\n",
       "      <td>10000</td>\n",
       "      <td>1.0</td>\n",
       "      <td>0</td>\n",
       "      <td>0</td>\n",
       "      <td>...</td>\n",
       "      <td>6</td>\n",
       "      <td>770</td>\n",
       "      <td>0</td>\n",
       "      <td>1933</td>\n",
       "      <td>0</td>\n",
       "      <td>98028</td>\n",
       "      <td>47.7379</td>\n",
       "      <td>-122.233</td>\n",
       "      <td>2720</td>\n",
       "      <td>8062</td>\n",
       "    </tr>\n",
       "    <tr>\n",
       "      <th>3</th>\n",
       "      <td>2487200875</td>\n",
       "      <td>20141209T000000</td>\n",
       "      <td>604000.0</td>\n",
       "      <td>4</td>\n",
       "      <td>3.00</td>\n",
       "      <td>1960</td>\n",
       "      <td>5000</td>\n",
       "      <td>1.0</td>\n",
       "      <td>0</td>\n",
       "      <td>0</td>\n",
       "      <td>...</td>\n",
       "      <td>7</td>\n",
       "      <td>1050</td>\n",
       "      <td>910</td>\n",
       "      <td>1965</td>\n",
       "      <td>0</td>\n",
       "      <td>98136</td>\n",
       "      <td>47.5208</td>\n",
       "      <td>-122.393</td>\n",
       "      <td>1360</td>\n",
       "      <td>5000</td>\n",
       "    </tr>\n",
       "    <tr>\n",
       "      <th>4</th>\n",
       "      <td>1954400510</td>\n",
       "      <td>20150218T000000</td>\n",
       "      <td>510000.0</td>\n",
       "      <td>3</td>\n",
       "      <td>2.00</td>\n",
       "      <td>1680</td>\n",
       "      <td>8080</td>\n",
       "      <td>1.0</td>\n",
       "      <td>0</td>\n",
       "      <td>0</td>\n",
       "      <td>...</td>\n",
       "      <td>8</td>\n",
       "      <td>1680</td>\n",
       "      <td>0</td>\n",
       "      <td>1987</td>\n",
       "      <td>0</td>\n",
       "      <td>98074</td>\n",
       "      <td>47.6168</td>\n",
       "      <td>-122.045</td>\n",
       "      <td>1800</td>\n",
       "      <td>7503</td>\n",
       "    </tr>\n",
       "  </tbody>\n",
       "</table>\n",
       "<p>5 rows × 21 columns</p>\n",
       "</div>"
      ],
      "text/plain": [
       "           id             date     price  bedrooms  bathrooms  sqft_living  \\\n",
       "0  7129300520  20141013T000000  221900.0         3       1.00         1180   \n",
       "1  6414100192  20141209T000000  538000.0         3       2.25         2570   \n",
       "2  5631500400  20150225T000000  180000.0         2       1.00          770   \n",
       "3  2487200875  20141209T000000  604000.0         4       3.00         1960   \n",
       "4  1954400510  20150218T000000  510000.0         3       2.00         1680   \n",
       "\n",
       "   sqft_lot  floors  waterfront  view  ...  grade  sqft_above  sqft_basement  \\\n",
       "0      5650     1.0           0     0  ...      7        1180              0   \n",
       "1      7242     2.0           0     0  ...      7        2170            400   \n",
       "2     10000     1.0           0     0  ...      6         770              0   \n",
       "3      5000     1.0           0     0  ...      7        1050            910   \n",
       "4      8080     1.0           0     0  ...      8        1680              0   \n",
       "\n",
       "   yr_built  yr_renovated  zipcode      lat     long  sqft_living15  \\\n",
       "0      1955             0    98178  47.5112 -122.257           1340   \n",
       "1      1951          1991    98125  47.7210 -122.319           1690   \n",
       "2      1933             0    98028  47.7379 -122.233           2720   \n",
       "3      1965             0    98136  47.5208 -122.393           1360   \n",
       "4      1987             0    98074  47.6168 -122.045           1800   \n",
       "\n",
       "   sqft_lot15  \n",
       "0        5650  \n",
       "1        7639  \n",
       "2        8062  \n",
       "3        5000  \n",
       "4        7503  \n",
       "\n",
       "[5 rows x 21 columns]"
      ]
     },
     "execution_count": 3,
     "metadata": {},
     "output_type": "execute_result"
    }
   ],
   "source": [
    "df.head()"
   ]
  },
  {
   "cell_type": "code",
   "execution_count": 4,
   "metadata": {},
   "outputs": [],
   "source": [
    "df2 = df[['price','bedrooms','bathrooms','sqft_living','sqft_lot','floors',\n",
    "'waterfront','view','condition','grade','sqft_above','sqft_basement','yr_built','yr_renovated','lat','long','sqft_living15','sqft_lot15']]"
   ]
  },
  {
   "cell_type": "code",
   "execution_count": 5,
   "metadata": {},
   "outputs": [
    {
     "data": {
      "text/html": [
       "<div>\n",
       "<style scoped>\n",
       "    .dataframe tbody tr th:only-of-type {\n",
       "        vertical-align: middle;\n",
       "    }\n",
       "\n",
       "    .dataframe tbody tr th {\n",
       "        vertical-align: top;\n",
       "    }\n",
       "\n",
       "    .dataframe thead th {\n",
       "        text-align: right;\n",
       "    }\n",
       "</style>\n",
       "<table border=\"1\" class=\"dataframe\">\n",
       "  <thead>\n",
       "    <tr style=\"text-align: right;\">\n",
       "      <th></th>\n",
       "      <th>price</th>\n",
       "      <th>bedrooms</th>\n",
       "      <th>bathrooms</th>\n",
       "      <th>sqft_living</th>\n",
       "      <th>sqft_lot</th>\n",
       "      <th>floors</th>\n",
       "      <th>waterfront</th>\n",
       "      <th>view</th>\n",
       "      <th>condition</th>\n",
       "      <th>grade</th>\n",
       "      <th>sqft_above</th>\n",
       "      <th>sqft_basement</th>\n",
       "      <th>yr_built</th>\n",
       "      <th>yr_renovated</th>\n",
       "      <th>lat</th>\n",
       "      <th>long</th>\n",
       "      <th>sqft_living15</th>\n",
       "      <th>sqft_lot15</th>\n",
       "    </tr>\n",
       "  </thead>\n",
       "  <tbody>\n",
       "    <tr>\n",
       "      <th>count</th>\n",
       "      <td>2.152100e+04</td>\n",
       "      <td>21521.000000</td>\n",
       "      <td>21521.000000</td>\n",
       "      <td>21521.000000</td>\n",
       "      <td>2.152100e+04</td>\n",
       "      <td>21521.000000</td>\n",
       "      <td>21521.000000</td>\n",
       "      <td>21521.000000</td>\n",
       "      <td>21521.000000</td>\n",
       "      <td>21521.000000</td>\n",
       "      <td>21521.000000</td>\n",
       "      <td>21521.000000</td>\n",
       "      <td>21521.000000</td>\n",
       "      <td>21521.000000</td>\n",
       "      <td>21521.000000</td>\n",
       "      <td>21521.000000</td>\n",
       "      <td>21521.000000</td>\n",
       "      <td>21521.000000</td>\n",
       "    </tr>\n",
       "    <tr>\n",
       "      <th>mean</th>\n",
       "      <td>5.411577e+05</td>\n",
       "      <td>3.376888</td>\n",
       "      <td>1.756796</td>\n",
       "      <td>2084.381720</td>\n",
       "      <td>1.509624e+04</td>\n",
       "      <td>1.447377</td>\n",
       "      <td>0.007295</td>\n",
       "      <td>0.233772</td>\n",
       "      <td>3.409553</td>\n",
       "      <td>7.664885</td>\n",
       "      <td>1791.923424</td>\n",
       "      <td>292.458297</td>\n",
       "      <td>1971.095906</td>\n",
       "      <td>84.393801</td>\n",
       "      <td>47.560153</td>\n",
       "      <td>-122.213961</td>\n",
       "      <td>1988.456717</td>\n",
       "      <td>12745.741880</td>\n",
       "    </tr>\n",
       "    <tr>\n",
       "      <th>std</th>\n",
       "      <td>3.676345e+05</td>\n",
       "      <td>0.900177</td>\n",
       "      <td>0.727994</td>\n",
       "      <td>916.867372</td>\n",
       "      <td>4.147093e+04</td>\n",
       "      <td>0.551976</td>\n",
       "      <td>0.085102</td>\n",
       "      <td>0.765512</td>\n",
       "      <td>0.649714</td>\n",
       "      <td>1.167583</td>\n",
       "      <td>827.037378</td>\n",
       "      <td>443.148343</td>\n",
       "      <td>29.353133</td>\n",
       "      <td>401.664267</td>\n",
       "      <td>0.138566</td>\n",
       "      <td>0.140370</td>\n",
       "      <td>685.168644</td>\n",
       "      <td>27284.681048</td>\n",
       "    </tr>\n",
       "    <tr>\n",
       "      <th>min</th>\n",
       "      <td>7.800000e+04</td>\n",
       "      <td>1.000000</td>\n",
       "      <td>1.000000</td>\n",
       "      <td>390.000000</td>\n",
       "      <td>5.200000e+02</td>\n",
       "      <td>1.000000</td>\n",
       "      <td>0.000000</td>\n",
       "      <td>0.000000</td>\n",
       "      <td>1.000000</td>\n",
       "      <td>4.000000</td>\n",
       "      <td>390.000000</td>\n",
       "      <td>0.000000</td>\n",
       "      <td>1900.000000</td>\n",
       "      <td>0.000000</td>\n",
       "      <td>47.155900</td>\n",
       "      <td>-122.519000</td>\n",
       "      <td>399.000000</td>\n",
       "      <td>651.000000</td>\n",
       "    </tr>\n",
       "    <tr>\n",
       "      <th>25%</th>\n",
       "      <td>3.230000e+05</td>\n",
       "      <td>3.000000</td>\n",
       "      <td>1.000000</td>\n",
       "      <td>1430.000000</td>\n",
       "      <td>5.040000e+03</td>\n",
       "      <td>1.000000</td>\n",
       "      <td>0.000000</td>\n",
       "      <td>0.000000</td>\n",
       "      <td>3.000000</td>\n",
       "      <td>7.000000</td>\n",
       "      <td>1200.000000</td>\n",
       "      <td>0.000000</td>\n",
       "      <td>1952.000000</td>\n",
       "      <td>0.000000</td>\n",
       "      <td>47.471100</td>\n",
       "      <td>-122.328000</td>\n",
       "      <td>1490.000000</td>\n",
       "      <td>5100.000000</td>\n",
       "    </tr>\n",
       "    <tr>\n",
       "      <th>50%</th>\n",
       "      <td>4.500000e+05</td>\n",
       "      <td>3.000000</td>\n",
       "      <td>2.000000</td>\n",
       "      <td>1920.000000</td>\n",
       "      <td>7.617000e+03</td>\n",
       "      <td>1.000000</td>\n",
       "      <td>0.000000</td>\n",
       "      <td>0.000000</td>\n",
       "      <td>3.000000</td>\n",
       "      <td>7.000000</td>\n",
       "      <td>1560.000000</td>\n",
       "      <td>0.000000</td>\n",
       "      <td>1975.000000</td>\n",
       "      <td>0.000000</td>\n",
       "      <td>47.571900</td>\n",
       "      <td>-122.230000</td>\n",
       "      <td>1840.000000</td>\n",
       "      <td>7620.000000</td>\n",
       "    </tr>\n",
       "    <tr>\n",
       "      <th>75%</th>\n",
       "      <td>6.450000e+05</td>\n",
       "      <td>4.000000</td>\n",
       "      <td>2.000000</td>\n",
       "      <td>2550.000000</td>\n",
       "      <td>1.066100e+04</td>\n",
       "      <td>2.000000</td>\n",
       "      <td>0.000000</td>\n",
       "      <td>0.000000</td>\n",
       "      <td>4.000000</td>\n",
       "      <td>8.000000</td>\n",
       "      <td>2220.000000</td>\n",
       "      <td>570.000000</td>\n",
       "      <td>1997.000000</td>\n",
       "      <td>0.000000</td>\n",
       "      <td>47.678000</td>\n",
       "      <td>-122.125000</td>\n",
       "      <td>2370.000000</td>\n",
       "      <td>10080.000000</td>\n",
       "    </tr>\n",
       "    <tr>\n",
       "      <th>max</th>\n",
       "      <td>7.700000e+06</td>\n",
       "      <td>11.000000</td>\n",
       "      <td>8.000000</td>\n",
       "      <td>13540.000000</td>\n",
       "      <td>1.651359e+06</td>\n",
       "      <td>3.000000</td>\n",
       "      <td>1.000000</td>\n",
       "      <td>4.000000</td>\n",
       "      <td>5.000000</td>\n",
       "      <td>13.000000</td>\n",
       "      <td>9410.000000</td>\n",
       "      <td>4820.000000</td>\n",
       "      <td>2015.000000</td>\n",
       "      <td>2015.000000</td>\n",
       "      <td>47.777600</td>\n",
       "      <td>-121.315000</td>\n",
       "      <td>6210.000000</td>\n",
       "      <td>871200.000000</td>\n",
       "    </tr>\n",
       "  </tbody>\n",
       "</table>\n",
       "</div>"
      ],
      "text/plain": [
       "              price      bedrooms     bathrooms   sqft_living      sqft_lot  \\\n",
       "count  2.152100e+04  21521.000000  21521.000000  21521.000000  2.152100e+04   \n",
       "mean   5.411577e+05      3.376888      1.756796   2084.381720  1.509624e+04   \n",
       "std    3.676345e+05      0.900177      0.727994    916.867372  4.147093e+04   \n",
       "min    7.800000e+04      1.000000      1.000000    390.000000  5.200000e+02   \n",
       "25%    3.230000e+05      3.000000      1.000000   1430.000000  5.040000e+03   \n",
       "50%    4.500000e+05      3.000000      2.000000   1920.000000  7.617000e+03   \n",
       "75%    6.450000e+05      4.000000      2.000000   2550.000000  1.066100e+04   \n",
       "max    7.700000e+06     11.000000      8.000000  13540.000000  1.651359e+06   \n",
       "\n",
       "             floors    waterfront          view     condition         grade  \\\n",
       "count  21521.000000  21521.000000  21521.000000  21521.000000  21521.000000   \n",
       "mean       1.447377      0.007295      0.233772      3.409553      7.664885   \n",
       "std        0.551976      0.085102      0.765512      0.649714      1.167583   \n",
       "min        1.000000      0.000000      0.000000      1.000000      4.000000   \n",
       "25%        1.000000      0.000000      0.000000      3.000000      7.000000   \n",
       "50%        1.000000      0.000000      0.000000      3.000000      7.000000   \n",
       "75%        2.000000      0.000000      0.000000      4.000000      8.000000   \n",
       "max        3.000000      1.000000      4.000000      5.000000     13.000000   \n",
       "\n",
       "         sqft_above  sqft_basement      yr_built  yr_renovated           lat  \\\n",
       "count  21521.000000   21521.000000  21521.000000  21521.000000  21521.000000   \n",
       "mean    1791.923424     292.458297   1971.095906     84.393801     47.560153   \n",
       "std      827.037378     443.148343     29.353133    401.664267      0.138566   \n",
       "min      390.000000       0.000000   1900.000000      0.000000     47.155900   \n",
       "25%     1200.000000       0.000000   1952.000000      0.000000     47.471100   \n",
       "50%     1560.000000       0.000000   1975.000000      0.000000     47.571900   \n",
       "75%     2220.000000     570.000000   1997.000000      0.000000     47.678000   \n",
       "max     9410.000000    4820.000000   2015.000000   2015.000000     47.777600   \n",
       "\n",
       "               long  sqft_living15     sqft_lot15  \n",
       "count  21521.000000   21521.000000   21521.000000  \n",
       "mean    -122.213961    1988.456717   12745.741880  \n",
       "std        0.140370     685.168644   27284.681048  \n",
       "min     -122.519000     399.000000     651.000000  \n",
       "25%     -122.328000    1490.000000    5100.000000  \n",
       "50%     -122.230000    1840.000000    7620.000000  \n",
       "75%     -122.125000    2370.000000   10080.000000  \n",
       "max     -121.315000    6210.000000  871200.000000  "
      ]
     },
     "execution_count": 5,
     "metadata": {},
     "output_type": "execute_result"
    }
   ],
   "source": [
    "#Data cleaning\n",
    "df2 = df2.dropna() #tidak ada NA\n",
    "df2\n",
    "#ganti kolom floors dan bathrooms jadi integer\n",
    "#floors\n",
    "data_types_dict = {'floors': np.int64}\n",
    "df2 = df2.astype(data_types_dict)\n",
    "#bathrooms\n",
    "data_types_dict = {'bathrooms': np.int64} #jadi ada yang 0 karena tadinya 0\n",
    ".5\n",
    "df2 = df2.astype(data_types_dict)\n",
    "df2.dtypes #cek tipe data\n",
    "#berdasarkan data yang kurang baik maka dibuang datanya atau di drop\n",
    "#price\n",
    "df2.price.min() #tidak mungkin harga rumah hanya 10 dollar\n",
    "df2 = df2[(df2.price>10)]\n",
    "df2\n",
    "#cek kembali nilai terkecil dari price\n",
    "df2.price.min() #sudah betul\n",
    "#hapus yang bedroomnya 0\n",
    "df2 = df2[(df2.bedrooms>0)]\n",
    "df2\n",
    "#kamarnya ada yang 33 outlier atau tidak mungkin\n",
    "df2.bedrooms.max()\n",
    "df2 = df2[(df2.bedrooms<33)]\n",
    "df2\n",
    "#cek lagi maksnya\n",
    "df2.bedrooms.max()\n",
    "#hapus yang bathroomnya 0\n",
    "df2 = df2[(df2.bathrooms>0)]\n",
    "df2\n",
    "#data cleaning sqft_living\n",
    "df2.sqft_living.min() #tidak mungkin nilainya 1 saja\n",
    "df2 = df2[(df2.sqft_living>1)]\n",
    "df2\n",
    "#cek lagi apakah sudah make sense atau belum\n",
    "df2.sqft_living.min() #sudah jadi 390\n",
    "#cek sqft_lot15\n",
    "df2.sqft_lot15.min() #tidak mungkin minus\n",
    "#data cleaning untuk sqft_lot15\n",
    "df2 = df2[(df2.sqft_lot15>0)]\n",
    "df2\n",
    "#cek lagi apakah sudah betul\n",
    "df2.sqft_lot15.min() #sudah jadi 651\n",
    "df2 = df2.dropna() #tidak ada NA\n",
    "df2 #data terakhir\n",
    "df2.describe() #cek lagi takut ada yang masih salah"
   ]
  },
  {
   "cell_type": "code",
   "execution_count": 7,
   "metadata": {},
   "outputs": [
    {
     "data": {
      "text/plain": [
       "(21521, 18)"
      ]
     },
     "execution_count": 7,
     "metadata": {},
     "output_type": "execute_result"
    }
   ],
   "source": [
    "df2.shape\n"
   ]
  },
  {
   "cell_type": "code",
   "execution_count": 6,
   "metadata": {},
   "outputs": [
    {
     "data": {
      "image/png": "[encoded data removed]",
      "text/plain": [
       "<Figure size 432x288 with 2 Axes>"
      ]
     },
     "metadata": {
      "needs_background": "light"
     },
     "output_type": "display_data"
    }
   ],
   "source": [
    "korelasi = df2.corr()\n",
    "sns.heatmap(data=korelasi, cmap=\"YlGnBu\", linecolor=\"black\", linewidths=0.5)\n",
    "sns.set(rc={'figure.figsize':(5, 7)})"
   ]
  },
  {
   "cell_type": "code",
   "execution_count": 7,
   "metadata": {},
   "outputs": [
    {
     "data": {
      "text/plain": [
       "long             0.022485\n",
       "condition        0.035820\n",
       "yr_built         0.051881\n",
       "sqft_lot15       0.083302\n",
       "sqft_lot         0.090087\n",
       "yr_renovated     0.126895\n",
       "floors           0.236068\n",
       "waterfront       0.272474\n",
       "lat              0.306983\n",
       "bedrooms         0.314181\n",
       "sqft_basement    0.323097\n",
       "view             0.398778\n",
       "bathrooms        0.510647\n",
       "sqft_living15    0.584860\n",
       "sqft_above       0.604735\n",
       "grade            0.668579\n",
       "sqft_living      0.701648\n",
       "price            1.000000\n",
       "Name: price, dtype: float64"
      ]
     },
     "execution_count": 7,
     "metadata": {},
     "output_type": "execute_result"
    }
   ],
   "source": [
    "df2.corr()['price'].sort_values()"
   ]
  },
  {
   "cell_type": "code",
   "execution_count": 8,
   "metadata": {},
   "outputs": [],
   "source": [
    "df3 = df2[['price','bathrooms','sqft_living','grade','sqft_above','sqft_living15']]"
   ]
  },
  {
   "cell_type": "code",
   "execution_count": 132,
   "metadata": {},
   "outputs": [],
   "source": [
    "X = df3[['bathrooms']].values"
   ]
  },
  {
   "cell_type": "code",
   "execution_count": 17,
   "metadata": {},
   "outputs": [],
   "source": [
    "X = df3[['grade']].values"
   ]
  },
  {
   "cell_type": "code",
   "execution_count": 145,
   "metadata": {},
   "outputs": [],
   "source": [
    "X = df3[['sqft_living']].values"
   ]
  },
  {
   "cell_type": "code",
   "execution_count": 127,
   "metadata": {},
   "outputs": [],
   "source": [
    "X = df3[['sqft_above']].values"
   ]
  },
  {
   "cell_type": "code",
   "execution_count": 12,
   "metadata": {},
   "outputs": [],
   "source": [
    "X = df3[['bathrooms', 'sqft_living15']].values"
   ]
  },
  {
   "cell_type": "code",
   "execution_count": 94,
   "metadata": {},
   "outputs": [],
   "source": [
    "# X = df3[['grade', 'sqft_above']].values\n",
    "# X = df3[['grade', 'sqft_living']].values\n",
    "# X = df3[['grade', 'bathrooms']].values\n",
    "# X = df3[['bathrooms', 'sqft_above']].values\n",
    "# X = df3[['bathrooms', 'sqft_living']].values"
   ]
  },
  {
   "cell_type": "code",
   "execution_count": 9,
   "metadata": {},
   "outputs": [],
   "source": [
    "X = df3[['grade', 'bathrooms']].values"
   ]
  },
  {
   "cell_type": "code",
   "execution_count": 60,
   "metadata": {},
   "outputs": [],
   "source": [
    "X = df3[['grade', 'sqft_above', 'sqft_living', 'bathrooms']].values"
   ]
  },
  {
   "cell_type": "code",
   "execution_count": 59,
   "metadata": {},
   "outputs": [],
   "source": [
    "X = df3[['grade', 'bathrooms', 'sqft_living', 'sqft_above', 'sqft_living15']].values"
   ]
  },
  {
   "cell_type": "code",
   "execution_count": 18,
   "metadata": {},
   "outputs": [
    {
     "data": {
      "text/plain": [
       "(21521, 1)"
      ]
     },
     "execution_count": 18,
     "metadata": {},
     "output_type": "execute_result"
    }
   ],
   "source": [
    "X.shape\n",
    "y = df3[['price']].values\n",
    "y.shape"
   ]
  },
  {
   "cell_type": "code",
   "execution_count": 19,
   "metadata": {},
   "outputs": [],
   "source": [
    "X_train, X_test, y_train, y_test = train_test_split(X, y, test_size=0.2, random_state=3)"
   ]
  },
  {
   "cell_type": "code",
   "execution_count": 27,
   "metadata": {},
   "outputs": [
    {
     "data": {
      "text/html": [
       "<style>#sk-container-id-2 {color: black;background-color: white;}#sk-container-id-2 pre{padding: 0;}#sk-container-id-2 div.sk-toggleable {background-color: white;}#sk-container-id-2 label.sk-toggleable__label {cursor: pointer;display: block;width: 100%;margin-bottom: 0;padding: 0.3em;box-sizing: border-box;text-align: center;}#sk-container-id-2 label.sk-toggleable__label-arrow:before {content: \"▸\";float: left;margin-right: 0.25em;color: #696969;}#sk-container-id-2 label.sk-toggleable__label-arrow:hover:before {color: black;}#sk-container-id-2 div.sk-estimator:hover label.sk-toggleable__label-arrow:before {color: black;}#sk-container-id-2 div.sk-toggleable__content {max-height: 0;max-width: 0;overflow: hidden;text-align: left;background-color: #f0f8ff;}#sk-container-id-2 div.sk-toggleable__content pre {margin: 0.2em;color: black;border-radius: 0.25em;background-color: #f0f8ff;}#sk-container-id-2 input.sk-toggleable__control:checked~div.sk-toggleable__content {max-height: 200px;max-width: 100%;overflow: auto;}#sk-container-id-2 input.sk-toggleable__control:checked~label.sk-toggleable__label-arrow:before {content: \"▾\";}#sk-container-id-2 div.sk-estimator input.sk-toggleable__control:checked~label.sk-toggleable__label {background-color: #d4ebff;}#sk-container-id-2 div.sk-label input.sk-toggleable__control:checked~label.sk-toggleable__label {background-color: #d4ebff;}#sk-container-id-2 input.sk-hidden--visually {border: 0;clip: rect(1px 1px 1px 1px);clip: rect(1px, 1px, 1px, 1px);height: 1px;margin: -1px;overflow: hidden;padding: 0;position: absolute;width: 1px;}#sk-container-id-2 div.sk-estimator {font-family: monospace;background-color: #f0f8ff;border: 1px dotted black;border-radius: 0.25em;box-sizing: border-box;margin-bottom: 0.5em;}#sk-container-id-2 div.sk-estimator:hover {background-color: #d4ebff;}#sk-container-id-2 div.sk-parallel-item::after {content: \"\";width: 100%;border-bottom: 1px solid gray;flex-grow: 1;}#sk-container-id-2 div.sk-label:hover label.sk-toggleable__label {background-color: #d4ebff;}#sk-container-id-2 div.sk-serial::before {content: \"\";position: absolute;border-left: 1px solid gray;box-sizing: border-box;top: 0;bottom: 0;left: 50%;z-index: 0;}#sk-container-id-2 div.sk-serial {display: flex;flex-direction: column;align-items: center;background-color: white;padding-right: 0.2em;padding-left: 0.2em;position: relative;}#sk-container-id-2 div.sk-item {position: relative;z-index: 1;}#sk-container-id-2 div.sk-parallel {display: flex;align-items: stretch;justify-content: center;background-color: white;position: relative;}#sk-container-id-2 div.sk-item::before, #sk-container-id-2 div.sk-parallel-item::before {content: \"\";position: absolute;border-left: 1px solid gray;box-sizing: border-box;top: 0;bottom: 0;left: 50%;z-index: -1;}#sk-container-id-2 div.sk-parallel-item {display: flex;flex-direction: column;z-index: 1;position: relative;background-color: white;}#sk-container-id-2 div.sk-parallel-item:first-child::after {align-self: flex-end;width: 50%;}#sk-container-id-2 div.sk-parallel-item:last-child::after {align-self: flex-start;width: 50%;}#sk-container-id-2 div.sk-parallel-item:only-child::after {width: 0;}#sk-container-id-2 div.sk-dashed-wrapped {border: 1px dashed gray;margin: 0 0.4em 0.5em 0.4em;box-sizing: border-box;padding-bottom: 0.4em;background-color: white;}#sk-container-id-2 div.sk-label label {font-family: monospace;font-weight: bold;display: inline-block;line-height: 1.2em;}#sk-container-id-2 div.sk-label-container {text-align: center;}#sk-container-id-2 div.sk-container {/* jupyter's `normalize.less` sets `[hidden] { display: none; }` but bootstrap.min.css set `[hidden] { display: none !important; }` so we also need the `!important` here to be able to override the default hidden behavior on the sphinx rendered scikit-learn.org. See: https://github.com/scikit-learn/scikit-learn/issues/21755 */display: inline-block !important;position: relative;}#sk-container-id-2 div.sk-text-repr-fallback {display: none;}</style><div id=\"sk-container-id-2\" class=\"sk-top-container\"><div class=\"sk-text-repr-fallback\"><pre>LinearRegression()</pre><b>In a Jupyter environment, please rerun this cell to show the HTML representation or trust the notebook. <br />On GitHub, the HTML representation is unable to render, please try loading this page with nbviewer.org.</b></div><div class=\"sk-container\" hidden><div class=\"sk-item\"><div class=\"sk-estimator sk-toggleable\"><input class=\"sk-toggleable__control sk-hidden--visually\" id=\"sk-estimator-id-2\" type=\"checkbox\" checked><label for=\"sk-estimator-id-2\" class=\"sk-toggleable__label sk-toggleable__label-arrow\">LinearRegression</label><div class=\"sk-toggleable__content\"><pre>LinearRegression()</pre></div></div></div></div></div>"
      ],
      "text/plain": [
       "LinearRegression()"
      ]
     },
     "execution_count": 27,
     "metadata": {},
     "output_type": "execute_result"
    }
   ],
   "source": [
    "model_regres = LinearRegression()  \n",
    "model_regres.fit(X_train, y_train)"
   ]
  },
  {
   "cell_type": "code",
   "execution_count": 28,
   "metadata": {},
   "outputs": [
    {
     "name": "stdout",
     "output_type": "stream",
     "text": [
      "[[179052.52783277  80695.80771541]]\n",
      "[-973929.22065292]\n"
     ]
    }
   ],
   "source": [
    "print(model_regres.coef_)\n",
    "#Retrieve the intercept:\n",
    "print(model_regres.intercept_)\n",
    "# Model: y = 0.86X + 52.1"
   ]
  },
  {
   "cell_type": "code",
   "execution_count": 29,
   "metadata": {},
   "outputs": [],
   "source": [
    "y_pred = model_regres.predict(X_test)\n"
   ]
  },
  {
   "cell_type": "code",
   "execution_count": 30,
   "metadata": {},
   "outputs": [
    {
     "name": "stdout",
     "output_type": "stream",
     "text": [
      "Mean Absolute Error (MAE): 177423.6415441476\n",
      "Mean Squared Error (MSE): 81887644157.24677\n",
      "Root Mean Squared Error (RMSE): 286160.1722064878\n"
     ]
    }
   ],
   "source": [
    "print('Mean Absolute Error (MAE):', metrics.mean_absolute_error(y_test, y_pred))  \n",
    "print('Mean Squared Error (MSE):', metrics.mean_squared_error(y_test, y_pred))  \n",
    "print('Root Mean Squared Error (RMSE):', np.sqrt(metrics.mean_squared_error(y_test, y_pred)))"
   ]
  },
  {
   "cell_type": "code",
   "execution_count": 31,
   "metadata": {},
   "outputs": [
    {
     "name": "stdout",
     "output_type": "stream",
     "text": [
      "0.46758522109148937\n"
     ]
    }
   ],
   "source": [
    "from sklearn.metrics import r2_score\n",
    "r_2 = r2_score(y_test, y_pred)\n",
    "print(r_2)"
   ]
  },
  {
   "cell_type": "code",
   "execution_count": 158,
   "metadata": {},
   "outputs": [],
   "source": [
    "crossvalidation = KFold(n_splits=10, random_state=1, shuffle=True)"
   ]
  },
  {
   "cell_type": "code",
   "execution_count": 159,
   "metadata": {},
   "outputs": [
    {
     "name": "stdout",
     "output_type": "stream",
     "text": [
      "[-8.21235929e+10 -5.85787187e+10 -8.81917377e+10 -8.44317020e+10\n",
      " -7.63457961e+10 -6.92289677e+10 -6.96669145e+10 -7.20954045e+10\n",
      " -7.67837441e+10 -7.03880119e+10]\n",
      "Avg MSE: -74783459006.10275\n",
      "[0.45263558 0.42997206 0.42646778 0.45067412 0.44702781 0.47965495\n",
      " 0.46338639 0.44051446 0.44022777 0.43077628]\n",
      "Avg R2: 0.44613371861368945\n"
     ]
    }
   ],
   "source": [
    "scores = cross_val_score(model_regres, X, y, scoring=\"neg_mean_absolute_error\", cv=crossvalidation,  n_jobs=1)\n",
    "print(scores)\n",
    "print(\"Avg MAE: \" + str(np.mean(scores)))\n",
    "\n",
    "scores = cross_val_score(model_regres, X, y, scoring=\"neg_mean_squared_error\", cv=crossvalidation,  n_jobs=1)\n",
    "print(scores)\n",
    "print(\"Avg MSE: \" + str(np.mean(scores)))\n",
    "\n",
    "scores = cross_val_score(model_regres, X, y, scoring=\"neg_root_mean_squared_error\", cv=crossvalidation,  n_jobs=1)\n",
    "print(scores)\n",
    "print(\"Avg RMSE: \" + str(np.mean(scores)))\n",
    "\n",
    "scores = cross_val_score(model_regres, X, y, scoring=\"r2\", cv=crossvalidation,  n_jobs=1)\n",
    "print(scores)\n",
    "print(\"Avg R2: \" + str(np.mean(scores)))"
   ]
  },
  {
   "cell_type": "code",
   "execution_count": 78,
   "metadata": {},
   "outputs": [
    {
     "name": "stdout",
     "output_type": "stream",
     "text": [
      "[[3.05529107e+08]\n",
      " [6.34300970e+08]\n",
      " [1.99032289e+08]\n",
      " ...\n",
      " [2.63969373e+08]\n",
      " [4.14623408e+08]\n",
      " [2.63969373e+08]]\n"
     ]
    }
   ],
   "source": [
    "pkl_filename = \"House_regres_model.pkl\"  \n",
    "with open(pkl_filename, 'wb') as file:  \n",
    "    pickle.dump(model_regres, file)\n",
    "\n",
    "pkl_filename = \"House_regres_model.pkl\"   \n",
    "with open(pkl_filename, 'rb') as file:  \n",
    "    loaded_model_regres = pickle.load(file)\n",
    "\n",
    "df_new = pd.read_csv('house_price_data_2.csv')\n",
    "X_new = df_new[['sqft_living', 'sqft_above']].values\n",
    "\n",
    "y_pred_new = loaded_model_regres.predict(X_new)\n",
    "print(y_pred_new)"
   ]
  },
  {
   "cell_type": "code",
   "execution_count": 79,
   "metadata": {},
   "outputs": [],
   "source": [
    "pkl_filename = \"House_regres_model.pkl\"   \n",
    "with open(pkl_filename, 'rb') as file:  \n",
    "    loaded_model_regres = pickle.load(file)"
   ]
  },
  {
   "cell_type": "code",
   "execution_count": 80,
   "metadata": {},
   "outputs": [],
   "source": [
    "df_new = pd.read_csv('house_price_data_2.csv')\n",
    "X_new = df_new[['sqft_living', 'sqft_above', 'grade']].values"
   ]
  },
  {
   "cell_type": "code",
   "execution_count": 9,
   "metadata": {},
   "outputs": [
    {
     "data": {
      "text/plain": [
       "(100, 6)"
      ]
     },
     "execution_count": 9,
     "metadata": {},
     "output_type": "execute_result"
    }
   ],
   "source": [
    "df_test = pd.read_csv('house_price_data_new.csv')\n",
    "df_test.shape"
   ]
  },
  {
   "cell_type": "code",
   "execution_count": 15,
   "metadata": {},
   "outputs": [
    {
     "data": {
      "text/html": [
       "<div>\n",
       "<style scoped>\n",
       "    .dataframe tbody tr th:only-of-type {\n",
       "        vertical-align: middle;\n",
       "    }\n",
       "\n",
       "    .dataframe tbody tr th {\n",
       "        vertical-align: top;\n",
       "    }\n",
       "\n",
       "    .dataframe thead th {\n",
       "        text-align: right;\n",
       "    }\n",
       "</style>\n",
       "<table border=\"1\" class=\"dataframe\">\n",
       "  <thead>\n",
       "    <tr style=\"text-align: right;\">\n",
       "      <th></th>\n",
       "      <th>price</th>\n",
       "      <th>bathrooms</th>\n",
       "      <th>sqft_living</th>\n",
       "      <th>grade</th>\n",
       "      <th>sqft_above</th>\n",
       "      <th>sqft_living15</th>\n",
       "    </tr>\n",
       "  </thead>\n",
       "  <tbody>\n",
       "    <tr>\n",
       "      <th>0</th>\n",
       "      <td>582447.4</td>\n",
       "      <td>2</td>\n",
       "      <td>2270</td>\n",
       "      <td>8</td>\n",
       "      <td>2270</td>\n",
       "      <td>2240</td>\n",
       "    </tr>\n",
       "    <tr>\n",
       "      <th>1</th>\n",
       "      <td>289759.4</td>\n",
       "      <td>1</td>\n",
       "      <td>1070</td>\n",
       "      <td>7</td>\n",
       "      <td>1070</td>\n",
       "      <td>1220</td>\n",
       "    </tr>\n",
       "    <tr>\n",
       "      <th>2</th>\n",
       "      <td>608950.6</td>\n",
       "      <td>2</td>\n",
       "      <td>2450</td>\n",
       "      <td>8</td>\n",
       "      <td>2450</td>\n",
       "      <td>2200</td>\n",
       "    </tr>\n",
       "    <tr>\n",
       "      <th>3</th>\n",
       "      <td>267993.0</td>\n",
       "      <td>2</td>\n",
       "      <td>1710</td>\n",
       "      <td>6</td>\n",
       "      <td>1710</td>\n",
       "      <td>1030</td>\n",
       "    </tr>\n",
       "    <tr>\n",
       "      <th>4</th>\n",
       "      <td>667890.6</td>\n",
       "      <td>1</td>\n",
       "      <td>2450</td>\n",
       "      <td>8</td>\n",
       "      <td>1750</td>\n",
       "      <td>1760</td>\n",
       "    </tr>\n",
       "  </tbody>\n",
       "</table>\n",
       "</div>"
      ],
      "text/plain": [
       "      price  bathrooms  sqft_living  grade  sqft_above  sqft_living15\n",
       "0  582447.4          2         2270      8        2270           2240\n",
       "1  289759.4          1         1070      7        1070           1220\n",
       "2  608950.6          2         2450      8        2450           2200\n",
       "3  267993.0          2         1710      6        1710           1030\n",
       "4  667890.6          1         2450      8        1750           1760"
      ]
     },
     "execution_count": 15,
     "metadata": {},
     "output_type": "execute_result"
    }
   ],
   "source": [
    "price = -679787.4 + (df_test[\"sqft_living\"] * 231.44 ) + (df_test[\"grade\"] * 116000 ) + ( df_test[\"sqft_above\"] * -84.2)\n",
    "df_test[\"price\"] = price\n",
    "# print(df_test)\n",
    "df_test.head()"
   ]
  },
  {
   "cell_type": "code",
   "execution_count": 9,
   "metadata": {},
   "outputs": [],
   "source": [
    "X = np.arange(-6.0, 6.0, 0.1)\n",
    "Y = np.exp(X) "
   ]
  },
  {
   "cell_type": "code",
   "execution_count": 10,
   "metadata": {},
   "outputs": [
    {
     "data": {
      "image/png": "[encoded data removed]",
      "text/plain": [
       "<Figure size 432x288 with 1 Axes>"
      ]
     },
     "metadata": {
      "needs_background": "light"
     },
     "output_type": "display_data"
    }
   ],
   "source": [
    "\n",
    "plt.plot(X, Y, 'r') \n",
    "plt.ylabel('Variable Dependent')\n",
    "plt.xlabel('Variable Indepdendent')\n",
    "plt.show()"
   ]
  },
  {
   "cell_type": "code",
   "execution_count": null,
   "metadata": {},
   "outputs": [],
   "source": []
  },
  {
   "cell_type": "code",
   "execution_count": 20,
   "metadata": {},
   "outputs": [],
   "source": [
    "import numpy as np\n",
    "from sklearn.ensemble import RandomForestRegressor\n",
    "\n",
    "model_RFR = RandomForestRegressor()\n",
    "\n",
    "# Buat array dari dataframe\n",
    "X_train_RFR = np.array(X_train)\n",
    "X_test_RFR = np.array(X_test)\n",
    "\n",
    "y_train_RFR = np.array(y_train)\n",
    "\n",
    "# Ubah format y_train ke array \n",
    "y_train_RFR_2 = y_train_RFR.ravel()\n",
    "\n",
    "# train the model\n",
    "model_RFR.fit(X_train_RFR, y_train_RFR_2)\n",
    "\n",
    "# predict on test data\n",
    "y_predRFR = model_RFR.predict(X_test_RFR)"
   ]
  },
  {
   "cell_type": "code",
   "execution_count": 33,
   "metadata": {},
   "outputs": [
    {
     "name": "stdout",
     "output_type": "stream",
     "text": [
      "\n",
      "Model regresi non-liner:\n",
      "MAE model non-linear: 164368.38046714597\n",
      "MSE model non-linear: 67474396527.354454\n",
      "RMSE model non-linear:: 259758.34255583488\n"
     ]
    }
   ],
   "source": [
    "print('')\n",
    "print('Model regresi non-liner:')\n",
    "print('MAE model non-linear:', metrics.mean_absolute_error(y_test, y_predRFR))  \n",
    "print('MSE model non-linear:', metrics.mean_squared_error(y_test, y_predRFR))  \n",
    "print('RMSE model non-linear::', np.sqrt(metrics.mean_squared_error(y_test, y_predRFR)))"
   ]
  },
  {
   "cell_type": "code",
   "execution_count": 34,
   "metadata": {},
   "outputs": [
    {
     "name": "stdout",
     "output_type": "stream",
     "text": [
      "R^2 model non-linear:  0.561296868669076\n"
     ]
    }
   ],
   "source": [
    "from sklearn.metrics import r2_score\n",
    "r_2 = r2_score(y_test, y_predRFR)\n",
    "print('R^2 model non-linear: ', r_2)"
   ]
  },
  {
   "cell_type": "markdown",
   "metadata": {},
   "source": [
    "-------------------------------------------"
   ]
  },
  {
   "cell_type": "code",
   "execution_count": 33,
   "metadata": {},
   "outputs": [
    {
     "data": {
      "image/png": "[encoded data removed]",
      "text/plain": [
       "<Figure size 504x360 with 1 Axes>"
      ]
     },
     "metadata": {},
     "output_type": "display_data"
    }
   ],
   "source": [
    "plt.figure(figsize=(7,5))\n",
    "x_data, y_data = (df[\"grade\"].values, df[\"price\"].values)\n",
    "plt.plot(x_data, y_data, 'ro')\n",
    "plt.ylabel('price')\n",
    "plt.xlabel('year')\n",
    "plt.show()\n"
   ]
  },
  {
   "cell_type": "code",
   "execution_count": 53,
   "metadata": {},
   "outputs": [
    {
     "name": "stdout",
     "output_type": "stream",
     "text": [
      "[ 0.31561757 10.63072748]\n"
     ]
    }
   ],
   "source": [
    "log_x_data = np.log(x_data)\n",
    "log_y_data = np.log(y_data)\n",
    "\n",
    "curve_fit = np.polyfit(x_data, log_y_data, 1)\n",
    "print(curve_fit)"
   ]
  },
  {
   "cell_type": "code",
   "execution_count": 80,
   "metadata": {},
   "outputs": [
    {
     "data": {
      "text/plain": [
       "[<matplotlib.lines.Line2D at 0x15af1eb4eb0>]"
      ]
     },
     "execution_count": 80,
     "metadata": {},
     "output_type": "execute_result"
    },
    {
     "data": {
      "image/png": "[encoded data removed]",
      "text/plain": [
       "<Figure size 360x504 with 1 Axes>"
      ]
     },
     "metadata": {},
     "output_type": "display_data"
    }
   ],
   "source": [
    "y = np.exp(10.6307) * np.exp(0.3156*x_data)\n",
    "plt.plot(x_data, y_data, \"ro\")\n",
    "plt.plot(x_data, y)"
   ]
  },
  {
   "cell_type": "code",
   "execution_count": 57,
   "metadata": {},
   "outputs": [],
   "source": [
    "def monoExp(x, m, t, b):\n",
    "    return m * np.exp(-t * x) + b"
   ]
  },
  {
   "cell_type": "code",
   "execution_count": 60,
   "metadata": {},
   "outputs": [],
   "source": [
    "p0 = (2000, .1, 50) # start with values near those we expect\n",
    "params, cv = scipy.optimize.curve_fit(monoExp, x_data, y_data, p0)\n",
    "m, t, b = params\n",
    "sampleRate = 20_000 # Hz\n",
    "tauSec = (1 / t) / sampleRate"
   ]
  },
  {
   "cell_type": "code",
   "execution_count": 40,
   "metadata": {},
   "outputs": [
    {
     "data": {
      "image/png": "[encoded data removed]",
      "text/plain": [
       "<Figure size 432x288 with 1 Axes>"
      ]
     },
     "metadata": {
      "needs_background": "light"
     },
     "output_type": "display_data"
    }
   ],
   "source": [
    "# Pemilihan model regresi non-linear:\n",
    "# Berdasar observasi pada scatter plot dapat diketahui bahwa\n",
    "# fungsi yang cocok didekati: Fungsi Sigmoid/logistik\n",
    "X = np.arange(-5,5.0, 0.1)\n",
    "Y = np.exp(X)\n",
    "\n",
    "plt.plot(X,Y,'g') \n",
    "plt.ylabel('Variable Dependent')\n",
    "plt.xlabel('Variable Indepdendent')\n",
    "plt.show()"
   ]
  },
  {
   "cell_type": "code",
   "execution_count": 47,
   "metadata": {},
   "outputs": [],
   "source": [
    "def exponent(x, Beta_1, Beta_2):\n",
    "     y = np.exp(Beta_1*(x+Beta_2))\n",
    "     return y\n"
   ]
  },
  {
   "cell_type": "code",
   "execution_count": 48,
   "metadata": {},
   "outputs": [],
   "source": [
    "\n",
    "# Nilai parameter awal yg dicoba\n",
    "beta_1 = 0.10\n",
    "beta_2 = 1990.0\n",
    "\n",
    "# Pemanggilan fungsi utk prediksi inisial/awal\n",
    "Y_pred = exponent(x_data, beta_1 , beta_2)"
   ]
  },
  {
   "cell_type": "code",
   "execution_count": 49,
   "metadata": {},
   "outputs": [],
   "source": [
    "xdata =x_data/max(x_data)\n",
    "ydata =y_data/max(y_data)"
   ]
  },
  {
   "cell_type": "code",
   "execution_count": 50,
   "metadata": {},
   "outputs": [
    {
     "name": "stdout",
     "output_type": "stream",
     "text": [
      " beta_1 = 4.409353, beta_2 = -1.212633\n"
     ]
    }
   ],
   "source": [
    "popt, pcov = curve_fit(exponent, xdata, ydata)\n",
    "\n",
    "print(\" beta_1 = %f, beta_2 = %f\" % (popt[0], popt[1]))"
   ]
  },
  {
   "cell_type": "code",
   "execution_count": 51,
   "metadata": {},
   "outputs": [
    {
     "data": {
      "image/png": "[encoded data removed]",
      "text/plain": [
       "<Figure size 576x360 with 1 Axes>"
      ]
     },
     "metadata": {},
     "output_type": "display_data"
    }
   ],
   "source": [
    "# Buat plot data GDP China vs fungsi sigmoid dengan parameter beta1 & beta2 yg\\\n",
    "# sudah optimal (hasil fitting)\n",
    "\n",
    "x = np.linspace(1, 10, 55)\n",
    "x = x/max(x)\n",
    "plt.figure(figsize=(8,5))\n",
    "y = exponent(x, *popt)\n",
    "plt.plot(xdata, ydata, 'ro', label='data')\n",
    "plt.plot(x,y, 'g', linewidth=3.0, label='fit')\n",
    "plt.legend(loc='best')\n",
    "plt.ylabel('Normalized GDP')\n",
    "plt.xlabel('Normalized Year')\n",
    "plt.show()"
   ]
  },
  {
   "cell_type": "code",
   "execution_count": 69,
   "metadata": {},
   "outputs": [
    {
     "name": "stdout",
     "output_type": "stream",
     "text": [
      "MAE:  0.021527043918881435\n",
      "MSE:  0.0010720761711518565\n",
      "Max(GDP):  7700000.0\n",
      "MAE x max(GDP):  165758.23817538706\n",
      "MSE x max(GDP):  8254.986517869294\n"
     ]
    }
   ],
   "source": [
    "\n",
    "\n",
    "\n",
    "# Selanjutnya akan diukur kualitas dari model (fungsi sigmoid di atas).\n",
    "# Split data GDP China ke data train dan test\n",
    "msk = np.random.rand(len(df)) < 0.8\n",
    "train_x = xdata[msk]\n",
    "test_x = xdata[~msk]\n",
    "train_y = ydata[msk]\n",
    "test_y = ydata[~msk]\n",
    "\n",
    "# Buat model dengan dataset train \n",
    "popt, pcov = curve_fit(exponent, train_x, train_y)\n",
    "\n",
    "# Lakukan prediksi target (nilai GDP) dengan dataset test \n",
    "y_hat = exponent(test_x, *popt)\n",
    "\n",
    "# Evaluasi model\n",
    "MAE = np.mean(np.absolute(y_hat - test_y))\n",
    "MSE = np.mean((y_hat - test_y) ** 2)\n",
    "print(\"MAE: \", MAE)\n",
    "print(\"MSE: \", MSE)\n",
    "# Hasil MAE & MSE di atas terlihat kecil krn rentang nilai GDP \n",
    "# sudah dinormalisasi (dibagi nilai max GDP)\n",
    "\n",
    "# Jika error dikalikan dg max dari nilai GDP:\n",
    "print(\"Max(GDP): \", max(y_data)) \n",
    "print(\"MAE x max(GDP): \", MAE*max(y_data)) \n",
    "print(\"MSE x max(GDP): \", MSE*max(y_data))"
   ]
  },
  {
   "cell_type": "markdown",
   "metadata": {},
   "source": [
    "--------------------------------"
   ]
  },
  {
   "cell_type": "code",
   "execution_count": 146,
   "metadata": {},
   "outputs": [
    {
     "data": {
      "image/png": "[encoded data removed]",
      "text/plain": [
       "<Figure size 504x360 with 1 Axes>"
      ]
     },
     "metadata": {
      "needs_background": "light"
     },
     "output_type": "display_data"
    }
   ],
   "source": [
    "plt.figure(figsize=(7,5))\n",
    "x_data, y_data = (df[\"sqft_lot15\"].values, df[\"price\"].values)\n",
    "plt.plot(x_data, y_data, 'ro')\n",
    "plt.ylabel('lot')\n",
    "plt.xlabel('year')\n",
    "plt.show()"
   ]
  },
  {
   "cell_type": "code",
   "execution_count": 158,
   "metadata": {},
   "outputs": [],
   "source": [
    "def exponent(x, Beta_1, Beta_2):\n",
    "     y = np.exp(Beta_2*(x-Beta_1))\n",
    "     return y"
   ]
  },
  {
   "cell_type": "code",
   "execution_count": 159,
   "metadata": {},
   "outputs": [
    {
     "name": "stderr",
     "output_type": "stream",
     "text": [
      "C:\\Users\\anton\\AppData\\Local\\Temp\\ipykernel_8468\\733529281.py:2: RuntimeWarning: overflow encountered in exp\n",
      "  y = np.exp(Beta_2*(x-Beta_1))\n"
     ]
    }
   ],
   "source": [
    "beta_1 = 0.10\n",
    "beta_2 = 1990.0\n",
    "\n",
    "# Pemanggilan fungsi utk prediksi inisial/awal\n",
    "Y_pred = exponent(x_data, beta_1 , beta_2)"
   ]
  },
  {
   "cell_type": "code",
   "execution_count": 14,
   "metadata": {},
   "outputs": [
    {
     "ename": "NameError",
     "evalue": "name 'x_data' is not defined",
     "output_type": "error",
     "traceback": [
      "\u001b[1;31m---------------------------------------------------------------------------\u001b[0m",
      "\u001b[1;31mNameError\u001b[0m                                 Traceback (most recent call last)",
      "\u001b[1;32mc:\\Users\\anton\\OneDrive\\Documents\\Semester 5\\Pengantar Penambangan\\tugas2.ipynb Cell 51\u001b[0m in \u001b[0;36m<module>\u001b[1;34m\u001b[0m\n\u001b[1;32m----> <a href='vscode-notebook-cell:/c%3A/Users/anton/OneDrive/Documents/Semester%205/Pengantar%20Penambangan/tugas2.ipynb#Y101sZmlsZQ%3D%3D?line=0'>1</a>\u001b[0m xdata \u001b[39m=\u001b[39mx_data\u001b[39m/\u001b[39m\u001b[39mmax\u001b[39m(x_data)\n\u001b[0;32m      <a href='vscode-notebook-cell:/c%3A/Users/anton/OneDrive/Documents/Semester%205/Pengantar%20Penambangan/tugas2.ipynb#Y101sZmlsZQ%3D%3D?line=1'>2</a>\u001b[0m ydata \u001b[39m=\u001b[39my_data\u001b[39m/\u001b[39m\u001b[39mmax\u001b[39m(y_data)\n",
      "\u001b[1;31mNameError\u001b[0m: name 'x_data' is not defined"
     ]
    }
   ],
   "source": [
    "xdata =x_data/max(x_data)\n",
    "ydata =y_data/max(y_data)"
   ]
  },
  {
   "cell_type": "code",
   "execution_count": 32,
   "metadata": {},
   "outputs": [
    {
     "name": "stdout",
     "output_type": "stream",
     "text": [
      " beta_1 = 4.409353, beta_2 = -1.212633\n"
     ]
    }
   ],
   "source": [
    "popt, pcov = curve_fit(exponent, xdata, ydata)\n",
    "\n",
    "print(\" beta_1 = %f, beta_2 = %f\" % (popt[0], popt[1]))"
   ]
  },
  {
   "cell_type": "code",
   "execution_count": 162,
   "metadata": {},
   "outputs": [
    {
     "data": {
      "image/png": "[encoded data removed]",
      "text/plain": [
       "<Figure size 576x360 with 1 Axes>"
      ]
     },
     "metadata": {
      "needs_background": "light"
     },
     "output_type": "display_data"
    }
   ],
   "source": [
    "x = np.linspace(1, 10, 55)\n",
    "x = x/max(x)\n",
    "plt.figure(figsize=(8,5))\n",
    "y = exponent(x, *popt)\n",
    "plt.plot(xdata, ydata, 'ro', label='data')\n",
    "plt.plot(x,y, 'g', linewidth=3.0, label='fit')\n",
    "plt.legend(loc='best')\n",
    "plt.ylabel('Normalized GDP')\n",
    "plt.xlabel('Normalized Year')\n",
    "plt.show()"
   ]
  },
  {
   "cell_type": "code",
   "execution_count": 157,
   "metadata": {},
   "outputs": [
    {
     "name": "stdout",
     "output_type": "stream",
     "text": [
      "MAE:  0.030668800875350004\n",
      "MSE:  0.002300582987965716\n",
      "Max(GDP):  7700000.0\n",
      "MAE x max(GDP):  236149.76674019502\n",
      "MSE x max(GDP):  17714.489007336015\n"
     ]
    }
   ],
   "source": [
    "msk = np.random.rand(len(df)) < 0.8\n",
    "train_x = xdata[msk]\n",
    "test_x = xdata[~msk]\n",
    "train_y = ydata[msk]\n",
    "test_y = ydata[~msk]\n",
    "\n",
    "# Buat model dengan dataset train \n",
    "popt, pcov = curve_fit(exponent, train_x, train_y)\n",
    "\n",
    "# Lakukan prediksi target (nilai GDP) dengan dataset test \n",
    "y_hat = exponent(test_x, *popt)\n",
    "\n",
    "# Evaluasi model\n",
    "MAE = np.mean(np.absolute(y_hat - test_y))\n",
    "MSE = np.mean((y_hat - test_y) ** 2)\n",
    "print(\"MAE: \", MAE)\n",
    "print(\"MSE: \", MSE)\n",
    "# Hasil MAE & MSE di atas terlihat kecil krn rentang nilai GDP \n",
    "# sudah dinormalisasi (dibagi nilai max GDP)\n",
    "\n",
    "# Jika error dikalikan dg max dari nilai GDP:\n",
    "print(\"Max(GDP): \", max(y_data)) \n",
    "print(\"MAE x max(GDP): \", MAE*max(y_data)) \n",
    "print(\"MSE x max(GDP): \", MSE*max(y_data))"
   ]
  },
  {
   "cell_type": "code",
   "execution_count": 10,
   "metadata": {},
   "outputs": [],
   "source": [
    "Y = np.exp(X)"
   ]
  },
  {
   "cell_type": "code",
   "execution_count": 13,
   "metadata": {},
   "outputs": [
    {
     "data": {
      "text/plain": [
       "[<matplotlib.lines.Line2D at 0x15abad8b7c0>,\n",
       " <matplotlib.lines.Line2D at 0x15abbd9bac0>]"
      ]
     },
     "execution_count": 13,
     "metadata": {},
     "output_type": "execute_result"
    },
    {
     "data": {
      "image/png": "[encoded data removed]",
      "text/plain": [
       "<Figure size 360x504 with 1 Axes>"
      ]
     },
     "metadata": {},
     "output_type": "display_data"
    }
   ],
   "source": [
    "plt.plot(X, Y, 'r') "
   ]
  },
  {
   "cell_type": "code",
   "execution_count": 30,
   "metadata": {},
   "outputs": [
    {
     "ename": "RuntimeError",
     "evalue": "Optimal parameters not found: Number of calls to function has reached maxfev = 800.",
     "output_type": "error",
     "traceback": [
      "\u001b[1;31m---------------------------------------------------------------------------\u001b[0m",
      "\u001b[1;31mRuntimeError\u001b[0m                              Traceback (most recent call last)",
      "\u001b[1;32mc:\\Users\\anton\\OneDrive\\Documents\\Semester 5\\Pengantar Penambangan\\tugas2.ipynb Cell 57\u001b[0m in \u001b[0;36m<module>\u001b[1;34m\u001b[0m\n\u001b[1;32m----> <a href='vscode-notebook-cell:/c%3A/Users/anton/OneDrive/Documents/Semester%205/Pengantar%20Penambangan/tugas2.ipynb#Y110sZmlsZQ%3D%3D?line=0'>1</a>\u001b[0m popt, pcov \u001b[39m=\u001b[39m curve_fit(\u001b[39mlambda\u001b[39;49;00m t, a, b, c: a \u001b[39m*\u001b[39;49m np\u001b[39m.\u001b[39;49mexp(b \u001b[39m*\u001b[39;49m t) \u001b[39m+\u001b[39;49m c, xdata, ydata)\n",
      "File \u001b[1;32m~\\AppData\\Roaming\\Python\\Python310\\site-packages\\scipy\\optimize\\_minpack_py.py:794\u001b[0m, in \u001b[0;36mcurve_fit\u001b[1;34m(f, xdata, ydata, p0, sigma, absolute_sigma, check_finite, bounds, method, jac, **kwargs)\u001b[0m\n\u001b[0;32m    792\u001b[0m     cost \u001b[39m=\u001b[39m np\u001b[39m.\u001b[39msum(infodict[\u001b[39m'\u001b[39m\u001b[39mfvec\u001b[39m\u001b[39m'\u001b[39m] \u001b[39m*\u001b[39m\u001b[39m*\u001b[39m \u001b[39m2\u001b[39m)\n\u001b[0;32m    793\u001b[0m     \u001b[39mif\u001b[39;00m ier \u001b[39mnot\u001b[39;00m \u001b[39min\u001b[39;00m [\u001b[39m1\u001b[39m, \u001b[39m2\u001b[39m, \u001b[39m3\u001b[39m, \u001b[39m4\u001b[39m]:\n\u001b[1;32m--> 794\u001b[0m         \u001b[39mraise\u001b[39;00m \u001b[39mRuntimeError\u001b[39;00m(\u001b[39m\"\u001b[39m\u001b[39mOptimal parameters not found: \u001b[39m\u001b[39m\"\u001b[39m \u001b[39m+\u001b[39m errmsg)\n\u001b[0;32m    795\u001b[0m \u001b[39melse\u001b[39;00m:\n\u001b[0;32m    796\u001b[0m     \u001b[39m# Rename maxfev (leastsq) to max_nfev (least_squares), if specified.\u001b[39;00m\n\u001b[0;32m    797\u001b[0m     \u001b[39mif\u001b[39;00m \u001b[39m'\u001b[39m\u001b[39mmax_nfev\u001b[39m\u001b[39m'\u001b[39m \u001b[39mnot\u001b[39;00m \u001b[39min\u001b[39;00m kwargs:\n",
      "\u001b[1;31mRuntimeError\u001b[0m: Optimal parameters not found: Number of calls to function has reached maxfev = 800."
     ]
    }
   ],
   "source": [
    "popt, pcov = curve_fit(lambda t, a, b, c: a * np.exp(b * t) + c, xdata, ydata)\n"
   ]
  },
  {
   "cell_type": "code",
   "execution_count": 31,
   "metadata": {},
   "outputs": [
    {
     "ename": "NameError",
     "evalue": "name 'popt' is not defined",
     "output_type": "error",
     "traceback": [
      "\u001b[1;31m---------------------------------------------------------------------------\u001b[0m",
      "\u001b[1;31mNameError\u001b[0m                                 Traceback (most recent call last)",
      "\u001b[1;32mc:\\Users\\anton\\OneDrive\\Documents\\Semester 5\\Pengantar Penambangan\\tugas2.ipynb Cell 58\u001b[0m in \u001b[0;36m<module>\u001b[1;34m\u001b[0m\n\u001b[1;32m----> <a href='vscode-notebook-cell:/c%3A/Users/anton/OneDrive/Documents/Semester%205/Pengantar%20Penambangan/tugas2.ipynb#Y112sZmlsZQ%3D%3D?line=0'>1</a>\u001b[0m a \u001b[39m=\u001b[39m popt[\u001b[39m0\u001b[39m]\n\u001b[0;32m      <a href='vscode-notebook-cell:/c%3A/Users/anton/OneDrive/Documents/Semester%205/Pengantar%20Penambangan/tugas2.ipynb#Y112sZmlsZQ%3D%3D?line=1'>2</a>\u001b[0m b \u001b[39m=\u001b[39m popt[\u001b[39m1\u001b[39m]\n\u001b[0;32m      <a href='vscode-notebook-cell:/c%3A/Users/anton/OneDrive/Documents/Semester%205/Pengantar%20Penambangan/tugas2.ipynb#Y112sZmlsZQ%3D%3D?line=2'>3</a>\u001b[0m c \u001b[39m=\u001b[39m popt[\u001b[39m2\u001b[39m]\n",
      "\u001b[1;31mNameError\u001b[0m: name 'popt' is not defined"
     ]
    }
   ],
   "source": [
    "a = popt[0]\n",
    "b = popt[1]\n",
    "c = popt[2]"
   ]
  },
  {
   "cell_type": "code",
   "execution_count": 29,
   "metadata": {},
   "outputs": [
    {
     "ename": "NameError",
     "evalue": "name 'a' is not defined",
     "output_type": "error",
     "traceback": [
      "\u001b[1;31m---------------------------------------------------------------------------\u001b[0m",
      "\u001b[1;31mNameError\u001b[0m                                 Traceback (most recent call last)",
      "\u001b[1;32mc:\\Users\\anton\\OneDrive\\Documents\\Semester 5\\Pengantar Penambangan\\tugas2.ipynb Cell 58\u001b[0m in \u001b[0;36m<module>\u001b[1;34m\u001b[0m\n\u001b[0;32m      <a href='vscode-notebook-cell:/c%3A/Users/anton/OneDrive/Documents/Semester%205/Pengantar%20Penambangan/tugas2.ipynb#Y111sZmlsZQ%3D%3D?line=0'>1</a>\u001b[0m x_fitted \u001b[39m=\u001b[39m np\u001b[39m.\u001b[39mlinspace(np\u001b[39m.\u001b[39mmin(xdata), np\u001b[39m.\u001b[39mmax(xdata), \u001b[39m100\u001b[39m)\n\u001b[1;32m----> <a href='vscode-notebook-cell:/c%3A/Users/anton/OneDrive/Documents/Semester%205/Pengantar%20Penambangan/tugas2.ipynb#Y111sZmlsZQ%3D%3D?line=1'>2</a>\u001b[0m y_fitted \u001b[39m=\u001b[39m a \u001b[39m*\u001b[39m np\u001b[39m.\u001b[39mexp(b \u001b[39m*\u001b[39m x_fitted) \u001b[39m+\u001b[39m c\n",
      "\u001b[1;31mNameError\u001b[0m: name 'a' is not defined"
     ]
    }
   ],
   "source": [
    "x_fitted = np.linspace(np.min(xdata), np.max(xdata), 100)\n",
    "y_fitted = a * np.exp(b * x_fitted) + c"
   ]
  }
 ],
 "metadata": {
  "kernelspec": {
   "display_name": "Python 3.10.1 64-bit",
   "language": "python",
   "name": "python3"
  },
  "language_info": {
   "codemirror_mode": {
    "name": "ipython",
    "version": 3
   },
   "file_extension": ".py",
   "mimetype": "text/x-python",
   "name": "python",
   "nbconvert_exporter": "python",
   "pygments_lexer": "ipython3",
   "version": "3.10.1 (tags/v3.10.1:2cd268a, Dec  6 2021, 19:10:37) [MSC v.1929 64 bit (AMD64)]"
  },
  "orig_nbformat": 4,
  "vscode": {
   "interpreter": {
    "hash": "4604fddfbe3ec3d9d385c207fa0ddb9a05dfef66380401ad05b04bbd42d45367"
   }
  }
 },
 "nbformat": 4,
 "nbformat_minor": 2
}
