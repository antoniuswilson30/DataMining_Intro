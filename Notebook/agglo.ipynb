{
 "cells": [
  {
   "cell_type": "code",
   "execution_count": 1,
   "metadata": {},
   "outputs": [],
   "source": [
    "import pandas as pd\n",
    "import seaborn as sns\n",
    "import numpy as np\n",
    "import pickle\n",
    "import matplotlib.pyplot as plt\n",
    "import scipy.cluster.hierarchy as sch\n",
    "import time\n",
    "from sklearn.cluster import AgglomerativeClustering\n",
    "from sklearn.cluster import KMeans\n",
    "from sklearn.metrics import silhouette_score\n",
    "from scipy.cluster.hierarchy import cut_tree\n",
    "from scipy.cluster.hierarchy import linkage"
   ]
  },
  {
   "cell_type": "code",
   "execution_count": 64,
   "metadata": {},
   "outputs": [],
   "source": [
    "df = pd.read_csv('Mall_Customers.csv', delimiter = ',')\n",
    "df['Gender'].replace(['Male', 'Female'], [1, 0], inplace=True)"
   ]
  },
  {
   "cell_type": "code",
   "execution_count": 65,
   "metadata": {},
   "outputs": [],
   "source": [
    "dt_10kol = df[['Annual Income (k$)', 'Spending Score (1-100)']]"
   ]
  },
  {
   "cell_type": "code",
   "execution_count": 66,
   "metadata": {},
   "outputs": [],
   "source": [
    "array_10kol = np.array(dt_10kol.values)\n",
    "X = array_10kol"
   ]
  },
  {
   "cell_type": "code",
   "execution_count": 67,
   "metadata": {},
   "outputs": [],
   "source": [
    "dt = df[['Annual Income (k$)', 'Spending Score (1-100)']]\n"
   ]
  },
  {
   "cell_type": "code",
   "execution_count": 68,
   "metadata": {},
   "outputs": [],
   "source": [
    "# models = linkage(dt, method='complete',metric='euclidean')\n",
    "# labels = cut_tree(models, n_clusters=5).reshape(-1, )\n",
    "\n",
    "# # models = linkage(dt, method='single',metric='euclidean')\n",
    "# # labels = cut_tree(models, n_clusters=2).reshape(-1, )\n",
    "\n",
    "models = linkage(dt, method='average',metric='euclidean')\n",
    "labels = cut_tree(models, n_clusters=7).reshape(-1, )"
   ]
  },
  {
   "cell_type": "code",
   "execution_count": 69,
   "metadata": {},
   "outputs": [],
   "source": [
    "df2 = df"
   ]
  },
  {
   "cell_type": "code",
   "execution_count": 70,
   "metadata": {},
   "outputs": [
    {
     "data": {
      "text/html": [
       "<div>\n",
       "<style scoped>\n",
       "    .dataframe tbody tr th:only-of-type {\n",
       "        vertical-align: middle;\n",
       "    }\n",
       "\n",
       "    .dataframe tbody tr th {\n",
       "        vertical-align: top;\n",
       "    }\n",
       "\n",
       "    .dataframe thead th {\n",
       "        text-align: right;\n",
       "    }\n",
       "</style>\n",
       "<table border=\"1\" class=\"dataframe\">\n",
       "  <thead>\n",
       "    <tr style=\"text-align: right;\">\n",
       "      <th></th>\n",
       "      <th>CustomerID</th>\n",
       "      <th>Gender</th>\n",
       "      <th>Age</th>\n",
       "      <th>Annual Income (k$)</th>\n",
       "      <th>Spending Score (1-100)</th>\n",
       "      <th>Cluster_Id</th>\n",
       "    </tr>\n",
       "  </thead>\n",
       "  <tbody>\n",
       "    <tr>\n",
       "      <th>0</th>\n",
       "      <td>1</td>\n",
       "      <td>1</td>\n",
       "      <td>19</td>\n",
       "      <td>15</td>\n",
       "      <td>39</td>\n",
       "      <td>1</td>\n",
       "    </tr>\n",
       "    <tr>\n",
       "      <th>1</th>\n",
       "      <td>2</td>\n",
       "      <td>1</td>\n",
       "      <td>21</td>\n",
       "      <td>15</td>\n",
       "      <td>81</td>\n",
       "      <td>2</td>\n",
       "    </tr>\n",
       "    <tr>\n",
       "      <th>2</th>\n",
       "      <td>3</td>\n",
       "      <td>0</td>\n",
       "      <td>20</td>\n",
       "      <td>16</td>\n",
       "      <td>6</td>\n",
       "      <td>1</td>\n",
       "    </tr>\n",
       "    <tr>\n",
       "      <th>3</th>\n",
       "      <td>4</td>\n",
       "      <td>0</td>\n",
       "      <td>23</td>\n",
       "      <td>16</td>\n",
       "      <td>77</td>\n",
       "      <td>2</td>\n",
       "    </tr>\n",
       "    <tr>\n",
       "      <th>4</th>\n",
       "      <td>5</td>\n",
       "      <td>0</td>\n",
       "      <td>31</td>\n",
       "      <td>17</td>\n",
       "      <td>40</td>\n",
       "      <td>1</td>\n",
       "    </tr>\n",
       "  </tbody>\n",
       "</table>\n",
       "</div>"
      ],
      "text/plain": [
       "   CustomerID  Gender  Age  Annual Income (k$)  Spending Score (1-100)  \\\n",
       "0           1       1   19                  15                      39   \n",
       "1           2       1   21                  15                      81   \n",
       "2           3       0   20                  16                       6   \n",
       "3           4       0   23                  16                      77   \n",
       "4           5       0   31                  17                      40   \n",
       "\n",
       "   Cluster_Id  \n",
       "0           1  \n",
       "1           2  \n",
       "2           1  \n",
       "3           2  \n",
       "4           1  "
      ]
     },
     "execution_count": 70,
     "metadata": {},
     "output_type": "execute_result"
    }
   ],
   "source": [
    "df2['Cluster_Id'] = labels + 1\n",
    "df2.head()"
   ]
  },
  {
   "cell_type": "code",
   "execution_count": 71,
   "metadata": {},
   "outputs": [
    {
     "data": {
      "text/plain": [
       "3    79\n",
       "4    36\n",
       "5    34\n",
       "1    23\n",
       "2    21\n",
       "6     4\n",
       "7     3\n",
       "Name: Cluster_Id, dtype: int64"
      ]
     },
     "execution_count": 71,
     "metadata": {},
     "output_type": "execute_result"
    }
   ],
   "source": [
    "df2['Cluster_Id'].value_counts()"
   ]
  },
  {
   "cell_type": "code",
   "execution_count": 77,
   "metadata": {},
   "outputs": [
    {
     "name": "stdout",
     "output_type": "stream",
     "text": [
      "Daftar Customer [ 1  3  5  7  9 11 13 15 17 19 21 23 25 27 29 31 33 35 37 39 41 43 45]\n",
      "\n",
      "Daftar Customer [ 2  4  6  8 10 12 14 16 18 20 22 24 26 28 30 32 34 36 38 40 42]\n",
      "\n",
      "Daftar Customer [ 44  46  47  48  49  50  51  52  53  54  55  56  57  58  59  60  61  62\n",
      "  63  64  65  66  67  68  69  70  71  72  73  74  75  76  77  78  79  80\n",
      "  81  82  83  84  85  86  87  88  89  90  91  92  93  94  95  96  97  98\n",
      "  99 100 101 102 103 104 105 106 107 108 109 110 111 112 113 114 115 116\n",
      " 117 118 119 120 121 122 123]\n",
      "\n",
      "Daftar Customer [124 126 128 130 132 134 136 138 140 142 144 146 148 150 152 154 156 158\n",
      " 160 162 164 166 168 170 172 174 176 178 180 182 184 186 188 190 192 194]\n",
      "\n",
      "Daftar Customer [125 127 129 131 133 135 137 139 141 143 145 147 149 151 153 155 157 159\n",
      " 161 163 165 167 169 171 173 175 177 179 181 183 185 187 189 191]\n",
      "\n",
      "Daftar Customer [193 195 197 199]\n",
      "\n",
      "Daftar Customer [196 198 200]\n",
      "\n"
     ]
    }
   ],
   "source": [
    "cluster1=df2[df2['Cluster_Id']==1]\n",
    "print('Daftar Customer', cluster1['CustomerID'].values)\n",
    "print()\n",
    "cluster2=df2[df2['Cluster_Id']==2]\n",
    "print('Daftar Customer', cluster2['CustomerID'].values)\n",
    "print()\n",
    "cluster3=df2[df2['Cluster_Id']==3]\n",
    "print('Daftar Customer', cluster3['CustomerID'].values)\n",
    "print()\n",
    "cluster4=df2[df2['Cluster_Id']==4]\n",
    "print('Daftar Customer', cluster4['CustomerID'].values)\n",
    "print()\n",
    "cluster5=df2[df2['Cluster_Id']==5]\n",
    "print('Daftar Customer', cluster5['CustomerID'].values)\n",
    "print()\n",
    "cluster6=df2[df2['Cluster_Id']==6]\n",
    "print('Daftar Customer', cluster6['CustomerID'].values)\n",
    "print()\n",
    "cluster7=df2[df2['Cluster_Id']==7]\n",
    "print('Daftar Customer', cluster7['CustomerID'].values)\n",
    "print()\n"
   ]
  },
  {
   "cell_type": "code",
   "execution_count": 78,
   "metadata": {},
   "outputs": [
    {
     "name": "stdout",
     "output_type": "stream",
     "text": [
      "            Annual Income (k$)  Spending Score (1-100)\n",
      "Cluster_Id                                            \n",
      "1                    26.304348               20.913043\n",
      "2                    25.095238               80.047619\n",
      "3                    54.417722               50.215190\n",
      "4                    83.111111               82.416667\n",
      "5                    82.647059               18.764706\n",
      "6                   124.000000               17.500000\n",
      "7                   127.666667               78.666667\n"
     ]
    }
   ],
   "source": [
    "print(df2[['Annual Income (k$)','Spending Score (1-100)', 'Cluster_Id']].groupby('Cluster_Id').mean())"
   ]
  },
  {
   "cell_type": "code",
   "execution_count": 79,
   "metadata": {},
   "outputs": [
    {
     "name": "stdout",
     "output_type": "stream",
     "text": [
      "            Annual Income (k$)  Spending Score (1-100)\n",
      "Cluster_Id                                            \n",
      "1                     7.893811               13.017167\n",
      "2                     7.133756               10.249274\n",
      "3                     8.558408                6.275044\n",
      "4                    11.295455                9.640317\n",
      "5                    10.099152               11.281679\n",
      "6                    10.165300                8.225975\n",
      "7                     8.621678                4.509250\n"
     ]
    }
   ],
   "source": [
    "print(df2[['Annual Income (k$)','Spending Score (1-100)', 'Cluster_Id']].groupby('Cluster_Id').std())"
   ]
  },
  {
   "cell_type": "code",
   "execution_count": 80,
   "metadata": {},
   "outputs": [
    {
     "data": {
      "image/png": "[encoded data removed]",
      "text/plain": [
       "<Figure size 720x432 with 1 Axes>"
      ]
     },
     "metadata": {
      "needs_background": "light"
     },
     "output_type": "display_data"
    }
   ],
   "source": [
    "plt.figure(figsize=(10,6))\n",
    "sns.scatterplot(x = 'Annual Income (k$)',y = 'Spending Score (1-100)',hue= labels + 1,  \n",
    "                 palette='colorblind', legend='full',data = df2  ,s = 60 )\n",
    "\n",
    "plt.xlabel('Annual Income (k$)')\n",
    "plt.ylabel('Spending Score (1-100)') \n",
    "plt.title('Scatter Plot')\n",
    "plt.show()"
   ]
  },
  {
   "cell_type": "code",
   "execution_count": 81,
   "metadata": {},
   "outputs": [
    {
     "name": "stdout",
     "output_type": "stream",
     "text": [
      "11.5\n",
      "10.5\n",
      "39.5\n",
      "18.0\n",
      "17.0\n",
      "2.0\n",
      "1.5\n"
     ]
    }
   ],
   "source": [
    "print(len(cluster1) / 200 * 100)\n",
    "print(len(cluster2) / 200 * 100)\n",
    "print(len(cluster3) / 200 * 100)\n",
    "print(len(cluster4) / 200 * 100)\n",
    "print(len(cluster5) / 200 * 100)\n",
    "print(len(cluster6) / 200 * 100)\n",
    "print(len(cluster7) / 200 * 100)"
   ]
  }
 ],
 "metadata": {
  "kernelspec": {
   "display_name": "Python 3",
   "language": "python",
   "name": "python3"
  },
  "language_info": {
   "codemirror_mode": {
    "name": "ipython",
    "version": 3
   },
   "file_extension": ".py",
   "mimetype": "text/x-python",
   "name": "python",
   "nbconvert_exporter": "python",
   "pygments_lexer": "ipython3",
   "version": "3.10.1 (tags/v3.10.1:2cd268a, Dec  6 2021, 19:10:37) [MSC v.1929 64 bit (AMD64)]"
  },
  "orig_nbformat": 4,
  "vscode": {
   "interpreter": {
    "hash": "4604fddfbe3ec3d9d385c207fa0ddb9a05dfef66380401ad05b04bbd42d45367"
   }
  }
 },
 "nbformat": 4,
 "nbformat_minor": 2
}
